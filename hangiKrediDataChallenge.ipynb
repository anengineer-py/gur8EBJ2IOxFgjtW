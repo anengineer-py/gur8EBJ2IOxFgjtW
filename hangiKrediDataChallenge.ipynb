{
 "cells": [
  {
   "cell_type": "code",
   "execution_count": 1,
   "id": "1e908617",
   "metadata": {},
   "outputs": [
    {
     "name": "stdout",
     "output_type": "stream",
     "text": [
      "D:/softwareDev/hangiKrediData/hiringChallenge/hangiKrediDataChallenge.ipynb\n",
      "D:/softwareDev/hangiKrediData/hiringChallenge/term-deposit-marketing.csv\n",
      "D:/softwareDev/hangiKrediData/hiringChallenge/.ipynb_checkpoints\\hangiKrediDataChallenge-checkpoint.ipynb\n",
      "D:/softwareDev/hangiKrediData/hiringChallenge/gur8EBJ2IOxFgjtW\\.gitattributes\n",
      "D:/softwareDev/hangiKrediData/hiringChallenge/gur8EBJ2IOxFgjtW\\hangiKrediDataChallenge.ipynb\n",
      "D:/softwareDev/hangiKrediData/hiringChallenge/gur8EBJ2IOxFgjtW\\LICENSE\n",
      "D:/softwareDev/hangiKrediData/hiringChallenge/gur8EBJ2IOxFgjtW\\README.md\n",
      "D:/softwareDev/hangiKrediData/hiringChallenge/gur8EBJ2IOxFgjtW\\term-deposit-marketing.csv\n",
      "D:/softwareDev/hangiKrediData/hiringChallenge/gur8EBJ2IOxFgjtW\\.git\\COMMIT_EDITMSG\n",
      "D:/softwareDev/hangiKrediData/hiringChallenge/gur8EBJ2IOxFgjtW\\.git\\config\n",
      "D:/softwareDev/hangiKrediData/hiringChallenge/gur8EBJ2IOxFgjtW\\.git\\description\n",
      "D:/softwareDev/hangiKrediData/hiringChallenge/gur8EBJ2IOxFgjtW\\.git\\FETCH_HEAD\n",
      "D:/softwareDev/hangiKrediData/hiringChallenge/gur8EBJ2IOxFgjtW\\.git\\HEAD\n",
      "D:/softwareDev/hangiKrediData/hiringChallenge/gur8EBJ2IOxFgjtW\\.git\\index\n",
      "D:/softwareDev/hangiKrediData/hiringChallenge/gur8EBJ2IOxFgjtW\\.git\\ORIG_HEAD\n",
      "D:/softwareDev/hangiKrediData/hiringChallenge/gur8EBJ2IOxFgjtW\\.git\\hooks\\applypatch-msg.sample\n",
      "D:/softwareDev/hangiKrediData/hiringChallenge/gur8EBJ2IOxFgjtW\\.git\\hooks\\commit-msg.sample\n",
      "D:/softwareDev/hangiKrediData/hiringChallenge/gur8EBJ2IOxFgjtW\\.git\\hooks\\fsmonitor-watchman.sample\n",
      "D:/softwareDev/hangiKrediData/hiringChallenge/gur8EBJ2IOxFgjtW\\.git\\hooks\\post-update.sample\n",
      "D:/softwareDev/hangiKrediData/hiringChallenge/gur8EBJ2IOxFgjtW\\.git\\hooks\\pre-applypatch.sample\n",
      "D:/softwareDev/hangiKrediData/hiringChallenge/gur8EBJ2IOxFgjtW\\.git\\hooks\\pre-commit.sample\n",
      "D:/softwareDev/hangiKrediData/hiringChallenge/gur8EBJ2IOxFgjtW\\.git\\hooks\\pre-merge-commit.sample\n",
      "D:/softwareDev/hangiKrediData/hiringChallenge/gur8EBJ2IOxFgjtW\\.git\\hooks\\pre-push.sample\n",
      "D:/softwareDev/hangiKrediData/hiringChallenge/gur8EBJ2IOxFgjtW\\.git\\hooks\\pre-rebase.sample\n",
      "D:/softwareDev/hangiKrediData/hiringChallenge/gur8EBJ2IOxFgjtW\\.git\\hooks\\pre-receive.sample\n",
      "D:/softwareDev/hangiKrediData/hiringChallenge/gur8EBJ2IOxFgjtW\\.git\\hooks\\prepare-commit-msg.sample\n",
      "D:/softwareDev/hangiKrediData/hiringChallenge/gur8EBJ2IOxFgjtW\\.git\\hooks\\push-to-checkout.sample\n",
      "D:/softwareDev/hangiKrediData/hiringChallenge/gur8EBJ2IOxFgjtW\\.git\\hooks\\update.sample\n",
      "D:/softwareDev/hangiKrediData/hiringChallenge/gur8EBJ2IOxFgjtW\\.git\\info\\exclude\n",
      "D:/softwareDev/hangiKrediData/hiringChallenge/gur8EBJ2IOxFgjtW\\.git\\logs\\HEAD\n",
      "D:/softwareDev/hangiKrediData/hiringChallenge/gur8EBJ2IOxFgjtW\\.git\\logs\\refs\\heads\\main\n",
      "D:/softwareDev/hangiKrediData/hiringChallenge/gur8EBJ2IOxFgjtW\\.git\\logs\\refs\\remotes\\origin\\main\n",
      "D:/softwareDev/hangiKrediData/hiringChallenge/gur8EBJ2IOxFgjtW\\.git\\objects\\01\\078725d769ecbe0e84ff528fcad17b8aeb82c0\n",
      "D:/softwareDev/hangiKrediData/hiringChallenge/gur8EBJ2IOxFgjtW\\.git\\objects\\24\\6fc4a4158f0bd0d10bd258dc5e61d33ca20ec5\n",
      "D:/softwareDev/hangiKrediData/hiringChallenge/gur8EBJ2IOxFgjtW\\.git\\objects\\3f\\0299e0bedeffa19c77263cf7e58887a7ad5223\n",
      "D:/softwareDev/hangiKrediData/hiringChallenge/gur8EBJ2IOxFgjtW\\.git\\objects\\41\\0582f2f200ba695ffaf00629766ab73a46bafe\n",
      "D:/softwareDev/hangiKrediData/hiringChallenge/gur8EBJ2IOxFgjtW\\.git\\objects\\6a\\4c7e49bab931bdc895e5ebcc8349309cf19f9a\n",
      "D:/softwareDev/hangiKrediData/hiringChallenge/gur8EBJ2IOxFgjtW\\.git\\objects\\71\\23fabf7e4af28a370f18a5c9c37b33ba7e06e8\n",
      "D:/softwareDev/hangiKrediData/hiringChallenge/gur8EBJ2IOxFgjtW\\.git\\objects\\75\\58c3e0d91abd22e76cdcb18a896f3dde6c8fdc\n",
      "D:/softwareDev/hangiKrediData/hiringChallenge/gur8EBJ2IOxFgjtW\\.git\\objects\\97\\4630be2b52a8a2eec7db771286398758285d3a\n",
      "D:/softwareDev/hangiKrediData/hiringChallenge/gur8EBJ2IOxFgjtW\\.git\\objects\\a4\\97605afd9ff76ffe33d7fe054786dd087727f0\n",
      "D:/softwareDev/hangiKrediData/hiringChallenge/gur8EBJ2IOxFgjtW\\.git\\objects\\d8\\ad8cfb9329d540add77fa4192197324fc51b38\n",
      "D:/softwareDev/hangiKrediData/hiringChallenge/gur8EBJ2IOxFgjtW\\.git\\objects\\df\\e0770424b2a19faf507a501ebfc23be8f54e7b\n",
      "D:/softwareDev/hangiKrediData/hiringChallenge/gur8EBJ2IOxFgjtW\\.git\\objects\\e7\\d25b9e3e9b02c3e8d777c591f57cb7adfedb0e\n",
      "D:/softwareDev/hangiKrediData/hiringChallenge/gur8EBJ2IOxFgjtW\\.git\\objects\\f3\\8f58bc9709771f734c66f3ce0e411f2a46c8ef\n",
      "D:/softwareDev/hangiKrediData/hiringChallenge/gur8EBJ2IOxFgjtW\\.git\\refs\\heads\\main\n",
      "D:/softwareDev/hangiKrediData/hiringChallenge/gur8EBJ2IOxFgjtW\\.git\\refs\\remotes\\origin\\main\n"
     ]
    }
   ],
   "source": [
    "# Gerekli Kütüphanelerin Yüklenmesi\n",
    "\n",
    "import numpy as np\n",
    "import pandas as pd\n",
    "import matplotlib.pyplot as plt\n",
    "import seaborn as sns\n",
    "import sys\n",
    "from collections import Counter\n",
    "import warnings\n",
    "warnings.filterwarnings(\"ignore\")\n",
    "import matplotlib.pyplot as plt\n",
    "import os\n",
    "for dirname, _, filenames in os.walk('D:/softwareDev/hangiKrediData/hiringChallenge/'):\n",
    "    for filename in filenames:\n",
    "        print(os.path.join(dirname, filename))\n",
    "        \n",
    "url = \"D:/softwareDev/hangiKrediData/hiringChallenge/term-deposit-marketing.csv\"\n",
    "from sklearn import preprocessing\n",
    "#from sklearn.processing import skimage, MinMaxScaler, StandartScaler"
   ]
  },
  {
   "cell_type": "code",
   "execution_count": 2,
   "id": "b61a1f17",
   "metadata": {},
   "outputs": [],
   "source": [
    "data = pd.read_csv(url)"
   ]
  },
  {
   "cell_type": "code",
   "execution_count": 3,
   "id": "4ab46fb4",
   "metadata": {},
   "outputs": [
    {
     "name": "stdout",
     "output_type": "stream",
     "text": [
      "(40000, 13)\n"
     ]
    },
    {
     "data": {
      "text/html": [
       "<div>\n",
       "<style scoped>\n",
       "    .dataframe tbody tr th:only-of-type {\n",
       "        vertical-align: middle;\n",
       "    }\n",
       "\n",
       "    .dataframe tbody tr th {\n",
       "        vertical-align: top;\n",
       "    }\n",
       "\n",
       "    .dataframe thead th {\n",
       "        text-align: right;\n",
       "    }\n",
       "</style>\n",
       "<table border=\"1\" class=\"dataframe\">\n",
       "  <thead>\n",
       "    <tr style=\"text-align: right;\">\n",
       "      <th></th>\n",
       "      <th>age</th>\n",
       "      <th>job</th>\n",
       "      <th>marital</th>\n",
       "      <th>education</th>\n",
       "      <th>default</th>\n",
       "      <th>balance</th>\n",
       "      <th>housing</th>\n",
       "      <th>loan</th>\n",
       "      <th>contact</th>\n",
       "      <th>day</th>\n",
       "      <th>month</th>\n",
       "      <th>campaign</th>\n",
       "      <th>y</th>\n",
       "    </tr>\n",
       "  </thead>\n",
       "  <tbody>\n",
       "    <tr>\n",
       "      <th>0</th>\n",
       "      <td>58</td>\n",
       "      <td>management</td>\n",
       "      <td>married</td>\n",
       "      <td>tertiary</td>\n",
       "      <td>no</td>\n",
       "      <td>2143</td>\n",
       "      <td>yes</td>\n",
       "      <td>no</td>\n",
       "      <td>unknown</td>\n",
       "      <td>5</td>\n",
       "      <td>may</td>\n",
       "      <td>1</td>\n",
       "      <td>no</td>\n",
       "    </tr>\n",
       "    <tr>\n",
       "      <th>1</th>\n",
       "      <td>44</td>\n",
       "      <td>technician</td>\n",
       "      <td>single</td>\n",
       "      <td>secondary</td>\n",
       "      <td>no</td>\n",
       "      <td>29</td>\n",
       "      <td>yes</td>\n",
       "      <td>no</td>\n",
       "      <td>unknown</td>\n",
       "      <td>5</td>\n",
       "      <td>may</td>\n",
       "      <td>1</td>\n",
       "      <td>no</td>\n",
       "    </tr>\n",
       "    <tr>\n",
       "      <th>2</th>\n",
       "      <td>33</td>\n",
       "      <td>entrepreneur</td>\n",
       "      <td>married</td>\n",
       "      <td>secondary</td>\n",
       "      <td>no</td>\n",
       "      <td>2</td>\n",
       "      <td>yes</td>\n",
       "      <td>yes</td>\n",
       "      <td>unknown</td>\n",
       "      <td>5</td>\n",
       "      <td>may</td>\n",
       "      <td>1</td>\n",
       "      <td>no</td>\n",
       "    </tr>\n",
       "    <tr>\n",
       "      <th>3</th>\n",
       "      <td>47</td>\n",
       "      <td>blue-collar</td>\n",
       "      <td>married</td>\n",
       "      <td>unknown</td>\n",
       "      <td>no</td>\n",
       "      <td>1506</td>\n",
       "      <td>yes</td>\n",
       "      <td>no</td>\n",
       "      <td>unknown</td>\n",
       "      <td>5</td>\n",
       "      <td>may</td>\n",
       "      <td>1</td>\n",
       "      <td>no</td>\n",
       "    </tr>\n",
       "    <tr>\n",
       "      <th>4</th>\n",
       "      <td>33</td>\n",
       "      <td>unknown</td>\n",
       "      <td>single</td>\n",
       "      <td>unknown</td>\n",
       "      <td>no</td>\n",
       "      <td>1</td>\n",
       "      <td>no</td>\n",
       "      <td>no</td>\n",
       "      <td>unknown</td>\n",
       "      <td>5</td>\n",
       "      <td>may</td>\n",
       "      <td>1</td>\n",
       "      <td>no</td>\n",
       "    </tr>\n",
       "  </tbody>\n",
       "</table>\n",
       "</div>"
      ],
      "text/plain": [
       "   age           job  marital  education default  balance housing loan  \\\n",
       "0   58    management  married   tertiary      no     2143     yes   no   \n",
       "1   44    technician   single  secondary      no       29     yes   no   \n",
       "2   33  entrepreneur  married  secondary      no        2     yes  yes   \n",
       "3   47   blue-collar  married    unknown      no     1506     yes   no   \n",
       "4   33       unknown   single    unknown      no        1      no   no   \n",
       "\n",
       "   contact  day month  campaign   y  \n",
       "0  unknown    5   may         1  no  \n",
       "1  unknown    5   may         1  no  \n",
       "2  unknown    5   may         1  no  \n",
       "3  unknown    5   may         1  no  \n",
       "4  unknown    5   may         1  no  "
      ]
     },
     "execution_count": 3,
     "metadata": {},
     "output_type": "execute_result"
    }
   ],
   "source": [
    "data =data.drop(['duration'],axis=1)\n",
    "print(data.shape)\n",
    "data.head()"
   ]
  },
  {
   "cell_type": "code",
   "execution_count": 4,
   "id": "c77a5419",
   "metadata": {},
   "outputs": [
    {
     "name": "stdout",
     "output_type": "stream",
     "text": [
      "<class 'pandas.core.frame.DataFrame'>\n",
      "RangeIndex: 40000 entries, 0 to 39999\n",
      "Data columns (total 13 columns):\n",
      " #   Column     Non-Null Count  Dtype \n",
      "---  ------     --------------  ----- \n",
      " 0   age        40000 non-null  int64 \n",
      " 1   job        40000 non-null  object\n",
      " 2   marital    40000 non-null  object\n",
      " 3   education  40000 non-null  object\n",
      " 4   default    40000 non-null  object\n",
      " 5   balance    40000 non-null  int64 \n",
      " 6   housing    40000 non-null  object\n",
      " 7   loan       40000 non-null  object\n",
      " 8   contact    40000 non-null  object\n",
      " 9   day        40000 non-null  int64 \n",
      " 10  month      40000 non-null  object\n",
      " 11  campaign   40000 non-null  int64 \n",
      " 12  y          40000 non-null  object\n",
      "dtypes: int64(4), object(9)\n",
      "memory usage: 4.0+ MB\n"
     ]
    }
   ],
   "source": [
    "data.info()"
   ]
  },
  {
   "cell_type": "code",
   "execution_count": 5,
   "id": "832c7c25",
   "metadata": {
    "scrolled": true
   },
   "outputs": [
    {
     "data": {
      "text/html": [
       "<div>\n",
       "<style scoped>\n",
       "    .dataframe tbody tr th:only-of-type {\n",
       "        vertical-align: middle;\n",
       "    }\n",
       "\n",
       "    .dataframe tbody tr th {\n",
       "        vertical-align: top;\n",
       "    }\n",
       "\n",
       "    .dataframe thead th {\n",
       "        text-align: right;\n",
       "    }\n",
       "</style>\n",
       "<table border=\"1\" class=\"dataframe\">\n",
       "  <thead>\n",
       "    <tr style=\"text-align: right;\">\n",
       "      <th></th>\n",
       "      <th>age</th>\n",
       "      <th>balance</th>\n",
       "      <th>day</th>\n",
       "      <th>campaign</th>\n",
       "    </tr>\n",
       "  </thead>\n",
       "  <tbody>\n",
       "    <tr>\n",
       "      <th>count</th>\n",
       "      <td>40000.000000</td>\n",
       "      <td>40000.000000</td>\n",
       "      <td>40000.000000</td>\n",
       "      <td>40000.000000</td>\n",
       "    </tr>\n",
       "    <tr>\n",
       "      <th>mean</th>\n",
       "      <td>40.544600</td>\n",
       "      <td>1274.277550</td>\n",
       "      <td>16.017225</td>\n",
       "      <td>2.882175</td>\n",
       "    </tr>\n",
       "    <tr>\n",
       "      <th>std</th>\n",
       "      <td>9.641776</td>\n",
       "      <td>2903.769716</td>\n",
       "      <td>8.278127</td>\n",
       "      <td>3.239051</td>\n",
       "    </tr>\n",
       "    <tr>\n",
       "      <th>min</th>\n",
       "      <td>19.000000</td>\n",
       "      <td>-8019.000000</td>\n",
       "      <td>1.000000</td>\n",
       "      <td>1.000000</td>\n",
       "    </tr>\n",
       "    <tr>\n",
       "      <th>25%</th>\n",
       "      <td>33.000000</td>\n",
       "      <td>54.000000</td>\n",
       "      <td>8.000000</td>\n",
       "      <td>1.000000</td>\n",
       "    </tr>\n",
       "    <tr>\n",
       "      <th>50%</th>\n",
       "      <td>39.000000</td>\n",
       "      <td>407.000000</td>\n",
       "      <td>17.000000</td>\n",
       "      <td>2.000000</td>\n",
       "    </tr>\n",
       "    <tr>\n",
       "      <th>75%</th>\n",
       "      <td>48.000000</td>\n",
       "      <td>1319.000000</td>\n",
       "      <td>21.000000</td>\n",
       "      <td>3.000000</td>\n",
       "    </tr>\n",
       "    <tr>\n",
       "      <th>max</th>\n",
       "      <td>95.000000</td>\n",
       "      <td>102127.000000</td>\n",
       "      <td>31.000000</td>\n",
       "      <td>63.000000</td>\n",
       "    </tr>\n",
       "  </tbody>\n",
       "</table>\n",
       "</div>"
      ],
      "text/plain": [
       "                age        balance           day      campaign\n",
       "count  40000.000000   40000.000000  40000.000000  40000.000000\n",
       "mean      40.544600    1274.277550     16.017225      2.882175\n",
       "std        9.641776    2903.769716      8.278127      3.239051\n",
       "min       19.000000   -8019.000000      1.000000      1.000000\n",
       "25%       33.000000      54.000000      8.000000      1.000000\n",
       "50%       39.000000     407.000000     17.000000      2.000000\n",
       "75%       48.000000    1319.000000     21.000000      3.000000\n",
       "max       95.000000  102127.000000     31.000000     63.000000"
      ]
     },
     "execution_count": 5,
     "metadata": {},
     "output_type": "execute_result"
    }
   ],
   "source": [
    "#dataframe'de bulunan numerik özet ifadelerin yer aldığı tablo\n",
    "\n",
    "data.describe()"
   ]
  },
  {
   "cell_type": "code",
   "execution_count": 6,
   "id": "c37a4cee",
   "metadata": {},
   "outputs": [
    {
     "data": {
      "text/plain": [
       "array(['management', 'technician', 'entrepreneur', 'blue-collar',\n",
       "       'unknown', 'retired', 'admin', 'services', 'self-employed',\n",
       "       'unemployed', 'housemaid', 'student'], dtype=object)"
      ]
     },
     "execution_count": 6,
     "metadata": {},
     "output_type": "execute_result"
    }
   ],
   "source": [
    "data[\"job\"].unique()"
   ]
  },
  {
   "cell_type": "code",
   "execution_count": 7,
   "id": "19e9de25",
   "metadata": {},
   "outputs": [
    {
     "data": {
      "text/plain": [
       "array(['married', 'single', 'divorced'], dtype=object)"
      ]
     },
     "execution_count": 7,
     "metadata": {},
     "output_type": "execute_result"
    }
   ],
   "source": [
    "data[\"marital\"].unique()"
   ]
  },
  {
   "cell_type": "code",
   "execution_count": 8,
   "id": "cb1f7b80",
   "metadata": {},
   "outputs": [
    {
     "data": {
      "text/plain": [
       "array([58, 44, 33, 47, 35, 28, 42, 43, 41, 29, 53, 57, 51, 45, 60, 56, 32,\n",
       "       25, 40, 39, 52, 46, 36, 49, 59, 37, 50, 54, 55, 48, 24, 38, 31, 30,\n",
       "       27, 34, 23, 26, 61, 22, 21, 20, 66, 62, 83, 75, 67, 70, 65, 68, 64,\n",
       "       69, 72, 71, 19, 76, 85, 63, 90, 82, 73, 74, 78, 80, 94, 79, 77, 86,\n",
       "       95, 81], dtype=int64)"
      ]
     },
     "execution_count": 8,
     "metadata": {},
     "output_type": "execute_result"
    }
   ],
   "source": [
    "data[\"age\"].unique()"
   ]
  },
  {
   "cell_type": "code",
   "execution_count": 9,
   "id": "23ec7367",
   "metadata": {},
   "outputs": [
    {
     "data": {
      "text/plain": [
       "array(['tertiary', 'secondary', 'unknown', 'primary'], dtype=object)"
      ]
     },
     "execution_count": 9,
     "metadata": {},
     "output_type": "execute_result"
    }
   ],
   "source": [
    "data[\"education\"].unique()"
   ]
  },
  {
   "cell_type": "code",
   "execution_count": 10,
   "id": "cf096a9a",
   "metadata": {},
   "outputs": [
    {
     "data": {
      "text/plain": [
       "array(['no', 'yes'], dtype=object)"
      ]
     },
     "execution_count": 10,
     "metadata": {},
     "output_type": "execute_result"
    }
   ],
   "source": [
    "data[\"default\"].unique()"
   ]
  },
  {
   "cell_type": "code",
   "execution_count": 11,
   "id": "f1be8879",
   "metadata": {},
   "outputs": [
    {
     "data": {
      "text/plain": [
       "array([  2143,     29,      2, ...,   7222,   3402, 102127], dtype=int64)"
      ]
     },
     "execution_count": 11,
     "metadata": {},
     "output_type": "execute_result"
    }
   ],
   "source": [
    "data[\"balance\"].unique()"
   ]
  },
  {
   "cell_type": "code",
   "execution_count": 12,
   "id": "99ae654b",
   "metadata": {},
   "outputs": [
    {
     "data": {
      "text/plain": [
       "array(['yes', 'no'], dtype=object)"
      ]
     },
     "execution_count": 12,
     "metadata": {},
     "output_type": "execute_result"
    }
   ],
   "source": [
    "data[\"housing\"].unique()"
   ]
  },
  {
   "cell_type": "code",
   "execution_count": 13,
   "id": "9fd24c06",
   "metadata": {},
   "outputs": [
    {
     "data": {
      "text/plain": [
       "array(['no', 'yes'], dtype=object)"
      ]
     },
     "execution_count": 13,
     "metadata": {},
     "output_type": "execute_result"
    }
   ],
   "source": [
    "data[\"loan\"].unique()"
   ]
  },
  {
   "cell_type": "code",
   "execution_count": 14,
   "id": "8d0558c7",
   "metadata": {},
   "outputs": [
    {
     "data": {
      "text/plain": [
       "array(['unknown', 'cellular', 'telephone'], dtype=object)"
      ]
     },
     "execution_count": 14,
     "metadata": {},
     "output_type": "execute_result"
    }
   ],
   "source": [
    "data[\"contact\"].unique()"
   ]
  },
  {
   "cell_type": "code",
   "execution_count": 15,
   "id": "463d9fba",
   "metadata": {},
   "outputs": [
    {
     "data": {
      "text/plain": [
       "array([ 5,  6,  7,  8,  9, 12, 13, 14, 15, 16, 19, 20, 21, 23, 26, 27, 28,\n",
       "       29, 30,  2,  3,  4, 11, 17, 18, 24, 25,  1, 10, 22, 31],\n",
       "      dtype=int64)"
      ]
     },
     "execution_count": 15,
     "metadata": {},
     "output_type": "execute_result"
    }
   ],
   "source": [
    "# Ayın günlerini oluşturuyor\n",
    "\n",
    "data[\"day\"].unique()"
   ]
  },
  {
   "cell_type": "code",
   "execution_count": 16,
   "id": "dfd41bfb",
   "metadata": {},
   "outputs": [
    {
     "data": {
      "text/plain": [
       "array(['may', 'jun', 'jul', 'aug', 'oct', 'nov', 'dec', 'jan', 'feb',\n",
       "       'mar', 'apr'], dtype=object)"
      ]
     },
     "execution_count": 16,
     "metadata": {},
     "output_type": "execute_result"
    }
   ],
   "source": [
    "data[\"month\"].unique()"
   ]
  },
  {
   "cell_type": "code",
   "execution_count": 17,
   "id": "b1290dfb",
   "metadata": {},
   "outputs": [
    {
     "data": {
      "text/plain": [
       "array([ 1,  2,  3,  5,  4,  6,  7,  8,  9, 10, 11, 12, 13, 19, 14, 24, 16,\n",
       "       32, 18, 22, 15, 17, 25, 21, 43, 51, 63, 41, 26, 28, 55, 50, 38, 23,\n",
       "       20, 29, 31, 37, 30, 46, 27, 58, 33, 35, 34, 36, 39, 44],\n",
       "      dtype=int64)"
      ]
     },
     "execution_count": 17,
     "metadata": {},
     "output_type": "execute_result"
    }
   ],
   "source": [
    "data[\"campaign\"].unique()"
   ]
  },
  {
   "cell_type": "markdown",
   "id": "fc9c3b50",
   "metadata": {},
   "source": [
    "İlk önce kategorik değişkenlerin keşifsel analizine başlıyoruz ve kategorilerin neler olduğunu ve bu kategoriler için eksik değerler olup olmadığını görüyoruz. Burada, aşağıdaki çubuk grafikleri oluşturmak için seaborn paketini kullandık."
   ]
  },
  {
   "cell_type": "code",
   "execution_count": 18,
   "id": "7b0e6466",
   "metadata": {
    "scrolled": true
   },
   "outputs": [
    {
     "data": {
      "image/png": "[encoded data removed]",
      "text/plain": [
       "<Figure size 792x432 with 1 Axes>"
      ]
     },
     "metadata": {
      "needs_background": "light"
     },
     "output_type": "display_data"
    },
    {
     "data": {
      "image/png": "[encoded data removed]",
      "text/plain": [
       "<Figure size 792x432 with 1 Axes>"
      ]
     },
     "metadata": {
      "needs_background": "light"
     },
     "output_type": "display_data"
    },
    {
     "data": {
      "image/png": "[encoded data removed]",
      "text/plain": [
       "<Figure size 792x432 with 1 Axes>"
      ]
     },
     "metadata": {
      "needs_background": "light"
     },
     "output_type": "display_data"
    },
    {
     "data": {
      "image/png": "[encoded data removed]",
      "text/plain": [
       "<Figure size 792x432 with 1 Axes>"
      ]
     },
     "metadata": {
      "needs_background": "light"
     },
     "output_type": "display_data"
    },
    {
     "data": {
      "image/png": "[encoded data removed]",
      "text/plain": [
       "<Figure size 792x432 with 1 Axes>"
      ]
     },
     "metadata": {
      "needs_background": "light"
     },
     "output_type": "display_data"
    },
    {
     "data": {
      "image/png": "[encoded data removed]",
      "text/plain": [
       "<Figure size 792x432 with 1 Axes>"
      ]
     },
     "metadata": {
      "needs_background": "light"
     },
     "output_type": "display_data"
    },
    {
     "data": {
      "image/png": "[encoded data removed]",
      "text/plain": [
       "<Figure size 792x432 with 1 Axes>"
      ]
     },
     "metadata": {
      "needs_background": "light"
     },
     "output_type": "display_data"
    },
    {
     "data": {
      "image/png": "[encoded data removed]",
      "text/plain": [
       "<Figure size 792x432 with 1 Axes>"
      ]
     },
     "metadata": {
      "needs_background": "light"
     },
     "output_type": "display_data"
    },
    {
     "data": {
      "image/png": "[encoded data removed]",
      "text/plain": [
       "<Figure size 792x432 with 1 Axes>"
      ]
     },
     "metadata": {
      "needs_background": "light"
     },
     "output_type": "display_data"
    },
    {
     "data": {
      "image/png": "[encoded data removed]",
      "text/plain": [
       "<Figure size 792x432 with 1 Axes>"
      ]
     },
     "metadata": {
      "needs_background": "light"
     },
     "output_type": "display_data"
    },
    {
     "data": {
      "image/png": "[encoded data removed]",
      "text/plain": [
       "<Figure size 792x432 with 1 Axes>"
      ]
     },
     "metadata": {
      "needs_background": "light"
     },
     "output_type": "display_data"
    },
    {
     "data": {
      "image/png": "[encoded data removed]",
      "text/plain": [
       "<Figure size 792x432 with 1 Axes>"
      ]
     },
     "metadata": {
      "needs_background": "light"
     },
     "output_type": "display_data"
    }
   ],
   "source": [
    "categori=['job', 'marital', 'education', 'default', 'balance', 'housing', 'loan', 'contact', 'day', 'month', 'campaign', 'y']\n",
    "for col in categori:\n",
    "    plt.figure(figsize=(11,6))\n",
    "    sns.barplot(data[col].value_counts(),data[col].value_counts().index,data=data)\n",
    "    plt.title(col)\n",
    "    plt.tight_layout()"
   ]
  },
  {
   "cell_type": "markdown",
   "id": "4c8c4ecb",
   "metadata": {},
   "source": [
    "## Giriş Kategorik özellik Gözlem\n",
    "\n",
    "\n",
    "1) Job - Müşterilerin yaptıkları işler.\n",
    "\n",
    "2) Marital - Müşterinin evli olup olmaması ya da boşanmış olup olmamasını gösteren veri.\n",
    "\n",
    "3) Education - İkincil okul okuyan müşterilerin yoğunlukta olduğunu göstermektedir.\n",
    "\n",
    "4) Default - çoğu kişinin kredi taahhüt yoktur, bu da onların yaklaşabilecekleri anlamına gelir.\n",
    "\n",
    "5) Housing - Hiç konut kredisi almamış kişilere daha fazla önem vermeliyiz.\n",
    "\n",
    "6) Loan - İhtiyaç kredisi almamış kişilere daha fazla önem vermeliyiz.\n",
    "\n",
    "7) Month - Yıl içerisinde en çok mevduat hesabı mayıs ayında açıldığını gösteriyor, demek oluyor ki müşteriler tatil planı yapabilirler.\n",
    "\n",
    "8) Day - Bulundukları aylarda ay sonunda hesaplarında hareketlilik olduğunu gözlemleyebiliriz. \n"
   ]
  },
  {
   "cell_type": "markdown",
   "id": "b9b83626",
   "metadata": {},
   "source": [
    "### Hedef Değişkenlerle ilişkili değişkenleri kategorilere ayıralım"
   ]
  },
  {
   "cell_type": "code",
   "execution_count": 19,
   "id": "ff3158fb",
   "metadata": {},
   "outputs": [
    {
     "data": {
      "text/plain": [
       "job            y  \n",
       "admin          no     4132\n",
       "               yes     351\n",
       "blue-collar    no     8848\n",
       "               yes     535\n",
       "entrepreneur   no     1317\n",
       "               yes      88\n",
       "housemaid      no     1034\n",
       "               yes      53\n",
       "management     no     7490\n",
       "               yes     676\n",
       "retired        no     1286\n",
       "               yes     151\n",
       "self-employed  no     1302\n",
       "               yes     112\n",
       "services       no     3672\n",
       "               yes     238\n",
       "student        no      442\n",
       "               yes      82\n",
       "technician     no     6355\n",
       "               yes     497\n",
       "unemployed     no     1008\n",
       "               yes      96\n",
       "unknown        no      218\n",
       "               yes      17\n",
       "Name: y, dtype: int64"
      ]
     },
     "execution_count": 19,
     "metadata": {},
     "output_type": "execute_result"
    }
   ],
   "source": [
    "from scipy import stats\n",
    "\n",
    "# öncelikle mesleklere göre hangi meslek grubunda olanların daha çok vadeli hesap açmış olabileceğini bulalım.\n",
    "\n",
    "\n",
    "data.groupby(['job','y']).y.count()"
   ]
  },
  {
   "cell_type": "code",
   "execution_count": 20,
   "id": "ba45eed4",
   "metadata": {},
   "outputs": [
    {
     "data": {
      "image/png": "[encoded data removed]",
      "text/plain": [
       "<Figure size 432x288 with 1 Axes>"
      ]
     },
     "metadata": {
      "needs_background": "light"
     },
     "output_type": "display_data"
    }
   ],
   "source": [
    "# burada yaptığımız müşterinin işi ile hesap açıp açmadığı arasındaki bağlantıyı\n",
    "# diğer değişkenler yardımıyla hesaplatmak olacaktır.\n",
    "\n",
    "# karşılaştırma yaptığımız müşterinin yapığı işe göre görselleştirmek\n",
    "feature_name = 'job'\n",
    "\n",
    "\n",
    "pos_counts = data.loc[data.y.values == 'yes', feature_name].value_counts()\n",
    "neg_counts = data.loc[data.y.values == 'no', feature_name].value_counts()\n",
    "\n",
    "all_counts = list(set(list(pos_counts.index)+list(neg_counts.index)))\n",
    "\n",
    "# ne kadar aralıkla tekrar ettiğini bulalım\n",
    "freq_pos = (data.y.values == 'yes').sum()\n",
    "freq_neg = (data.y.values == 'no').sum()\n",
    "\n",
    "pos_counts = pos_counts.to_dict()\n",
    "neg_counts = neg_counts.to_dict()\n",
    "\n",
    "all_index = list(all_counts)\n",
    "all_counts = [\n",
    "    pos_counts.get(k, 0)/freq_pos - neg_counts.get(k, 0)/freq_neg\n",
    "    for k in all_counts\n",
    "]\n",
    "\n",
    "\n",
    "sns.barplot(all_counts, all_index)\n",
    "plt.title(feature_name)\n",
    "plt.tight_layout()"
   ]
  },
  {
   "cell_type": "markdown",
   "id": "c715e1ce",
   "metadata": {},
   "source": [
    "- Pozitif değerler, bu kategorinin abone olacak müşterileri desteklediğini ve negatif değerler kategorilerinin satın almamayı tercih ettiğini ima eder.\n",
    "\n",
    "- Yöneticilerin hesap açmaya daha yatkın olduklarını görebiliriz."
   ]
  },
  {
   "cell_type": "code",
   "execution_count": 21,
   "id": "e2093a1a",
   "metadata": {},
   "outputs": [
    {
     "data": {
      "text/plain": [
       "marital   y  \n",
       "divorced  no      4334\n",
       "          yes      391\n",
       "married   no     22908\n",
       "          yes     1478\n",
       "single    no      9862\n",
       "          yes     1027\n",
       "Name: y, dtype: int64"
      ]
     },
     "execution_count": 21,
     "metadata": {},
     "output_type": "execute_result"
    }
   ],
   "source": [
    "data.groupby(['marital','y']).y.count()"
   ]
  },
  {
   "cell_type": "code",
   "execution_count": 22,
   "id": "cf56300c",
   "metadata": {},
   "outputs": [
    {
     "data": {
      "image/png": "[encoded data removed]",
      "text/plain": [
       "<Figure size 432x288 with 1 Axes>"
      ]
     },
     "metadata": {
      "needs_background": "light"
     },
     "output_type": "display_data"
    }
   ],
   "source": [
    "feature_name = 'marital'\n",
    "\n",
    "\n",
    "pos_counts = data.loc[data.y.values == 'yes', feature_name].value_counts()\n",
    "neg_counts = data.loc[data.y.values == 'no', feature_name].value_counts()\n",
    "\n",
    "all_counts = list(set(list(pos_counts.index)+list(neg_counts.index)))\n",
    "\n",
    "freq_pos = (data.y.values == 'yes').sum()\n",
    "freq_neg = (data.y.values == 'no').sum()\n",
    "\n",
    "pos_counts = pos_counts.to_dict()\n",
    "neg_counts = neg_counts.to_dict()\n",
    "\n",
    "all_index = list(all_counts)\n",
    "all_counts = [\n",
    "    pos_counts.get(k, 0)/freq_pos - neg_counts.get(k, 0)/freq_neg\n",
    "    for k in all_counts\n",
    "]\n",
    "\n",
    "\n",
    "sns.barplot(all_counts, all_index)\n",
    "plt.title(feature_name)\n",
    "plt.tight_layout()"
   ]
  },
  {
   "cell_type": "code",
   "execution_count": 23,
   "id": "e0cc150e",
   "metadata": {},
   "outputs": [
    {
     "data": {
      "text/plain": [
       "job      marital   y  \n",
       "admin    divorced  no      618\n",
       "                   yes      62\n",
       "         married   no     2178\n",
       "                   yes     155\n",
       "         single    no     1336\n",
       "                          ... \n",
       "unknown  divorced  yes       1\n",
       "         married   no      154\n",
       "                   yes      11\n",
       "         single    no       50\n",
       "                   yes       5\n",
       "Name: y, Length: 71, dtype: int64"
      ]
     },
     "execution_count": 23,
     "metadata": {},
     "output_type": "execute_result"
    }
   ],
   "source": [
    "data.groupby(['job','marital','y']).y.count()\n",
    "# Ve Yönetici - evli insanlar Vadeli Mevduat ile daha fazla ilgileniyor."
   ]
  },
  {
   "cell_type": "code",
   "execution_count": 24,
   "id": "5d19313d",
   "metadata": {},
   "outputs": [
    {
     "data": {
      "text/plain": [
       "contact    y  \n",
       "cellular   no     22681\n",
       "           yes     2233\n",
       "telephone  no      2155\n",
       "           yes      166\n",
       "unknown    no     12268\n",
       "           yes      497\n",
       "Name: y, dtype: int64"
      ]
     },
     "execution_count": 24,
     "metadata": {},
     "output_type": "execute_result"
    }
   ],
   "source": [
    "data.groupby(['contact','y']).y.count()"
   ]
  },
  {
   "cell_type": "code",
   "execution_count": 25,
   "id": "0de34487",
   "metadata": {},
   "outputs": [
    {
     "data": {
      "image/png": "[encoded data removed]",
      "text/plain": [
       "<Figure size 432x288 with 1 Axes>"
      ]
     },
     "metadata": {
      "needs_background": "light"
     },
     "output_type": "display_data"
    }
   ],
   "source": [
    "feature_name = 'contact'\n",
    "\n",
    "# ======================================================================================================\n",
    "\n",
    "pos_counts = data.loc[data.y.values == 'yes', feature_name].value_counts() \n",
    "neg_counts = data.loc[data.y.values == 'no', feature_name].value_counts()\n",
    "    \n",
    "all_counts = list(set(list(pos_counts.index) + list(neg_counts.index)))\n",
    "    \n",
    "#Counts of how often each outcome was recorded.\n",
    "freq_pos = (data.y.values == 'yes').sum()\n",
    "freq_neg = (data.y.values == 'no').sum()\n",
    "    \n",
    "pos_counts = pos_counts.to_dict()\n",
    "neg_counts = neg_counts.to_dict()\n",
    "    \n",
    "all_index = list(all_counts)\n",
    "all_counts = [pos_counts.get(k, 0) / freq_pos - neg_counts.get(k, 0) / freq_neg for k in all_counts]\n",
    "\n",
    "sns.barplot(all_counts, all_index)\n",
    "plt.title(feature_name)\n",
    "plt.tight_layout()"
   ]
  },
  {
   "cell_type": "code",
   "execution_count": 26,
   "id": "26985afb",
   "metadata": {},
   "outputs": [
    {
     "data": {
      "text/plain": [
       "day  y  \n",
       "1    no      136\n",
       "     yes      40\n",
       "2    no     1005\n",
       "     yes     104\n",
       "3    no      794\n",
       "            ... \n",
       "29   yes      49\n",
       "30   no     1233\n",
       "     yes     224\n",
       "31   no      565\n",
       "     yes      26\n",
       "Name: age, Length: 62, dtype: int64"
      ]
     },
     "execution_count": 26,
     "metadata": {},
     "output_type": "execute_result"
    }
   ],
   "source": [
    "data.groupby(['day','y']).age.count()"
   ]
  },
  {
   "cell_type": "code",
   "execution_count": 27,
   "id": "6e83db29",
   "metadata": {},
   "outputs": [
    {
     "data": {
      "image/png": "[encoded data removed]",
      "text/plain": [
       "<Figure size 432x288 with 1 Axes>"
      ]
     },
     "metadata": {
      "needs_background": "light"
     },
     "output_type": "display_data"
    }
   ],
   "source": [
    "feature_name = 'day'\n",
    "\n",
    "# ======================================================================================================\n",
    "\n",
    "pos_counts = data.loc[data.y.values == 'yes', feature_name].value_counts() \n",
    "neg_counts = data.loc[data.y.values == 'no', feature_name].value_counts()\n",
    "    \n",
    "all_counts = list(set(list(pos_counts.index) + list(neg_counts.index)))\n",
    "    \n",
    "#Counts of how often each outcome was recorded.\n",
    "freq_pos = (data.y.values == 'yes').sum()\n",
    "freq_neg = (data.y.values == 'no').sum()\n",
    "    \n",
    "pos_counts = pos_counts.to_dict()\n",
    "neg_counts = neg_counts.to_dict()\n",
    "    \n",
    "all_index = list(all_counts)\n",
    "all_counts = [pos_counts.get(k, 0) / freq_pos - neg_counts.get(k, 0) / freq_neg for k in all_counts]\n",
    "\n",
    "sns.barplot(all_counts, all_index)\n",
    "plt.title(feature_name)\n",
    "plt.tight_layout()"
   ]
  },
  {
   "cell_type": "code",
   "execution_count": 28,
   "id": "6e8bf3bd",
   "metadata": {},
   "outputs": [
    {
     "data": {
      "text/plain": [
       "loan  y  \n",
       "no    no     30554\n",
       "      yes     2516\n",
       "yes   no      6550\n",
       "      yes      380\n",
       "Name: age, dtype: int64"
      ]
     },
     "execution_count": 28,
     "metadata": {},
     "output_type": "execute_result"
    }
   ],
   "source": [
    "data.groupby(['loan','y']).age.count()"
   ]
  },
  {
   "cell_type": "code",
   "execution_count": 29,
   "id": "f9c7c98d",
   "metadata": {},
   "outputs": [
    {
     "data": {
      "image/png": "[encoded data removed]",
      "text/plain": [
       "<Figure size 432x288 with 1 Axes>"
      ]
     },
     "metadata": {
      "needs_background": "light"
     },
     "output_type": "display_data"
    }
   ],
   "source": [
    "feature_name = 'loan'\n",
    "\n",
    "# ======================================================================================================\n",
    "\n",
    "pos_counts = data.loc[data.y.values == 'yes', feature_name].value_counts() \n",
    "neg_counts = data.loc[data.y.values == 'no', feature_name].value_counts()\n",
    "    \n",
    "all_counts = list(set(list(pos_counts.index) + list(neg_counts.index)))\n",
    "    \n",
    "#Counts of how often each outcome was recorded.\n",
    "freq_pos = (data.y.values == 'yes').sum()\n",
    "freq_neg = (data.y.values == 'no').sum()\n",
    "    \n",
    "pos_counts = pos_counts.to_dict()\n",
    "neg_counts = neg_counts.to_dict()\n",
    "    \n",
    "all_index = list(all_counts)\n",
    "all_counts = [pos_counts.get(k, 0) / freq_pos - neg_counts.get(k, 0) / freq_neg for k in all_counts]\n",
    "\n",
    "sns.barplot(all_counts, all_index)\n",
    "plt.title(feature_name)\n",
    "plt.tight_layout()"
   ]
  },
  {
   "cell_type": "code",
   "execution_count": 30,
   "id": "b77a44da",
   "metadata": {},
   "outputs": [
    {
     "data": {
      "text/plain": [
       "default  y  \n",
       "no       no     36344\n",
       "         yes     2847\n",
       "yes      no       760\n",
       "         yes       49\n",
       "Name: age, dtype: int64"
      ]
     },
     "execution_count": 30,
     "metadata": {},
     "output_type": "execute_result"
    }
   ],
   "source": [
    "data.groupby(['default','y']).age.count()"
   ]
  },
  {
   "cell_type": "code",
   "execution_count": 31,
   "id": "7ba2e40d",
   "metadata": {},
   "outputs": [
    {
     "data": {
      "image/png": "[encoded data removed]",
      "text/plain": [
       "<Figure size 432x288 with 1 Axes>"
      ]
     },
     "metadata": {
      "needs_background": "light"
     },
     "output_type": "display_data"
    }
   ],
   "source": [
    "feature_name = 'default'\n",
    "\n",
    "\n",
    "pos_counts = data.loc[data.y.values == 'yes', feature_name].value_counts() \n",
    "neg_counts = data.loc[data.y.values == 'no', feature_name].value_counts()\n",
    "    \n",
    "all_counts = list(set(list(pos_counts.index) + list(neg_counts.index)))\n",
    "    \n",
    "#Counts of how often each outcome was recorded.\n",
    "freq_pos = (data.y.values == 'yes').sum()\n",
    "freq_neg = (data.y.values == 'no').sum()\n",
    "    \n",
    "pos_counts = pos_counts.to_dict()\n",
    "neg_counts = neg_counts.to_dict()\n",
    "    \n",
    "all_index = list(all_counts)\n",
    "all_counts = [pos_counts.get(k, 0) / freq_pos - neg_counts.get(k, 0) / freq_neg for k in all_counts]\n",
    "\n",
    "sns.barplot(all_counts, all_index)\n",
    "plt.title(feature_name)\n",
    "plt.tight_layout()"
   ]
  },
  {
   "cell_type": "code",
   "execution_count": 32,
   "id": "6efa5a58",
   "metadata": {},
   "outputs": [
    {
     "data": {
      "text/plain": [
       "housing  y  \n",
       "no       no     14537\n",
       "         yes     1432\n",
       "yes      no     22567\n",
       "         yes     1464\n",
       "Name: age, dtype: int64"
      ]
     },
     "execution_count": 32,
     "metadata": {},
     "output_type": "execute_result"
    }
   ],
   "source": [
    "data.groupby(['housing','y']).age.count()"
   ]
  },
  {
   "cell_type": "code",
   "execution_count": 33,
   "id": "fe194a7f",
   "metadata": {},
   "outputs": [
    {
     "data": {
      "image/png": "[encoded data removed]",
      "text/plain": [
       "<Figure size 432x288 with 1 Axes>"
      ]
     },
     "metadata": {
      "needs_background": "light"
     },
     "output_type": "display_data"
    }
   ],
   "source": [
    "feature_name = 'housing'\n",
    "\n",
    "# ======================================================================================================\n",
    "\n",
    "pos_counts = data.loc[data.y.values == 'yes', feature_name].value_counts() \n",
    "neg_counts = data.loc[data.y.values == 'no', feature_name].value_counts()\n",
    "    \n",
    "all_counts = list(set(list(pos_counts.index) + list(neg_counts.index)))\n",
    "    \n",
    "#Counts of how often each outcome was recorded.\n",
    "freq_pos = (data.y.values == 'yes').sum()\n",
    "freq_neg = (data.y.values == 'no').sum()\n",
    "    \n",
    "pos_counts = pos_counts.to_dict()\n",
    "neg_counts = neg_counts.to_dict()\n",
    "    \n",
    "all_index = list(all_counts)\n",
    "all_counts = [pos_counts.get(k, 0) / freq_pos - neg_counts.get(k, 0) / freq_neg for k in all_counts]\n",
    "\n",
    "sns.barplot(all_counts, all_index)\n",
    "plt.title(feature_name)\n",
    "plt.tight_layout()"
   ]
  },
  {
   "cell_type": "code",
   "execution_count": 34,
   "id": "1fc6c427",
   "metadata": {},
   "outputs": [
    {
     "data": {
      "text/plain": [
       "month  y  \n",
       "apr    no      2267\n",
       "       yes      451\n",
       "aug    no      4927\n",
       "       yes      288\n",
       "dec    no        12\n",
       "       yes        1\n",
       "feb    no      2041\n",
       "       yes      255\n",
       "jan    no      1138\n",
       "       yes       38\n",
       "jul    no      5996\n",
       "       yes      384\n",
       "jun    no      4440\n",
       "       yes      294\n",
       "mar    no       133\n",
       "       yes      125\n",
       "may    no     12741\n",
       "       yes      791\n",
       "nov    no      3378\n",
       "       yes      220\n",
       "oct    no        31\n",
       "       yes       49\n",
       "Name: age, dtype: int64"
      ]
     },
     "execution_count": 34,
     "metadata": {},
     "output_type": "execute_result"
    }
   ],
   "source": [
    "data.groupby(['month','y']).age.count()"
   ]
  },
  {
   "cell_type": "code",
   "execution_count": 35,
   "id": "847dc322",
   "metadata": {},
   "outputs": [
    {
     "data": {
      "image/png": "[encoded data removed]",
      "text/plain": [
       "<Figure size 432x288 with 1 Axes>"
      ]
     },
     "metadata": {
      "needs_background": "light"
     },
     "output_type": "display_data"
    }
   ],
   "source": [
    "feature_name = 'month'\n",
    "\n",
    "# ======================================================================================================\n",
    "\n",
    "pos_counts = data.loc[data.y.values == 'yes', feature_name].value_counts() \n",
    "neg_counts = data.loc[data.y.values == 'no', feature_name].value_counts()\n",
    "    \n",
    "all_counts = list(set(list(pos_counts.index) + list(neg_counts.index)))\n",
    "    \n",
    "#Counts of how often each outcome was recorded.\n",
    "freq_pos = (data.y.values == 'yes').sum()\n",
    "freq_neg = (data.y.values == 'no').sum()\n",
    "    \n",
    "pos_counts = pos_counts.to_dict()\n",
    "neg_counts = neg_counts.to_dict()\n",
    "    \n",
    "all_index = list(all_counts)\n",
    "all_counts = [pos_counts.get(k, 0) / freq_pos - neg_counts.get(k, 0) / freq_neg for k in all_counts]\n",
    "\n",
    "sns.barplot(all_counts, all_index)\n",
    "plt.title(feature_name)\n",
    "plt.tight_layout()"
   ]
  },
  {
   "cell_type": "code",
   "execution_count": 36,
   "id": "8cecd765",
   "metadata": {},
   "outputs": [
    {
     "data": {
      "image/png": "[encoded data removed]",
      "text/plain": [
       "<Figure size 432x288 with 1 Axes>"
      ]
     },
     "metadata": {
      "needs_background": "light"
     },
     "output_type": "display_data"
    }
   ],
   "source": [
    "feature_name = 'y'\n",
    "\n",
    "# ======================================================================================================\n",
    "\n",
    "pos_counts = data.loc[data.y.values == 'yes', feature_name].value_counts() \n",
    "neg_counts = data.loc[data.y.values == 'no', feature_name].value_counts()\n",
    "    \n",
    "all_counts = list(set(list(pos_counts.index) + list(neg_counts.index)))\n",
    "    \n",
    "#Counts of how often each outcome was recorded.\n",
    "freq_pos = (data.y.values == 'yes').sum()\n",
    "freq_neg = (data.y.values == 'no').sum()\n",
    "    \n",
    "pos_counts = pos_counts.to_dict()\n",
    "neg_counts = neg_counts.to_dict()\n",
    "    \n",
    "all_index = list(all_counts)\n",
    "all_counts = [pos_counts.get(k, 0) / freq_pos - neg_counts.get(k, 0) / freq_neg for k in all_counts]\n",
    "\n",
    "sns.barplot(all_counts, all_index)\n",
    "plt.title(feature_name)\n",
    "plt.tight_layout()"
   ]
  },
  {
   "cell_type": "markdown",
   "id": "99ef6f4c",
   "metadata": {},
   "source": [
    "1) Veri kümesinde birçok değişken için bilinmeyen değerler var. Eksik verileri işlemenin birçok yolu vardır. Yollardan biri satırı atmaktır, ancak bu veri kümesinin azalmasına yol açacaktır ve bu nedenle doğru ve gerçekçi bir tahmin modeli oluşturma amacımıza hizmet etmeyecektir.\n",
    "\n",
    "2) Diğer yöntem, bilinmeyen değişkenin değerini diğer değişkenlerden akıllıca çıkarmaktır. Bu, eksik değişkenin değerini çıkarmak için diğer bağımsız değişkenleri kullandığımız bir atama yapmanın bir yoludur. Bu, tüm eksik değerlerin ele alınacağını garanti etmez, ancak çoğunun tahminde faydalı olabilecek makul bir değeri olacaktır.\n",
    "\n",
    "3) Değeri bilinmeyen/eksik olan değişkenler: 'Education', 'Job' ve 'Contact'. 'Default' değişken için bilinmeyen, bilinmeyen olarak kaydedildiği kabul edilir. Müşterinin bu bilgileri bankacılık temsilcisine açıklamak istememesi mümkün olabilir. Dolayısıyla 'Default'daki bilinmeyen değer aslında ayrı bir değerdir.\n",
    "\n",
    "4) Bu nedenle 'Education', 'Job' ve 'Contact'da bilinmeyen değerler için yeni değişkenler oluşturarak başlıyoruz. Bunu değerlerin rastgele olup olmadığını veya eksik değerlerde bir kalıp olup olmadığını görmek için yapıyoruz."
   ]
  },
  {
   "cell_type": "markdown",
   "id": "2f6698df",
   "metadata": {},
   "source": [
    "## Çıkarım/Sonuç"
   ]
  },
  {
   "cell_type": "code",
   "execution_count": 37,
   "id": "e6f67083",
   "metadata": {},
   "outputs": [
    {
     "data": {
      "text/html": [
       "<div>\n",
       "<style scoped>\n",
       "    .dataframe tbody tr th:only-of-type {\n",
       "        vertical-align: middle;\n",
       "    }\n",
       "\n",
       "    .dataframe tbody tr th {\n",
       "        vertical-align: top;\n",
       "    }\n",
       "\n",
       "    .dataframe thead th {\n",
       "        text-align: right;\n",
       "    }\n",
       "</style>\n",
       "<table border=\"1\" class=\"dataframe\">\n",
       "  <thead>\n",
       "    <tr style=\"text-align: right;\">\n",
       "      <th></th>\n",
       "      <th>age</th>\n",
       "      <th>job</th>\n",
       "      <th>marital</th>\n",
       "      <th>education</th>\n",
       "      <th>default</th>\n",
       "      <th>balance</th>\n",
       "      <th>housing</th>\n",
       "      <th>loan</th>\n",
       "      <th>contact</th>\n",
       "      <th>day</th>\n",
       "      <th>month</th>\n",
       "      <th>campaign</th>\n",
       "      <th>y</th>\n",
       "    </tr>\n",
       "  </thead>\n",
       "  <tbody>\n",
       "    <tr>\n",
       "      <th>0</th>\n",
       "      <td>58</td>\n",
       "      <td>management</td>\n",
       "      <td>married</td>\n",
       "      <td>tertiary</td>\n",
       "      <td>no</td>\n",
       "      <td>2143</td>\n",
       "      <td>yes</td>\n",
       "      <td>no</td>\n",
       "      <td>unknown</td>\n",
       "      <td>5</td>\n",
       "      <td>may</td>\n",
       "      <td>1</td>\n",
       "      <td>no</td>\n",
       "    </tr>\n",
       "    <tr>\n",
       "      <th>1</th>\n",
       "      <td>44</td>\n",
       "      <td>technician</td>\n",
       "      <td>single</td>\n",
       "      <td>secondary</td>\n",
       "      <td>no</td>\n",
       "      <td>29</td>\n",
       "      <td>yes</td>\n",
       "      <td>no</td>\n",
       "      <td>unknown</td>\n",
       "      <td>5</td>\n",
       "      <td>may</td>\n",
       "      <td>1</td>\n",
       "      <td>no</td>\n",
       "    </tr>\n",
       "    <tr>\n",
       "      <th>2</th>\n",
       "      <td>33</td>\n",
       "      <td>entrepreneur</td>\n",
       "      <td>married</td>\n",
       "      <td>secondary</td>\n",
       "      <td>no</td>\n",
       "      <td>2</td>\n",
       "      <td>yes</td>\n",
       "      <td>yes</td>\n",
       "      <td>unknown</td>\n",
       "      <td>5</td>\n",
       "      <td>may</td>\n",
       "      <td>1</td>\n",
       "      <td>no</td>\n",
       "    </tr>\n",
       "    <tr>\n",
       "      <th>3</th>\n",
       "      <td>47</td>\n",
       "      <td>blue-collar</td>\n",
       "      <td>married</td>\n",
       "      <td>unknown</td>\n",
       "      <td>no</td>\n",
       "      <td>1506</td>\n",
       "      <td>yes</td>\n",
       "      <td>no</td>\n",
       "      <td>unknown</td>\n",
       "      <td>5</td>\n",
       "      <td>may</td>\n",
       "      <td>1</td>\n",
       "      <td>no</td>\n",
       "    </tr>\n",
       "    <tr>\n",
       "      <th>4</th>\n",
       "      <td>33</td>\n",
       "      <td>unknown</td>\n",
       "      <td>single</td>\n",
       "      <td>unknown</td>\n",
       "      <td>no</td>\n",
       "      <td>1</td>\n",
       "      <td>no</td>\n",
       "      <td>no</td>\n",
       "      <td>unknown</td>\n",
       "      <td>5</td>\n",
       "      <td>may</td>\n",
       "      <td>1</td>\n",
       "      <td>no</td>\n",
       "    </tr>\n",
       "  </tbody>\n",
       "</table>\n",
       "</div>"
      ],
      "text/plain": [
       "   age           job  marital  education default  balance housing loan  \\\n",
       "0   58    management  married   tertiary      no     2143     yes   no   \n",
       "1   44    technician   single  secondary      no       29     yes   no   \n",
       "2   33  entrepreneur  married  secondary      no        2     yes  yes   \n",
       "3   47   blue-collar  married    unknown      no     1506     yes   no   \n",
       "4   33       unknown   single    unknown      no        1      no   no   \n",
       "\n",
       "   contact  day month  campaign   y  \n",
       "0  unknown    5   may         1  no  \n",
       "1  unknown    5   may         1  no  \n",
       "2  unknown    5   may         1  no  \n",
       "3  unknown    5   may         1  no  \n",
       "4  unknown    5   may         1  no  "
      ]
     },
     "execution_count": 37,
     "metadata": {},
     "output_type": "execute_result"
    }
   ],
   "source": [
    "data.head()"
   ]
  },
  {
   "cell_type": "code",
   "execution_count": 38,
   "id": "6959ffe0",
   "metadata": {},
   "outputs": [],
   "source": [
    "from sklearn.model_selection import train_test_split"
   ]
  },
  {
   "cell_type": "code",
   "execution_count": 39,
   "id": "328f4ee1",
   "metadata": {},
   "outputs": [],
   "source": [
    "y = data[['y']]\n",
    "X = data.drop(['y'], axis=1)\n",
    "#y = data['y'].values"
   ]
  },
  {
   "cell_type": "code",
   "execution_count": 40,
   "id": "84b8d229",
   "metadata": {},
   "outputs": [],
   "source": [
    "X_train, X_test, y_train, y_test = train_test_split(X, y, test_size=0.30, random_state=42)"
   ]
  },
  {
   "cell_type": "code",
   "execution_count": 41,
   "id": "35f6231d",
   "metadata": {},
   "outputs": [
    {
     "data": {
      "text/plain": [
       "Index(['age', 'job', 'marital', 'education', 'default', 'balance', 'housing',\n",
       "       'loan', 'contact', 'day', 'month', 'campaign'],\n",
       "      dtype='object')"
      ]
     },
     "execution_count": 41,
     "metadata": {},
     "output_type": "execute_result"
    }
   ],
   "source": [
    "X_test.columns"
   ]
  },
  {
   "cell_type": "code",
   "execution_count": 42,
   "id": "5efdd39b",
   "metadata": {},
   "outputs": [
    {
     "data": {
      "text/plain": [
       "Index(['age', 'job', 'marital', 'education', 'default', 'balance', 'housing',\n",
       "       'loan', 'contact', 'day', 'month', 'campaign'],\n",
       "      dtype='object')"
      ]
     },
     "execution_count": 42,
     "metadata": {},
     "output_type": "execute_result"
    }
   ],
   "source": [
    "X_train.columns"
   ]
  },
  {
   "cell_type": "code",
   "execution_count": 43,
   "id": "0338d214",
   "metadata": {},
   "outputs": [
    {
     "data": {
      "text/html": [
       "<div>\n",
       "<style scoped>\n",
       "    .dataframe tbody tr th:only-of-type {\n",
       "        vertical-align: middle;\n",
       "    }\n",
       "\n",
       "    .dataframe tbody tr th {\n",
       "        vertical-align: top;\n",
       "    }\n",
       "\n",
       "    .dataframe thead th {\n",
       "        text-align: right;\n",
       "    }\n",
       "</style>\n",
       "<table border=\"1\" class=\"dataframe\">\n",
       "  <thead>\n",
       "    <tr style=\"text-align: right;\">\n",
       "      <th></th>\n",
       "      <th>y</th>\n",
       "    </tr>\n",
       "  </thead>\n",
       "  <tbody>\n",
       "    <tr>\n",
       "      <th>38015</th>\n",
       "      <td>no</td>\n",
       "    </tr>\n",
       "    <tr>\n",
       "      <th>2281</th>\n",
       "      <td>no</td>\n",
       "    </tr>\n",
       "    <tr>\n",
       "      <th>36629</th>\n",
       "      <td>no</td>\n",
       "    </tr>\n",
       "    <tr>\n",
       "      <th>6087</th>\n",
       "      <td>no</td>\n",
       "    </tr>\n",
       "    <tr>\n",
       "      <th>11792</th>\n",
       "      <td>no</td>\n",
       "    </tr>\n",
       "  </tbody>\n",
       "</table>\n",
       "</div>"
      ],
      "text/plain": [
       "        y\n",
       "38015  no\n",
       "2281   no\n",
       "36629  no\n",
       "6087   no\n",
       "11792  no"
      ]
     },
     "execution_count": 43,
     "metadata": {},
     "output_type": "execute_result"
    }
   ],
   "source": [
    "y_train.head()"
   ]
  },
  {
   "cell_type": "code",
   "execution_count": 44,
   "id": "819d5585",
   "metadata": {},
   "outputs": [
    {
     "data": {
      "text/html": [
       "<div>\n",
       "<style scoped>\n",
       "    .dataframe tbody tr th:only-of-type {\n",
       "        vertical-align: middle;\n",
       "    }\n",
       "\n",
       "    .dataframe tbody tr th {\n",
       "        vertical-align: top;\n",
       "    }\n",
       "\n",
       "    .dataframe thead th {\n",
       "        text-align: right;\n",
       "    }\n",
       "</style>\n",
       "<table border=\"1\" class=\"dataframe\">\n",
       "  <thead>\n",
       "    <tr style=\"text-align: right;\">\n",
       "      <th></th>\n",
       "      <th>y</th>\n",
       "    </tr>\n",
       "  </thead>\n",
       "  <tbody>\n",
       "    <tr>\n",
       "      <th>32823</th>\n",
       "      <td>no</td>\n",
       "    </tr>\n",
       "    <tr>\n",
       "      <th>16298</th>\n",
       "      <td>no</td>\n",
       "    </tr>\n",
       "    <tr>\n",
       "      <th>28505</th>\n",
       "      <td>no</td>\n",
       "    </tr>\n",
       "    <tr>\n",
       "      <th>6689</th>\n",
       "      <td>no</td>\n",
       "    </tr>\n",
       "    <tr>\n",
       "      <th>26893</th>\n",
       "      <td>no</td>\n",
       "    </tr>\n",
       "  </tbody>\n",
       "</table>\n",
       "</div>"
      ],
      "text/plain": [
       "        y\n",
       "32823  no\n",
       "16298  no\n",
       "28505  no\n",
       "6689   no\n",
       "26893  no"
      ]
     },
     "execution_count": 44,
     "metadata": {},
     "output_type": "execute_result"
    }
   ],
   "source": [
    "y_test.head()"
   ]
  },
  {
   "cell_type": "markdown",
   "id": "e0904f67",
   "metadata": {},
   "source": [
    "### Eğitim ve test verilerinin dağıtımı"
   ]
  },
  {
   "cell_type": "code",
   "execution_count": 45,
   "id": "34b1e3bb",
   "metadata": {},
   "outputs": [
    {
     "data": {
      "image/png": "[encoded data removed]",
      "text/plain": [
       "<Figure size 432x288 with 1 Axes>"
      ]
     },
     "metadata": {
      "needs_background": "light"
     },
     "output_type": "display_data"
    },
    {
     "name": "stdout",
     "output_type": "stream",
     "text": [
      "Number of data points in class 1 : 25976 ( 92.771 %)\n",
      "Number of data points in class 2 : 2024 ( 7.229 %)\n",
      "--------------------------------------------------------------------------------\n"
     ]
    }
   ],
   "source": [
    "def plot_distribution(class_distribution,title,xlabel,ylabel):\n",
    "    class_distribution.plot(kind='bar')\n",
    "    plt.xlabel(xlabel)\n",
    "    plt.ylabel(ylabel)\n",
    "    plt.title(title)\n",
    "    plt.grid()\n",
    "    plt.show()\n",
    "\n",
    "\n",
    "# it returns a dict, keys as class labels and values as the number of data points in that class\n",
    "train_class_distribution = y_train['y'].value_counts()\n",
    "test_class_distribution = y_test['y'].value_counts()\n",
    "\n",
    "\n",
    "plot_distribution(train_class_distribution,\n",
    "                 'Distribution of y_i in train data',\n",
    "                 'Class',\n",
    "                 'Data points per Class')\n",
    "\n",
    "#  ref: argsort https://docs.scipy.org/doc/numpy/reference/generated/numpy.argsort.html\n",
    "# -(train_class_distribution.values): the minus sign will give us in decreasing order\n",
    "sorted_yi = np.argsort(-train_class_distribution.values)\n",
    "for i in sorted_yi:\n",
    "    print('Number of data points in class', i+1, ':',train_class_distribution.values[i], \n",
    "          '(', np.round((train_class_distribution.values[i]/X_train.shape[0]*100), 3), '%)')\n",
    "    \n",
    "print('-'*80)"
   ]
  },
  {
   "cell_type": "code",
   "execution_count": 46,
   "id": "183f7ce0",
   "metadata": {},
   "outputs": [
    {
     "data": {
      "image/png": "[encoded data removed]",
      "text/plain": [
       "<Figure size 432x288 with 1 Axes>"
      ]
     },
     "metadata": {
      "needs_background": "light"
     },
     "output_type": "display_data"
    },
    {
     "name": "stdout",
     "output_type": "stream",
     "text": [
      "Number of data points in class 1 : 11128 ( 92.733 %)\n",
      "Number of data points in class 2 : 872 ( 7.267 %)\n",
      "--------------------------------------------------------------------------------\n"
     ]
    }
   ],
   "source": [
    "plot_distribution(test_class_distribution,\n",
    "                 'Distribution of y_i in test data',\n",
    "                 'Class',\n",
    "                 'Data points per Class')\n",
    "\n",
    "# ref: argsort https://docs.scipy.org/doc/numpy/reference/generated/numpy.argsort.html\n",
    "# -(test_class_distribution.values): the minus sign will give us in decreasing order\n",
    "sorted_yi = np.argsort(-test_class_distribution.values)\n",
    "for i in sorted_yi:\n",
    "    print('Number of data points in class', i+1, ':',test_class_distribution.values[i], \n",
    "          '(', np.round((test_class_distribution.values[i]/X_test.shape[0]*100), 3), '%)')\n",
    "\n",
    "print('-'*80)"
   ]
  },
  {
   "cell_type": "code",
   "execution_count": 47,
   "id": "5ba92bf6",
   "metadata": {},
   "outputs": [],
   "source": [
    "data = pd.concat([X_train, y_train], axis=1)"
   ]
  },
  {
   "cell_type": "code",
   "execution_count": 48,
   "id": "af2e4c4b",
   "metadata": {},
   "outputs": [
    {
     "data": {
      "text/html": [
       "<div>\n",
       "<style scoped>\n",
       "    .dataframe tbody tr th:only-of-type {\n",
       "        vertical-align: middle;\n",
       "    }\n",
       "\n",
       "    .dataframe tbody tr th {\n",
       "        vertical-align: top;\n",
       "    }\n",
       "\n",
       "    .dataframe thead th {\n",
       "        text-align: right;\n",
       "    }\n",
       "</style>\n",
       "<table border=\"1\" class=\"dataframe\">\n",
       "  <thead>\n",
       "    <tr style=\"text-align: right;\">\n",
       "      <th></th>\n",
       "      <th>age</th>\n",
       "      <th>job</th>\n",
       "      <th>marital</th>\n",
       "      <th>education</th>\n",
       "      <th>default</th>\n",
       "      <th>balance</th>\n",
       "      <th>housing</th>\n",
       "      <th>loan</th>\n",
       "      <th>contact</th>\n",
       "      <th>day</th>\n",
       "      <th>month</th>\n",
       "      <th>campaign</th>\n",
       "      <th>y</th>\n",
       "    </tr>\n",
       "  </thead>\n",
       "  <tbody>\n",
       "    <tr>\n",
       "      <th>38015</th>\n",
       "      <td>30</td>\n",
       "      <td>entrepreneur</td>\n",
       "      <td>single</td>\n",
       "      <td>tertiary</td>\n",
       "      <td>no</td>\n",
       "      <td>303</td>\n",
       "      <td>yes</td>\n",
       "      <td>no</td>\n",
       "      <td>cellular</td>\n",
       "      <td>14</td>\n",
       "      <td>may</td>\n",
       "      <td>2</td>\n",
       "      <td>no</td>\n",
       "    </tr>\n",
       "    <tr>\n",
       "      <th>2281</th>\n",
       "      <td>34</td>\n",
       "      <td>entrepreneur</td>\n",
       "      <td>single</td>\n",
       "      <td>tertiary</td>\n",
       "      <td>no</td>\n",
       "      <td>714</td>\n",
       "      <td>yes</td>\n",
       "      <td>no</td>\n",
       "      <td>unknown</td>\n",
       "      <td>12</td>\n",
       "      <td>may</td>\n",
       "      <td>4</td>\n",
       "      <td>no</td>\n",
       "    </tr>\n",
       "    <tr>\n",
       "      <th>36629</th>\n",
       "      <td>24</td>\n",
       "      <td>blue-collar</td>\n",
       "      <td>married</td>\n",
       "      <td>secondary</td>\n",
       "      <td>no</td>\n",
       "      <td>1470</td>\n",
       "      <td>yes</td>\n",
       "      <td>no</td>\n",
       "      <td>cellular</td>\n",
       "      <td>12</td>\n",
       "      <td>may</td>\n",
       "      <td>1</td>\n",
       "      <td>no</td>\n",
       "    </tr>\n",
       "    <tr>\n",
       "      <th>6087</th>\n",
       "      <td>43</td>\n",
       "      <td>management</td>\n",
       "      <td>single</td>\n",
       "      <td>secondary</td>\n",
       "      <td>no</td>\n",
       "      <td>109</td>\n",
       "      <td>yes</td>\n",
       "      <td>no</td>\n",
       "      <td>unknown</td>\n",
       "      <td>27</td>\n",
       "      <td>may</td>\n",
       "      <td>3</td>\n",
       "      <td>no</td>\n",
       "    </tr>\n",
       "    <tr>\n",
       "      <th>11792</th>\n",
       "      <td>35</td>\n",
       "      <td>blue-collar</td>\n",
       "      <td>married</td>\n",
       "      <td>primary</td>\n",
       "      <td>no</td>\n",
       "      <td>14</td>\n",
       "      <td>yes</td>\n",
       "      <td>no</td>\n",
       "      <td>unknown</td>\n",
       "      <td>20</td>\n",
       "      <td>jun</td>\n",
       "      <td>1</td>\n",
       "      <td>no</td>\n",
       "    </tr>\n",
       "  </tbody>\n",
       "</table>\n",
       "</div>"
      ],
      "text/plain": [
       "       age           job  marital  education default  balance housing loan  \\\n",
       "38015   30  entrepreneur   single   tertiary      no      303     yes   no   \n",
       "2281    34  entrepreneur   single   tertiary      no      714     yes   no   \n",
       "36629   24   blue-collar  married  secondary      no     1470     yes   no   \n",
       "6087    43    management   single  secondary      no      109     yes   no   \n",
       "11792   35   blue-collar  married    primary      no       14     yes   no   \n",
       "\n",
       "        contact  day month  campaign   y  \n",
       "38015  cellular   14   may         2  no  \n",
       "2281    unknown   12   may         4  no  \n",
       "36629  cellular   12   may         1  no  \n",
       "6087    unknown   27   may         3  no  \n",
       "11792   unknown   20   jun         1  no  "
      ]
     },
     "execution_count": 48,
     "metadata": {},
     "output_type": "execute_result"
    }
   ],
   "source": [
    "data.head()"
   ]
  },
  {
   "cell_type": "code",
   "execution_count": 49,
   "id": "6d7d5298",
   "metadata": {},
   "outputs": [],
   "source": [
    "data_1= pd.concat([X_test, y_test], axis=1)"
   ]
  },
  {
   "cell_type": "code",
   "execution_count": 50,
   "id": "a5a74ac4",
   "metadata": {},
   "outputs": [
    {
     "data": {
      "text/html": [
       "<div>\n",
       "<style scoped>\n",
       "    .dataframe tbody tr th:only-of-type {\n",
       "        vertical-align: middle;\n",
       "    }\n",
       "\n",
       "    .dataframe tbody tr th {\n",
       "        vertical-align: top;\n",
       "    }\n",
       "\n",
       "    .dataframe thead th {\n",
       "        text-align: right;\n",
       "    }\n",
       "</style>\n",
       "<table border=\"1\" class=\"dataframe\">\n",
       "  <thead>\n",
       "    <tr style=\"text-align: right;\">\n",
       "      <th></th>\n",
       "      <th>age</th>\n",
       "      <th>job</th>\n",
       "      <th>marital</th>\n",
       "      <th>education</th>\n",
       "      <th>default</th>\n",
       "      <th>balance</th>\n",
       "      <th>housing</th>\n",
       "      <th>loan</th>\n",
       "      <th>contact</th>\n",
       "      <th>day</th>\n",
       "      <th>month</th>\n",
       "      <th>campaign</th>\n",
       "      <th>y</th>\n",
       "    </tr>\n",
       "  </thead>\n",
       "  <tbody>\n",
       "    <tr>\n",
       "      <th>32823</th>\n",
       "      <td>48</td>\n",
       "      <td>management</td>\n",
       "      <td>divorced</td>\n",
       "      <td>tertiary</td>\n",
       "      <td>no</td>\n",
       "      <td>266</td>\n",
       "      <td>yes</td>\n",
       "      <td>no</td>\n",
       "      <td>cellular</td>\n",
       "      <td>17</td>\n",
       "      <td>apr</td>\n",
       "      <td>2</td>\n",
       "      <td>no</td>\n",
       "    </tr>\n",
       "    <tr>\n",
       "      <th>16298</th>\n",
       "      <td>53</td>\n",
       "      <td>retired</td>\n",
       "      <td>divorced</td>\n",
       "      <td>secondary</td>\n",
       "      <td>no</td>\n",
       "      <td>84</td>\n",
       "      <td>no</td>\n",
       "      <td>no</td>\n",
       "      <td>cellular</td>\n",
       "      <td>23</td>\n",
       "      <td>jul</td>\n",
       "      <td>1</td>\n",
       "      <td>no</td>\n",
       "    </tr>\n",
       "    <tr>\n",
       "      <th>28505</th>\n",
       "      <td>43</td>\n",
       "      <td>management</td>\n",
       "      <td>divorced</td>\n",
       "      <td>tertiary</td>\n",
       "      <td>no</td>\n",
       "      <td>3578</td>\n",
       "      <td>no</td>\n",
       "      <td>no</td>\n",
       "      <td>cellular</td>\n",
       "      <td>29</td>\n",
       "      <td>jan</td>\n",
       "      <td>2</td>\n",
       "      <td>no</td>\n",
       "    </tr>\n",
       "    <tr>\n",
       "      <th>6689</th>\n",
       "      <td>38</td>\n",
       "      <td>technician</td>\n",
       "      <td>married</td>\n",
       "      <td>secondary</td>\n",
       "      <td>no</td>\n",
       "      <td>133</td>\n",
       "      <td>yes</td>\n",
       "      <td>no</td>\n",
       "      <td>unknown</td>\n",
       "      <td>28</td>\n",
       "      <td>may</td>\n",
       "      <td>1</td>\n",
       "      <td>no</td>\n",
       "    </tr>\n",
       "    <tr>\n",
       "      <th>26893</th>\n",
       "      <td>42</td>\n",
       "      <td>management</td>\n",
       "      <td>married</td>\n",
       "      <td>tertiary</td>\n",
       "      <td>no</td>\n",
       "      <td>4014</td>\n",
       "      <td>yes</td>\n",
       "      <td>no</td>\n",
       "      <td>cellular</td>\n",
       "      <td>21</td>\n",
       "      <td>nov</td>\n",
       "      <td>4</td>\n",
       "      <td>no</td>\n",
       "    </tr>\n",
       "  </tbody>\n",
       "</table>\n",
       "</div>"
      ],
      "text/plain": [
       "       age         job   marital  education default  balance housing loan  \\\n",
       "32823   48  management  divorced   tertiary      no      266     yes   no   \n",
       "16298   53     retired  divorced  secondary      no       84      no   no   \n",
       "28505   43  management  divorced   tertiary      no     3578      no   no   \n",
       "6689    38  technician   married  secondary      no      133     yes   no   \n",
       "26893   42  management   married   tertiary      no     4014     yes   no   \n",
       "\n",
       "        contact  day month  campaign   y  \n",
       "32823  cellular   17   apr         2  no  \n",
       "16298  cellular   23   jul         1  no  \n",
       "28505  cellular   29   jan         2  no  \n",
       "6689    unknown   28   may         1  no  \n",
       "26893  cellular   21   nov         4  no  "
      ]
     },
     "execution_count": 50,
     "metadata": {},
     "output_type": "execute_result"
    }
   ],
   "source": [
    "data_1.head()"
   ]
  },
  {
   "cell_type": "markdown",
   "id": "9dd773b6",
   "metadata": {},
   "source": [
    "## Atama\n",
    "\n",
    "* Şimdi, 'Job' ve 'Education'daki eksik değerleri çıkarmak için, 'Job' ve 'Education' arasındaki çapraz tablodan yararlanıyoruz. Buradaki hipotezimiz, 'Job'in bir kişinin 'Education'dan etkilendiğidir. Dolayısıyla, kişinin eğitimine dayanarak 'Job' çıkarabiliriz. Ayrıca, sadece eksik değerleri doldurduğumuz için nedensel çıkarımla fazla ilgilenmiyoruz. Bu nedenle, işi eğitimi tahmin etmek için kullanabiliriz."
   ]
  },
  {
   "cell_type": "code",
   "execution_count": 51,
   "id": "efd18e7f",
   "metadata": {},
   "outputs": [],
   "source": [
    "def cross_tab(data,f1,f2):\n",
    "    # find no of unique values in jobs colums\n",
    "    jobs=list(data[f1].unique())\n",
    "    # find no of unique values in education columns\n",
    "    edu=list(data[f2].unique())\n",
    "    dataframes=[]\n",
    "    for e in edu:\n",
    "        dfe=data[data[f2]==e]\n",
    "        dfejob=dfe.groupby(f1).count()[f2]\n",
    "        dataframes.append(dfejob)\n",
    "    xx=pd.concat(dataframes,axis=1)\n",
    "    xx.columns=edu\n",
    "    xx=xx.fillna(0)\n",
    "    return xx"
   ]
  },
  {
   "cell_type": "code",
   "execution_count": 52,
   "id": "b58e9603",
   "metadata": {},
   "outputs": [
    {
     "data": {
      "text/html": [
       "<div>\n",
       "<style scoped>\n",
       "    .dataframe tbody tr th:only-of-type {\n",
       "        vertical-align: middle;\n",
       "    }\n",
       "\n",
       "    .dataframe tbody tr th {\n",
       "        vertical-align: top;\n",
       "    }\n",
       "\n",
       "    .dataframe thead th {\n",
       "        text-align: right;\n",
       "    }\n",
       "</style>\n",
       "<table border=\"1\" class=\"dataframe\">\n",
       "  <thead>\n",
       "    <tr style=\"text-align: right;\">\n",
       "      <th></th>\n",
       "      <th>tertiary</th>\n",
       "      <th>secondary</th>\n",
       "      <th>primary</th>\n",
       "      <th>unknown</th>\n",
       "    </tr>\n",
       "    <tr>\n",
       "      <th>job</th>\n",
       "      <th></th>\n",
       "      <th></th>\n",
       "      <th></th>\n",
       "      <th></th>\n",
       "    </tr>\n",
       "  </thead>\n",
       "  <tbody>\n",
       "    <tr>\n",
       "      <th>admin</th>\n",
       "      <td>279</td>\n",
       "      <td>2636</td>\n",
       "      <td>133</td>\n",
       "      <td>97</td>\n",
       "    </tr>\n",
       "    <tr>\n",
       "      <th>blue-collar</th>\n",
       "      <td>85</td>\n",
       "      <td>3578</td>\n",
       "      <td>2532</td>\n",
       "      <td>311</td>\n",
       "    </tr>\n",
       "    <tr>\n",
       "      <th>entrepreneur</th>\n",
       "      <td>444</td>\n",
       "      <td>349</td>\n",
       "      <td>116</td>\n",
       "      <td>57</td>\n",
       "    </tr>\n",
       "    <tr>\n",
       "      <th>housemaid</th>\n",
       "      <td>102</td>\n",
       "      <td>258</td>\n",
       "      <td>391</td>\n",
       "      <td>29</td>\n",
       "    </tr>\n",
       "    <tr>\n",
       "      <th>management</th>\n",
       "      <td>4726</td>\n",
       "      <td>721</td>\n",
       "      <td>193</td>\n",
       "      <td>135</td>\n",
       "    </tr>\n",
       "    <tr>\n",
       "      <th>retired</th>\n",
       "      <td>172</td>\n",
       "      <td>464</td>\n",
       "      <td>357</td>\n",
       "      <td>45</td>\n",
       "    </tr>\n",
       "    <tr>\n",
       "      <th>self-employed</th>\n",
       "      <td>491</td>\n",
       "      <td>384</td>\n",
       "      <td>88</td>\n",
       "      <td>22</td>\n",
       "    </tr>\n",
       "    <tr>\n",
       "      <th>services</th>\n",
       "      <td>117</td>\n",
       "      <td>2303</td>\n",
       "      <td>245</td>\n",
       "      <td>99</td>\n",
       "    </tr>\n",
       "    <tr>\n",
       "      <th>student</th>\n",
       "      <td>98</td>\n",
       "      <td>196</td>\n",
       "      <td>17</td>\n",
       "      <td>53</td>\n",
       "    </tr>\n",
       "    <tr>\n",
       "      <th>technician</th>\n",
       "      <td>1183</td>\n",
       "      <td>3308</td>\n",
       "      <td>109</td>\n",
       "      <td>158</td>\n",
       "    </tr>\n",
       "    <tr>\n",
       "      <th>unemployed</th>\n",
       "      <td>168</td>\n",
       "      <td>417</td>\n",
       "      <td>159</td>\n",
       "      <td>12</td>\n",
       "    </tr>\n",
       "    <tr>\n",
       "      <th>unknown</th>\n",
       "      <td>21</td>\n",
       "      <td>39</td>\n",
       "      <td>33</td>\n",
       "      <td>70</td>\n",
       "    </tr>\n",
       "  </tbody>\n",
       "</table>\n",
       "</div>"
      ],
      "text/plain": [
       "               tertiary  secondary  primary  unknown\n",
       "job                                                 \n",
       "admin               279       2636      133       97\n",
       "blue-collar          85       3578     2532      311\n",
       "entrepreneur        444        349      116       57\n",
       "housemaid           102        258      391       29\n",
       "management         4726        721      193      135\n",
       "retired             172        464      357       45\n",
       "self-employed       491        384       88       22\n",
       "services            117       2303      245       99\n",
       "student              98        196       17       53\n",
       "technician         1183       3308      109      158\n",
       "unemployed          168        417      159       12\n",
       "unknown              21         39       33       70"
      ]
     },
     "execution_count": 52,
     "metadata": {},
     "output_type": "execute_result"
    }
   ],
   "source": [
    "cross_tab(data,'job','education')"
   ]
  },
  {
   "cell_type": "markdown",
   "id": "294469b0",
   "metadata": {},
   "source": [
    "- İşlerden eğitim çıkarımı : Çapraz tablodan, yöneticilik işlerine sahip kişilerin genellikle üniversite diplomasına sahip oldukları görülebilir. Dolayısıyla 'iş' = yönetim ve 'eğitim' = bilinmeyen olduğunda, 'eğitim' yerine 'tertiary' koyabiliriz. Benzer şekilde, 'iş' = 'hizmetler' --> 'eğitim' = 'secondary' ve 'iş' = 'hizmetçi' --> 'eğitim' = 'primary'.\n",
    "\n",
    "* Eğitimden meslek çıkarımı : Eğer 'eğitim' = 'secondary' veya 'primary' ise 'iş' genellikle 'mavi yakalı' olur. 'Eğitim' = 'tertiary' ise, 'iş' = 'management'.\n",
    "\n",
    "- İş ve eğitim için değerleri yüklerken, korelasyonların gerçek dünyayı anlamlı hale getirmesi gerektiğinin farkındaydık. Gerçek dünyaya anlam ifade etmiyorsa, eksik değerleri değiştirmedik."
   ]
  },
  {
   "cell_type": "code",
   "execution_count": 53,
   "id": "74a80d65",
   "metadata": {},
   "outputs": [
    {
     "data": {
      "text/plain": [
       "retired          109\n",
       "management        13\n",
       "housemaid         12\n",
       "technician         7\n",
       "blue-collar        7\n",
       "self-employed      4\n",
       "admin              3\n",
       "unknown            3\n",
       "Name: job, dtype: int64"
      ]
     },
     "execution_count": 53,
     "metadata": {},
     "output_type": "execute_result"
    }
   ],
   "source": [
    "data['job'][data['age']>60].value_counts()"
   ]
  },
  {
   "cell_type": "markdown",
   "id": "8b29e8f6",
   "metadata": {},
   "source": [
    "Yaştan çıkarsama işleri: Gördüğümüz gibi, eğer 'yaş' > 60 ise, o zaman 'iş' 'emekli'dir, bu mantıklıdır."
   ]
  },
  {
   "cell_type": "code",
   "execution_count": 54,
   "id": "a61e7d91",
   "metadata": {},
   "outputs": [],
   "source": [
    "data.loc[(data['age']>60) & (data['job']=='unknown'), 'job'] = 'retired'\n",
    "data.loc[(data['education']=='unknown') & (data['job']=='admin'), 'education'] = 'secondary'\n",
    "data.loc[(data['education']=='unknown') & (data['job']=='blue-collar'), 'education'] = 'primary'\n",
    "data.loc[(data['education']=='unknown') & (data['job']=='entrepreneur'), 'education'] = 'tertiary'\n",
    "data.loc[(data['education']=='unknown') & (data['job']=='housemaid'), 'education'] = 'primary'\n",
    "data.loc[(data['education']=='unknown') & (data['job']=='management'), 'education'] = 'tertiary'\n",
    "data.loc[(data['education']=='unknown') & (data['job']=='self-employed'), 'education'] = 'tertiary'\n",
    "data.loc[(data['education']=='unknown') & (data['job']=='services'), 'education'] = 'secondary'\n",
    "data.loc[(data['education']=='unknown') & (data['job']=='student'), 'education'] = 'primary'\n",
    "data.loc[(data['education']=='unknown') & (data['job']=='technician'), 'education'] = 'secondary'\n",
    "data.loc[(data['education']=='unknown') & (data['job']=='unemployed'), 'education'] = 'primary'\n",
    "data.loc[(data['job'] == 'unknown') & (data['education']=='primary'), 'job'] = 'blue-collar'\n",
    "data.loc[(data['job'] == 'unknown') & (data['education']=='secondary'), 'job'] = 'technician'\n",
    "data.loc[(data['job'] == 'unknown') & (data['education']=='tertiary'), 'job'] = 'management'"
   ]
  },
  {
   "cell_type": "code",
   "execution_count": 55,
   "id": "7f5e74f7",
   "metadata": {
    "scrolled": false
   },
   "outputs": [
    {
     "data": {
      "text/html": [
       "<div>\n",
       "<style scoped>\n",
       "    .dataframe tbody tr th:only-of-type {\n",
       "        vertical-align: middle;\n",
       "    }\n",
       "\n",
       "    .dataframe tbody tr th {\n",
       "        vertical-align: top;\n",
       "    }\n",
       "\n",
       "    .dataframe thead th {\n",
       "        text-align: right;\n",
       "    }\n",
       "</style>\n",
       "<table border=\"1\" class=\"dataframe\">\n",
       "  <thead>\n",
       "    <tr style=\"text-align: right;\">\n",
       "      <th></th>\n",
       "      <th>tertiary</th>\n",
       "      <th>secondary</th>\n",
       "      <th>primary</th>\n",
       "      <th>unknown</th>\n",
       "    </tr>\n",
       "  </thead>\n",
       "  <tbody>\n",
       "    <tr>\n",
       "      <th>admin</th>\n",
       "      <td>279.0</td>\n",
       "      <td>2733.0</td>\n",
       "      <td>133.0</td>\n",
       "      <td>0.0</td>\n",
       "    </tr>\n",
       "    <tr>\n",
       "      <th>blue-collar</th>\n",
       "      <td>85.0</td>\n",
       "      <td>3578.0</td>\n",
       "      <td>2876.0</td>\n",
       "      <td>0.0</td>\n",
       "    </tr>\n",
       "    <tr>\n",
       "      <th>entrepreneur</th>\n",
       "      <td>501.0</td>\n",
       "      <td>349.0</td>\n",
       "      <td>116.0</td>\n",
       "      <td>0.0</td>\n",
       "    </tr>\n",
       "    <tr>\n",
       "      <th>housemaid</th>\n",
       "      <td>102.0</td>\n",
       "      <td>258.0</td>\n",
       "      <td>420.0</td>\n",
       "      <td>0.0</td>\n",
       "    </tr>\n",
       "    <tr>\n",
       "      <th>management</th>\n",
       "      <td>4881.0</td>\n",
       "      <td>721.0</td>\n",
       "      <td>193.0</td>\n",
       "      <td>0.0</td>\n",
       "    </tr>\n",
       "    <tr>\n",
       "      <th>retired</th>\n",
       "      <td>173.0</td>\n",
       "      <td>465.0</td>\n",
       "      <td>357.0</td>\n",
       "      <td>46.0</td>\n",
       "    </tr>\n",
       "    <tr>\n",
       "      <th>self-employed</th>\n",
       "      <td>513.0</td>\n",
       "      <td>384.0</td>\n",
       "      <td>88.0</td>\n",
       "      <td>0.0</td>\n",
       "    </tr>\n",
       "    <tr>\n",
       "      <th>services</th>\n",
       "      <td>117.0</td>\n",
       "      <td>2402.0</td>\n",
       "      <td>245.0</td>\n",
       "      <td>0.0</td>\n",
       "    </tr>\n",
       "    <tr>\n",
       "      <th>student</th>\n",
       "      <td>98.0</td>\n",
       "      <td>196.0</td>\n",
       "      <td>70.0</td>\n",
       "      <td>0.0</td>\n",
       "    </tr>\n",
       "    <tr>\n",
       "      <th>technician</th>\n",
       "      <td>1183.0</td>\n",
       "      <td>3504.0</td>\n",
       "      <td>109.0</td>\n",
       "      <td>0.0</td>\n",
       "    </tr>\n",
       "    <tr>\n",
       "      <th>unemployed</th>\n",
       "      <td>168.0</td>\n",
       "      <td>417.0</td>\n",
       "      <td>171.0</td>\n",
       "      <td>0.0</td>\n",
       "    </tr>\n",
       "    <tr>\n",
       "      <th>unknown</th>\n",
       "      <td>0.0</td>\n",
       "      <td>0.0</td>\n",
       "      <td>0.0</td>\n",
       "      <td>69.0</td>\n",
       "    </tr>\n",
       "  </tbody>\n",
       "</table>\n",
       "</div>"
      ],
      "text/plain": [
       "               tertiary  secondary  primary  unknown\n",
       "admin             279.0     2733.0    133.0      0.0\n",
       "blue-collar        85.0     3578.0   2876.0      0.0\n",
       "entrepreneur      501.0      349.0    116.0      0.0\n",
       "housemaid         102.0      258.0    420.0      0.0\n",
       "management       4881.0      721.0    193.0      0.0\n",
       "retired           173.0      465.0    357.0     46.0\n",
       "self-employed     513.0      384.0     88.0      0.0\n",
       "services          117.0     2402.0    245.0      0.0\n",
       "student            98.0      196.0     70.0      0.0\n",
       "technician       1183.0     3504.0    109.0      0.0\n",
       "unemployed        168.0      417.0    171.0      0.0\n",
       "unknown             0.0        0.0      0.0     69.0"
      ]
     },
     "execution_count": 55,
     "metadata": {},
     "output_type": "execute_result"
    }
   ],
   "source": [
    "cross_tab(data,'job','education')"
   ]
  },
  {
   "cell_type": "markdown",
   "id": "853a23b0",
   "metadata": {},
   "source": [
    "Gördüğümüz gibi, bilinmeyenlerin sayısını azaltabiliyor ve veri setimizi geliştirebiliyoruz."
   ]
  },
  {
   "cell_type": "markdown",
   "id": "1de64bb1",
   "metadata": {},
   "source": [
    "### Sayısal değişkenler\n",
    "Sayısal değişkenleri anlamak için verilerin özetini görelim"
   ]
  },
  {
   "cell_type": "code",
   "execution_count": 56,
   "id": "436c7106",
   "metadata": {
    "scrolled": true
   },
   "outputs": [
    {
     "data": {
      "text/html": [
       "<div>\n",
       "<style scoped>\n",
       "    .dataframe tbody tr th:only-of-type {\n",
       "        vertical-align: middle;\n",
       "    }\n",
       "\n",
       "    .dataframe tbody tr th {\n",
       "        vertical-align: top;\n",
       "    }\n",
       "\n",
       "    .dataframe thead th {\n",
       "        text-align: right;\n",
       "    }\n",
       "</style>\n",
       "<table border=\"1\" class=\"dataframe\">\n",
       "  <thead>\n",
       "    <tr style=\"text-align: right;\">\n",
       "      <th></th>\n",
       "      <th>age</th>\n",
       "      <th>campaign</th>\n",
       "      <th>balance</th>\n",
       "      <th>day</th>\n",
       "    </tr>\n",
       "  </thead>\n",
       "  <tbody>\n",
       "    <tr>\n",
       "      <th>count</th>\n",
       "      <td>28000.000000</td>\n",
       "      <td>28000.000000</td>\n",
       "      <td>28000.000000</td>\n",
       "      <td>28000.000000</td>\n",
       "    </tr>\n",
       "    <tr>\n",
       "      <th>mean</th>\n",
       "      <td>40.613321</td>\n",
       "      <td>2.884286</td>\n",
       "      <td>1280.673179</td>\n",
       "      <td>16.057500</td>\n",
       "    </tr>\n",
       "    <tr>\n",
       "      <th>std</th>\n",
       "      <td>9.680463</td>\n",
       "      <td>3.277912</td>\n",
       "      <td>2890.332386</td>\n",
       "      <td>8.262877</td>\n",
       "    </tr>\n",
       "    <tr>\n",
       "      <th>min</th>\n",
       "      <td>19.000000</td>\n",
       "      <td>1.000000</td>\n",
       "      <td>-6847.000000</td>\n",
       "      <td>1.000000</td>\n",
       "    </tr>\n",
       "    <tr>\n",
       "      <th>25%</th>\n",
       "      <td>33.000000</td>\n",
       "      <td>1.000000</td>\n",
       "      <td>55.000000</td>\n",
       "      <td>9.000000</td>\n",
       "    </tr>\n",
       "    <tr>\n",
       "      <th>50%</th>\n",
       "      <td>39.000000</td>\n",
       "      <td>2.000000</td>\n",
       "      <td>409.000000</td>\n",
       "      <td>17.000000</td>\n",
       "    </tr>\n",
       "    <tr>\n",
       "      <th>75%</th>\n",
       "      <td>48.000000</td>\n",
       "      <td>3.000000</td>\n",
       "      <td>1330.000000</td>\n",
       "      <td>21.000000</td>\n",
       "    </tr>\n",
       "    <tr>\n",
       "      <th>max</th>\n",
       "      <td>94.000000</td>\n",
       "      <td>58.000000</td>\n",
       "      <td>102127.000000</td>\n",
       "      <td>31.000000</td>\n",
       "    </tr>\n",
       "  </tbody>\n",
       "</table>\n",
       "</div>"
      ],
      "text/plain": [
       "                age      campaign        balance           day\n",
       "count  28000.000000  28000.000000   28000.000000  28000.000000\n",
       "mean      40.613321      2.884286    1280.673179     16.057500\n",
       "std        9.680463      3.277912    2890.332386      8.262877\n",
       "min       19.000000      1.000000   -6847.000000      1.000000\n",
       "25%       33.000000      1.000000      55.000000      9.000000\n",
       "50%       39.000000      2.000000     409.000000     17.000000\n",
       "75%       48.000000      3.000000    1330.000000     21.000000\n",
       "max       94.000000     58.000000  102127.000000     31.000000"
      ]
     },
     "execution_count": 56,
     "metadata": {},
     "output_type": "execute_result"
    }
   ],
   "source": [
    "numerical_variables = ['age','campaign', 'balance', 'day']\n",
    "data[numerical_variables].describe()"
   ]
  },
  {
   "cell_type": "markdown",
   "id": "5841542c",
   "metadata": {},
   "source": [
    "Eksik Değerler: Veri kaynağından (U.C. Irvine ML Deposu), eksik değerlerin veya NaN'lerin '999' olarak kodlandığı söylendi. Yukarıdaki tabloda eksik verimizin olmadığı gözlemlenmektedir"
   ]
  },
  {
   "cell_type": "code",
   "execution_count": 87,
   "id": "6440b3c2",
   "metadata": {},
   "outputs": [
    {
     "data": {
      "text/plain": [
       "Index([], dtype='object')"
      ]
     },
     "execution_count": 87,
     "metadata": {},
     "output_type": "execute_result"
    }
   ],
   "source": [
    "data.columns[data.isnull().any()]"
   ]
  },
  {
   "cell_type": "code",
   "execution_count": 88,
   "id": "57af854f",
   "metadata": {},
   "outputs": [
    {
     "data": {
      "text/html": [
       "<div>\n",
       "<style scoped>\n",
       "    .dataframe tbody tr th:only-of-type {\n",
       "        vertical-align: middle;\n",
       "    }\n",
       "\n",
       "    .dataframe tbody tr th {\n",
       "        vertical-align: top;\n",
       "    }\n",
       "\n",
       "    .dataframe thead th {\n",
       "        text-align: right;\n",
       "    }\n",
       "</style>\n",
       "<table border=\"1\" class=\"dataframe\">\n",
       "  <thead>\n",
       "    <tr style=\"text-align: right;\">\n",
       "      <th></th>\n",
       "      <th>age</th>\n",
       "      <th>job</th>\n",
       "      <th>marital</th>\n",
       "      <th>education</th>\n",
       "      <th>default</th>\n",
       "      <th>balance</th>\n",
       "      <th>housing</th>\n",
       "      <th>loan</th>\n",
       "      <th>contact</th>\n",
       "      <th>day</th>\n",
       "      <th>month</th>\n",
       "      <th>campaign</th>\n",
       "      <th>y</th>\n",
       "    </tr>\n",
       "  </thead>\n",
       "  <tbody>\n",
       "    <tr>\n",
       "      <th>38015</th>\n",
       "      <td>1</td>\n",
       "      <td>entrepreneur</td>\n",
       "      <td>single</td>\n",
       "      <td>tertiary</td>\n",
       "      <td>0</td>\n",
       "      <td>303</td>\n",
       "      <td>1</td>\n",
       "      <td>0</td>\n",
       "      <td>cellular</td>\n",
       "      <td>14</td>\n",
       "      <td>may</td>\n",
       "      <td>2</td>\n",
       "      <td>no</td>\n",
       "    </tr>\n",
       "    <tr>\n",
       "      <th>2281</th>\n",
       "      <td>2</td>\n",
       "      <td>entrepreneur</td>\n",
       "      <td>single</td>\n",
       "      <td>tertiary</td>\n",
       "      <td>0</td>\n",
       "      <td>714</td>\n",
       "      <td>1</td>\n",
       "      <td>0</td>\n",
       "      <td>unknown</td>\n",
       "      <td>12</td>\n",
       "      <td>may</td>\n",
       "      <td>4</td>\n",
       "      <td>no</td>\n",
       "    </tr>\n",
       "    <tr>\n",
       "      <th>36629</th>\n",
       "      <td>1</td>\n",
       "      <td>blue-collar</td>\n",
       "      <td>married</td>\n",
       "      <td>secondary</td>\n",
       "      <td>0</td>\n",
       "      <td>1470</td>\n",
       "      <td>1</td>\n",
       "      <td>0</td>\n",
       "      <td>cellular</td>\n",
       "      <td>12</td>\n",
       "      <td>may</td>\n",
       "      <td>1</td>\n",
       "      <td>no</td>\n",
       "    </tr>\n",
       "    <tr>\n",
       "      <th>6087</th>\n",
       "      <td>3</td>\n",
       "      <td>management</td>\n",
       "      <td>single</td>\n",
       "      <td>secondary</td>\n",
       "      <td>0</td>\n",
       "      <td>109</td>\n",
       "      <td>1</td>\n",
       "      <td>0</td>\n",
       "      <td>unknown</td>\n",
       "      <td>27</td>\n",
       "      <td>may</td>\n",
       "      <td>3</td>\n",
       "      <td>no</td>\n",
       "    </tr>\n",
       "    <tr>\n",
       "      <th>11792</th>\n",
       "      <td>2</td>\n",
       "      <td>blue-collar</td>\n",
       "      <td>married</td>\n",
       "      <td>primary</td>\n",
       "      <td>0</td>\n",
       "      <td>14</td>\n",
       "      <td>1</td>\n",
       "      <td>0</td>\n",
       "      <td>unknown</td>\n",
       "      <td>20</td>\n",
       "      <td>jun</td>\n",
       "      <td>1</td>\n",
       "      <td>no</td>\n",
       "    </tr>\n",
       "  </tbody>\n",
       "</table>\n",
       "</div>"
      ],
      "text/plain": [
       "       age           job  marital  education  default  balance  housing  loan  \\\n",
       "38015    1  entrepreneur   single   tertiary        0      303        1     0   \n",
       "2281     2  entrepreneur   single   tertiary        0      714        1     0   \n",
       "36629    1   blue-collar  married  secondary        0     1470        1     0   \n",
       "6087     3    management   single  secondary        0      109        1     0   \n",
       "11792    2   blue-collar  married    primary        0       14        1     0   \n",
       "\n",
       "        contact  day month  campaign   y  \n",
       "38015  cellular   14   may         2  no  \n",
       "2281    unknown   12   may         4  no  \n",
       "36629  cellular   12   may         1  no  \n",
       "6087    unknown   27   may         3  no  \n",
       "11792   unknown   20   jun         1  no  "
      ]
     },
     "execution_count": 88,
     "metadata": {},
     "output_type": "execute_result"
    }
   ],
   "source": [
    "data.head()"
   ]
  },
  {
   "cell_type": "code",
   "execution_count": 58,
   "id": "2a7c9d40",
   "metadata": {},
   "outputs": [
    {
     "data": {
      "text/plain": [
       "Index(['age', 'job', 'marital', 'education', 'default', 'balance', 'housing',\n",
       "       'loan', 'contact', 'day', 'month', 'campaign', 'y'],\n",
       "      dtype='object')"
      ]
     },
     "execution_count": 58,
     "metadata": {},
     "output_type": "execute_result"
    }
   ],
   "source": [
    "data.columns"
   ]
  },
  {
   "cell_type": "markdown",
   "id": "a5c8283f",
   "metadata": {},
   "source": [
    "## Denge"
   ]
  },
  {
   "cell_type": "code",
   "execution_count": 59,
   "id": "61f457f3",
   "metadata": {},
   "outputs": [
    {
     "data": {
      "text/plain": [
       "<AxesSubplot:xlabel='y', ylabel='count'>"
      ]
     },
     "execution_count": 59,
     "metadata": {},
     "output_type": "execute_result"
    },
    {
     "data": {
      "image/png": "[encoded data removed]",
      "text/plain": [
       "<Figure size 432x288 with 1 Axes>"
      ]
     },
     "metadata": {
      "needs_background": "light"
     },
     "output_type": "display_data"
    }
   ],
   "source": [
    "sns.countplot(x='y',data=data)"
   ]
  },
  {
   "cell_type": "markdown",
   "id": "38b63441",
   "metadata": {},
   "source": [
    "Verilerin çok çarpık olduğunu görebiliriz, bu yüzden 'evet'e karşılık gelen demetleri çoğaltıyoruz."
   ]
  },
  {
   "cell_type": "code",
   "execution_count": 60,
   "id": "07604891",
   "metadata": {},
   "outputs": [],
   "source": [
    "d1=data.copy()\n",
    "d2=d1[d1.y=='yes']\n",
    "d1=pd.concat([d1, d2])\n",
    "d1=pd.concat([d1, d2])\n",
    "d1=pd.concat([d1, d2])\n",
    "d1=pd.concat([d1, d2])\n",
    "d1=pd.concat([d1, d2])\n",
    "d1=pd.concat([d1, d2])\n",
    "d1=pd.concat([d1, d2])\n",
    "data=d1"
   ]
  },
  {
   "cell_type": "code",
   "execution_count": 61,
   "id": "3cde054b",
   "metadata": {},
   "outputs": [
    {
     "data": {
      "text/plain": [
       "<AxesSubplot:xlabel='y', ylabel='count'>"
      ]
     },
     "execution_count": 61,
     "metadata": {},
     "output_type": "execute_result"
    },
    {
     "data": {
      "image/png": "[encoded data removed]",
      "text/plain": [
       "<Figure size 432x288 with 1 Axes>"
      ]
     },
     "metadata": {
      "needs_background": "light"
     },
     "output_type": "display_data"
    }
   ],
   "source": [
    "sns.countplot(x='y',data=data)"
   ]
  },
  {
   "cell_type": "markdown",
   "id": "77609d2a",
   "metadata": {},
   "source": [
    "### Aykırı Değer Kontrol"
   ]
  },
  {
   "cell_type": "markdown",
   "id": "3f60553a",
   "metadata": {},
   "source": [
    "Kullanılacak olan verisetlerinde herhangi bir şekilde ortalamaya kötü yönde etki edecek verinin tespitini yapmak.\n",
    "\n",
    "https://www.kaggle.com/sbariskoksal/sbariskoksal-titanic-eda?scriptVersionId=52751424&cellId=21"
   ]
  },
  {
   "cell_type": "markdown",
   "id": "426a7d8c",
   "metadata": {},
   "source": [
    "#### Aykırı Değerler"
   ]
  },
  {
   "cell_type": "markdown",
   "id": "525d14c6",
   "metadata": {},
   "source": [
    "* Outliers are defined as 1.5 x Q3 value (75th percentile).\n",
    "* From the above table, it can be seen that only 'age' and 'campaign' have outliers as max('age') and max('campaign') > 1.5Q3('age') and >1.5Q3('campaign') respectively."
   ]
  },
  {
   "cell_type": "code",
   "execution_count": 65,
   "id": "d2276253",
   "metadata": {},
   "outputs": [],
   "source": [
    "def detect_outliers(df,features):\n",
    "    outlierIndices = []\n",
    "    \n",
    "    for c in features:\n",
    "        # Q1\n",
    "        Q1 = np.percentile(df[c],25)\n",
    "        # Q3\n",
    "        Q3 = np.percentile(df[c],75)\n",
    "        # IQR\n",
    "        IQR = Q3 - Q1\n",
    "        # outlier Step\n",
    "        outlierStep = IQR * 1.5\n",
    "        # detect outlier and their indices\n",
    "        outlierListCol = df[(df[c] < Q1 - outlierStep) | (df[c] > Q3 + outlierStep )].index\n",
    "        # store indeces\n",
    "        outlierIndices.extend(outlierListCol)\n",
    "        \n",
    "    outlierIndices = Counter(outlierIndices)\n",
    "    \n",
    "    multipleOutliers = list(i for i, v in outlierIndices.items() if v > 2)\n",
    "    \n",
    "    return multipleOutliers"
   ]
  },
  {
   "cell_type": "code",
   "execution_count": 66,
   "id": "9f6c1e89",
   "metadata": {},
   "outputs": [
    {
     "data": {
      "text/plain": [
       "<AxesSubplot:>"
      ]
     },
     "execution_count": 66,
     "metadata": {},
     "output_type": "execute_result"
    },
    {
     "data": {
      "image/png": "[encoded data removed]",
      "text/plain": [
       "<Figure size 432x288 with 1 Axes>"
      ]
     },
     "metadata": {
      "needs_background": "light"
     },
     "output_type": "display_data"
    }
   ],
   "source": [
    "# Check outlier if any for Numberic column.\n",
    "data.age.plot(kind='box')\n",
    "# There are outlier and check max age and age greated than 90"
   ]
  },
  {
   "cell_type": "code",
   "execution_count": 67,
   "id": "3b02649c",
   "metadata": {},
   "outputs": [
    {
     "name": "stdout",
     "output_type": "stream",
     "text": [
      "94\n"
     ]
    },
    {
     "data": {
      "text/html": [
       "<div>\n",
       "<style scoped>\n",
       "    .dataframe tbody tr th:only-of-type {\n",
       "        vertical-align: middle;\n",
       "    }\n",
       "\n",
       "    .dataframe tbody tr th {\n",
       "        vertical-align: top;\n",
       "    }\n",
       "\n",
       "    .dataframe thead th {\n",
       "        text-align: right;\n",
       "    }\n",
       "</style>\n",
       "<table border=\"1\" class=\"dataframe\">\n",
       "  <thead>\n",
       "    <tr style=\"text-align: right;\">\n",
       "      <th></th>\n",
       "      <th>age</th>\n",
       "      <th>job</th>\n",
       "      <th>marital</th>\n",
       "      <th>education</th>\n",
       "      <th>default</th>\n",
       "      <th>balance</th>\n",
       "      <th>housing</th>\n",
       "      <th>loan</th>\n",
       "      <th>contact</th>\n",
       "      <th>day</th>\n",
       "      <th>month</th>\n",
       "      <th>campaign</th>\n",
       "      <th>y</th>\n",
       "    </tr>\n",
       "  </thead>\n",
       "  <tbody>\n",
       "    <tr>\n",
       "      <th>31395</th>\n",
       "      <td>83</td>\n",
       "      <td>retired</td>\n",
       "      <td>divorced</td>\n",
       "      <td>primary</td>\n",
       "      <td>no</td>\n",
       "      <td>46</td>\n",
       "      <td>no</td>\n",
       "      <td>no</td>\n",
       "      <td>cellular</td>\n",
       "      <td>25</td>\n",
       "      <td>mar</td>\n",
       "      <td>1</td>\n",
       "      <td>yes</td>\n",
       "    </tr>\n",
       "    <tr>\n",
       "      <th>31089</th>\n",
       "      <td>82</td>\n",
       "      <td>retired</td>\n",
       "      <td>married</td>\n",
       "      <td>tertiary</td>\n",
       "      <td>no</td>\n",
       "      <td>278</td>\n",
       "      <td>no</td>\n",
       "      <td>no</td>\n",
       "      <td>cellular</td>\n",
       "      <td>16</td>\n",
       "      <td>feb</td>\n",
       "      <td>7</td>\n",
       "      <td>no</td>\n",
       "    </tr>\n",
       "    <tr>\n",
       "      <th>31233</th>\n",
       "      <td>94</td>\n",
       "      <td>retired</td>\n",
       "      <td>divorced</td>\n",
       "      <td>secondary</td>\n",
       "      <td>no</td>\n",
       "      <td>1234</td>\n",
       "      <td>no</td>\n",
       "      <td>no</td>\n",
       "      <td>cellular</td>\n",
       "      <td>3</td>\n",
       "      <td>mar</td>\n",
       "      <td>1</td>\n",
       "      <td>no</td>\n",
       "    </tr>\n",
       "    <tr>\n",
       "      <th>29158</th>\n",
       "      <td>83</td>\n",
       "      <td>retired</td>\n",
       "      <td>married</td>\n",
       "      <td>primary</td>\n",
       "      <td>no</td>\n",
       "      <td>425</td>\n",
       "      <td>no</td>\n",
       "      <td>no</td>\n",
       "      <td>telephone</td>\n",
       "      <td>2</td>\n",
       "      <td>feb</td>\n",
       "      <td>1</td>\n",
       "      <td>no</td>\n",
       "    </tr>\n",
       "    <tr>\n",
       "      <th>29322</th>\n",
       "      <td>83</td>\n",
       "      <td>retired</td>\n",
       "      <td>married</td>\n",
       "      <td>tertiary</td>\n",
       "      <td>no</td>\n",
       "      <td>6236</td>\n",
       "      <td>no</td>\n",
       "      <td>no</td>\n",
       "      <td>cellular</td>\n",
       "      <td>2</td>\n",
       "      <td>feb</td>\n",
       "      <td>2</td>\n",
       "      <td>no</td>\n",
       "    </tr>\n",
       "  </tbody>\n",
       "</table>\n",
       "</div>"
      ],
      "text/plain": [
       "       age      job   marital  education default  balance housing loan  \\\n",
       "31395   83  retired  divorced    primary      no       46      no   no   \n",
       "31089   82  retired   married   tertiary      no      278      no   no   \n",
       "31233   94  retired  divorced  secondary      no     1234      no   no   \n",
       "29158   83  retired   married    primary      no      425      no   no   \n",
       "29322   83  retired   married   tertiary      no     6236      no   no   \n",
       "\n",
       "         contact  day month  campaign    y  \n",
       "31395   cellular   25   mar         1  yes  \n",
       "31089   cellular   16   feb         7   no  \n",
       "31233   cellular    3   mar         1   no  \n",
       "29158  telephone    2   feb         1   no  \n",
       "29322   cellular    2   feb         2   no  "
      ]
     },
     "execution_count": 67,
     "metadata": {},
     "output_type": "execute_result"
    }
   ],
   "source": [
    "print(data.age.max())\n",
    "data[data['age'] > 80].head(5)"
   ]
  },
  {
   "cell_type": "code",
   "execution_count": 68,
   "id": "41d54256",
   "metadata": {},
   "outputs": [
    {
     "data": {
      "text/plain": [
       "<AxesSubplot:ylabel='Frequency'>"
      ]
     },
     "execution_count": 68,
     "metadata": {},
     "output_type": "execute_result"
    },
    {
     "data": {
      "image/png": "[encoded data removed]",
      "text/plain": [
       "<Figure size 432x288 with 1 Axes>"
      ]
     },
     "metadata": {
      "needs_background": "light"
     },
     "output_type": "display_data"
    }
   ],
   "source": [
    "data.age.plot(kind='hist')\n",
    "# it is bit positively skewed but it is ok and seems no high dependency with Output variable"
   ]
  },
  {
   "cell_type": "code",
   "execution_count": 69,
   "id": "6791c083",
   "metadata": {},
   "outputs": [
    {
     "data": {
      "text/plain": [
       "<AxesSubplot:ylabel='Density'>"
      ]
     },
     "execution_count": 69,
     "metadata": {},
     "output_type": "execute_result"
    },
    {
     "data": {
      "image/png": "[encoded data removed]",
      "text/plain": [
       "<Figure size 432x288 with 1 Axes>"
      ]
     },
     "metadata": {
      "needs_background": "light"
     },
     "output_type": "display_data"
    }
   ],
   "source": [
    "data.age.plot(kind='kde')"
   ]
  },
  {
   "cell_type": "code",
   "execution_count": 70,
   "id": "6e7ff9c1",
   "metadata": {},
   "outputs": [],
   "source": [
    "# Create Binning for all numeric fields base on Box plot quantile\n",
    "def binning(dataframe,featureName):\n",
    "    print (featureName)\n",
    "    q1 = dataframe[featureName].quantile(0.25)\n",
    "    q2 = dataframe[featureName].quantile(0.50)\n",
    "    q3 = dataframe[featureName].quantile(0.75)\n",
    "    dataframe.loc[(dataframe[featureName] <= q1), featureName] = 1\n",
    "    dataframe.loc[(dataframe[featureName] > q1) & (dataframe[featureName] <= q2), featureName] = 2\n",
    "    dataframe.loc[(dataframe[featureName] > q2) & (dataframe[featureName] <= q3), featureName] = 3\n",
    "    dataframe.loc[(dataframe[featureName] > q3), featureName] = 4 \n",
    "    print (q1, q2, q3)"
   ]
  },
  {
   "cell_type": "code",
   "execution_count": 71,
   "id": "d37b70a6",
   "metadata": {},
   "outputs": [
    {
     "name": "stdout",
     "output_type": "stream",
     "text": [
      "age\n",
      "32.0 39.0 48.0\n"
     ]
    }
   ],
   "source": [
    "binning(data,'age')"
   ]
  },
  {
   "cell_type": "markdown",
   "id": "5802ebed",
   "metadata": {},
   "source": [
    "### Verileri Standartlaştırma"
   ]
  },
  {
   "cell_type": "code",
   "execution_count": 72,
   "id": "4cc19372",
   "metadata": {},
   "outputs": [
    {
     "data": {
      "text/plain": [
       "Index(['age', 'job', 'marital', 'education', 'default', 'balance', 'housing',\n",
       "       'loan', 'contact', 'day', 'month', 'campaign', 'y'],\n",
       "      dtype='object')"
      ]
     },
     "execution_count": 72,
     "metadata": {},
     "output_type": "execute_result"
    }
   ],
   "source": [
    "data.columns"
   ]
  },
  {
   "cell_type": "code",
   "execution_count": 73,
   "id": "fb844973",
   "metadata": {},
   "outputs": [
    {
     "data": {
      "text/html": [
       "<div>\n",
       "<style scoped>\n",
       "    .dataframe tbody tr th:only-of-type {\n",
       "        vertical-align: middle;\n",
       "    }\n",
       "\n",
       "    .dataframe tbody tr th {\n",
       "        vertical-align: top;\n",
       "    }\n",
       "\n",
       "    .dataframe thead th {\n",
       "        text-align: right;\n",
       "    }\n",
       "</style>\n",
       "<table border=\"1\" class=\"dataframe\">\n",
       "  <thead>\n",
       "    <tr style=\"text-align: right;\">\n",
       "      <th></th>\n",
       "      <th>age</th>\n",
       "      <th>job</th>\n",
       "      <th>marital</th>\n",
       "      <th>education</th>\n",
       "      <th>default</th>\n",
       "      <th>balance</th>\n",
       "      <th>housing</th>\n",
       "      <th>loan</th>\n",
       "      <th>contact</th>\n",
       "      <th>day</th>\n",
       "      <th>month</th>\n",
       "      <th>campaign</th>\n",
       "      <th>y</th>\n",
       "    </tr>\n",
       "  </thead>\n",
       "  <tbody>\n",
       "    <tr>\n",
       "      <th>38015</th>\n",
       "      <td>1</td>\n",
       "      <td>entrepreneur</td>\n",
       "      <td>single</td>\n",
       "      <td>tertiary</td>\n",
       "      <td>no</td>\n",
       "      <td>303</td>\n",
       "      <td>yes</td>\n",
       "      <td>no</td>\n",
       "      <td>cellular</td>\n",
       "      <td>14</td>\n",
       "      <td>may</td>\n",
       "      <td>2</td>\n",
       "      <td>no</td>\n",
       "    </tr>\n",
       "    <tr>\n",
       "      <th>2281</th>\n",
       "      <td>2</td>\n",
       "      <td>entrepreneur</td>\n",
       "      <td>single</td>\n",
       "      <td>tertiary</td>\n",
       "      <td>no</td>\n",
       "      <td>714</td>\n",
       "      <td>yes</td>\n",
       "      <td>no</td>\n",
       "      <td>unknown</td>\n",
       "      <td>12</td>\n",
       "      <td>may</td>\n",
       "      <td>4</td>\n",
       "      <td>no</td>\n",
       "    </tr>\n",
       "    <tr>\n",
       "      <th>36629</th>\n",
       "      <td>1</td>\n",
       "      <td>blue-collar</td>\n",
       "      <td>married</td>\n",
       "      <td>secondary</td>\n",
       "      <td>no</td>\n",
       "      <td>1470</td>\n",
       "      <td>yes</td>\n",
       "      <td>no</td>\n",
       "      <td>cellular</td>\n",
       "      <td>12</td>\n",
       "      <td>may</td>\n",
       "      <td>1</td>\n",
       "      <td>no</td>\n",
       "    </tr>\n",
       "    <tr>\n",
       "      <th>6087</th>\n",
       "      <td>3</td>\n",
       "      <td>management</td>\n",
       "      <td>single</td>\n",
       "      <td>secondary</td>\n",
       "      <td>no</td>\n",
       "      <td>109</td>\n",
       "      <td>yes</td>\n",
       "      <td>no</td>\n",
       "      <td>unknown</td>\n",
       "      <td>27</td>\n",
       "      <td>may</td>\n",
       "      <td>3</td>\n",
       "      <td>no</td>\n",
       "    </tr>\n",
       "    <tr>\n",
       "      <th>11792</th>\n",
       "      <td>2</td>\n",
       "      <td>blue-collar</td>\n",
       "      <td>married</td>\n",
       "      <td>primary</td>\n",
       "      <td>no</td>\n",
       "      <td>14</td>\n",
       "      <td>yes</td>\n",
       "      <td>no</td>\n",
       "      <td>unknown</td>\n",
       "      <td>20</td>\n",
       "      <td>jun</td>\n",
       "      <td>1</td>\n",
       "      <td>no</td>\n",
       "    </tr>\n",
       "  </tbody>\n",
       "</table>\n",
       "</div>"
      ],
      "text/plain": [
       "       age           job  marital  education default  balance housing loan  \\\n",
       "38015    1  entrepreneur   single   tertiary      no      303     yes   no   \n",
       "2281     2  entrepreneur   single   tertiary      no      714     yes   no   \n",
       "36629    1   blue-collar  married  secondary      no     1470     yes   no   \n",
       "6087     3    management   single  secondary      no      109     yes   no   \n",
       "11792    2   blue-collar  married    primary      no       14     yes   no   \n",
       "\n",
       "        contact  day month  campaign   y  \n",
       "38015  cellular   14   may         2  no  \n",
       "2281    unknown   12   may         4  no  \n",
       "36629  cellular   12   may         1  no  \n",
       "6087    unknown   27   may         3  no  \n",
       "11792   unknown   20   jun         1  no  "
      ]
     },
     "execution_count": 73,
     "metadata": {},
     "output_type": "execute_result"
    }
   ],
   "source": [
    "data.head()"
   ]
  },
  {
   "cell_type": "markdown",
   "id": "59fddad4",
   "metadata": {},
   "source": [
    "## Kategorik değişkenler Sıralı veya Numerik olabilir"
   ]
  },
  {
   "cell_type": "code",
   "execution_count": 74,
   "id": "45f937c1",
   "metadata": {},
   "outputs": [],
   "source": [
    "data['default'] = data['default'].map({'yes': 1,'unknown': -1,'no': 0})\n",
    "data['housing'] = data['housing'].map({'yes': 1,'unknown': -1,'no': 0})\n",
    "data['loan'] = data['loan'].map({'yes': 1,'unknown': -1,'no': 0})"
   ]
  },
  {
   "cell_type": "markdown",
   "id": "bad34340",
   "metadata": {},
   "source": [
    "## Nominal Değişkenleri İşleme (One Hot Encoding)"
   ]
  },
  {
   "cell_type": "markdown",
   "id": "69fb7f47",
   "metadata": {},
   "source": [
    "'job', 'maritial', 'education', 'contact', 'month', 'day' are Nominal Variables"
   ]
  },
  {
   "cell_type": "code",
   "execution_count": 75,
   "id": "8ee748e2",
   "metadata": {},
   "outputs": [
    {
     "data": {
      "text/html": [
       "<div>\n",
       "<style scoped>\n",
       "    .dataframe tbody tr th:only-of-type {\n",
       "        vertical-align: middle;\n",
       "    }\n",
       "\n",
       "    .dataframe tbody tr th {\n",
       "        vertical-align: top;\n",
       "    }\n",
       "\n",
       "    .dataframe thead th {\n",
       "        text-align: right;\n",
       "    }\n",
       "</style>\n",
       "<table border=\"1\" class=\"dataframe\">\n",
       "  <thead>\n",
       "    <tr style=\"text-align: right;\">\n",
       "      <th></th>\n",
       "      <th>age</th>\n",
       "      <th>balance</th>\n",
       "      <th>day</th>\n",
       "      <th>month</th>\n",
       "      <th>campaign</th>\n",
       "      <th>y</th>\n",
       "      <th>job_admin</th>\n",
       "      <th>job_blue-collar</th>\n",
       "      <th>job_entrepreneur</th>\n",
       "      <th>job_housemaid</th>\n",
       "      <th>...</th>\n",
       "      <th>education_unknown</th>\n",
       "      <th>default_0</th>\n",
       "      <th>default_1</th>\n",
       "      <th>housing_0</th>\n",
       "      <th>housing_1</th>\n",
       "      <th>loan_0</th>\n",
       "      <th>loan_1</th>\n",
       "      <th>contact_cellular</th>\n",
       "      <th>contact_telephone</th>\n",
       "      <th>contact_unknown</th>\n",
       "    </tr>\n",
       "  </thead>\n",
       "  <tbody>\n",
       "    <tr>\n",
       "      <th>38015</th>\n",
       "      <td>1</td>\n",
       "      <td>303</td>\n",
       "      <td>14</td>\n",
       "      <td>may</td>\n",
       "      <td>2</td>\n",
       "      <td>0</td>\n",
       "      <td>0</td>\n",
       "      <td>0</td>\n",
       "      <td>1</td>\n",
       "      <td>0</td>\n",
       "      <td>...</td>\n",
       "      <td>0</td>\n",
       "      <td>1</td>\n",
       "      <td>0</td>\n",
       "      <td>0</td>\n",
       "      <td>1</td>\n",
       "      <td>1</td>\n",
       "      <td>0</td>\n",
       "      <td>1</td>\n",
       "      <td>0</td>\n",
       "      <td>0</td>\n",
       "    </tr>\n",
       "    <tr>\n",
       "      <th>2281</th>\n",
       "      <td>2</td>\n",
       "      <td>714</td>\n",
       "      <td>12</td>\n",
       "      <td>may</td>\n",
       "      <td>4</td>\n",
       "      <td>0</td>\n",
       "      <td>0</td>\n",
       "      <td>0</td>\n",
       "      <td>1</td>\n",
       "      <td>0</td>\n",
       "      <td>...</td>\n",
       "      <td>0</td>\n",
       "      <td>1</td>\n",
       "      <td>0</td>\n",
       "      <td>0</td>\n",
       "      <td>1</td>\n",
       "      <td>1</td>\n",
       "      <td>0</td>\n",
       "      <td>0</td>\n",
       "      <td>0</td>\n",
       "      <td>1</td>\n",
       "    </tr>\n",
       "    <tr>\n",
       "      <th>36629</th>\n",
       "      <td>1</td>\n",
       "      <td>1470</td>\n",
       "      <td>12</td>\n",
       "      <td>may</td>\n",
       "      <td>1</td>\n",
       "      <td>0</td>\n",
       "      <td>0</td>\n",
       "      <td>1</td>\n",
       "      <td>0</td>\n",
       "      <td>0</td>\n",
       "      <td>...</td>\n",
       "      <td>0</td>\n",
       "      <td>1</td>\n",
       "      <td>0</td>\n",
       "      <td>0</td>\n",
       "      <td>1</td>\n",
       "      <td>1</td>\n",
       "      <td>0</td>\n",
       "      <td>1</td>\n",
       "      <td>0</td>\n",
       "      <td>0</td>\n",
       "    </tr>\n",
       "    <tr>\n",
       "      <th>6087</th>\n",
       "      <td>3</td>\n",
       "      <td>109</td>\n",
       "      <td>27</td>\n",
       "      <td>may</td>\n",
       "      <td>3</td>\n",
       "      <td>0</td>\n",
       "      <td>0</td>\n",
       "      <td>0</td>\n",
       "      <td>0</td>\n",
       "      <td>0</td>\n",
       "      <td>...</td>\n",
       "      <td>0</td>\n",
       "      <td>1</td>\n",
       "      <td>0</td>\n",
       "      <td>0</td>\n",
       "      <td>1</td>\n",
       "      <td>1</td>\n",
       "      <td>0</td>\n",
       "      <td>0</td>\n",
       "      <td>0</td>\n",
       "      <td>1</td>\n",
       "    </tr>\n",
       "    <tr>\n",
       "      <th>11792</th>\n",
       "      <td>2</td>\n",
       "      <td>14</td>\n",
       "      <td>20</td>\n",
       "      <td>jun</td>\n",
       "      <td>1</td>\n",
       "      <td>0</td>\n",
       "      <td>0</td>\n",
       "      <td>1</td>\n",
       "      <td>0</td>\n",
       "      <td>0</td>\n",
       "      <td>...</td>\n",
       "      <td>0</td>\n",
       "      <td>1</td>\n",
       "      <td>0</td>\n",
       "      <td>0</td>\n",
       "      <td>1</td>\n",
       "      <td>1</td>\n",
       "      <td>0</td>\n",
       "      <td>0</td>\n",
       "      <td>0</td>\n",
       "      <td>1</td>\n",
       "    </tr>\n",
       "  </tbody>\n",
       "</table>\n",
       "<p>5 rows × 34 columns</p>\n",
       "</div>"
      ],
      "text/plain": [
       "       age  balance  day month  campaign  y  job_admin  job_blue-collar  \\\n",
       "38015    1      303   14   may         2  0          0                0   \n",
       "2281     2      714   12   may         4  0          0                0   \n",
       "36629    1     1470   12   may         1  0          0                1   \n",
       "6087     3      109   27   may         3  0          0                0   \n",
       "11792    2       14   20   jun         1  0          0                1   \n",
       "\n",
       "       job_entrepreneur  job_housemaid  ...  education_unknown  default_0  \\\n",
       "38015                 1              0  ...                  0          1   \n",
       "2281                  1              0  ...                  0          1   \n",
       "36629                 0              0  ...                  0          1   \n",
       "6087                  0              0  ...                  0          1   \n",
       "11792                 0              0  ...                  0          1   \n",
       "\n",
       "       default_1  housing_0  housing_1  loan_0  loan_1  contact_cellular  \\\n",
       "38015          0          0          1       1       0                 1   \n",
       "2281           0          0          1       1       0                 0   \n",
       "36629          0          0          1       1       0                 1   \n",
       "6087           0          0          1       1       0                 0   \n",
       "11792          0          0          1       1       0                 0   \n",
       "\n",
       "       contact_telephone  contact_unknown  \n",
       "38015                  0                0  \n",
       "2281                   0                1  \n",
       "36629                  0                0  \n",
       "6087                   0                1  \n",
       "11792                  0                1  \n",
       "\n",
       "[5 rows x 34 columns]"
      ]
     },
     "execution_count": 75,
     "metadata": {},
     "output_type": "execute_result"
    }
   ],
   "source": [
    "# One hot encoding of nominal varibles\n",
    "nominal = ['job', 'marital','education','default','housing','loan','contact']\n",
    "data_clean = pd.get_dummies(data,columns=nominal)\n",
    "data_clean['y']=data_clean['y'].map({'yes': 1,'no': 0})\n",
    "data_clean.head()"
   ]
  },
  {
   "cell_type": "code",
   "execution_count": 76,
   "id": "1b258ee1",
   "metadata": {},
   "outputs": [
    {
     "data": {
      "text/plain": [
       "Index(['age', 'balance', 'day', 'month', 'campaign', 'y', 'job_admin',\n",
       "       'job_blue-collar', 'job_entrepreneur', 'job_housemaid',\n",
       "       'job_management', 'job_retired', 'job_self-employed', 'job_services',\n",
       "       'job_student', 'job_technician', 'job_unemployed', 'job_unknown',\n",
       "       'marital_divorced', 'marital_married', 'marital_single',\n",
       "       'education_primary', 'education_secondary', 'education_tertiary',\n",
       "       'education_unknown', 'default_0', 'default_1', 'housing_0', 'housing_1',\n",
       "       'loan_0', 'loan_1', 'contact_cellular', 'contact_telephone',\n",
       "       'contact_unknown'],\n",
       "      dtype='object')"
      ]
     },
     "execution_count": 76,
     "metadata": {},
     "output_type": "execute_result"
    }
   ],
   "source": [
    "data_clean.columns"
   ]
  },
  {
   "cell_type": "code",
   "execution_count": 77,
   "id": "65255168",
   "metadata": {},
   "outputs": [
    {
     "data": {
      "text/plain": [
       "(42168, 34)"
      ]
     },
     "execution_count": 77,
     "metadata": {},
     "output_type": "execute_result"
    }
   ],
   "source": [
    "data_clean.shape"
   ]
  },
  {
   "cell_type": "code",
   "execution_count": 78,
   "id": "56820861",
   "metadata": {},
   "outputs": [],
   "source": [
    "df_with_dummies=pd.get_dummies(data_clean)"
   ]
  },
  {
   "cell_type": "code",
   "execution_count": 79,
   "id": "595cf923",
   "metadata": {},
   "outputs": [],
   "source": [
    "def dropfeature(df,f):\n",
    "    \"\"\"Drops one of the dummy variables.\"\"\"\n",
    "    df=df.drop(f,axis=1)\n",
    "    return df"
   ]
  },
  {
   "cell_type": "code",
   "execution_count": 80,
   "id": "8a5442b3",
   "metadata": {},
   "outputs": [],
   "source": [
    "features_dropped = ['marital_single','contact_cellular',\n",
    "                    'education_unknown','job_unknown',\n",
    "     'marital_single','contact_cellular',\n",
    "                    'education_unknown']\n",
    "data_clean = dropfeature(df_with_dummies, features_dropped)"
   ]
  },
  {
   "cell_type": "markdown",
   "id": "1f268a45",
   "metadata": {},
   "source": [
    "# Sayısal alanlar için grafikler çizerek veri dağılımını analiz etme"
   ]
  },
  {
   "cell_type": "code",
   "execution_count": 81,
   "id": "5574f5b5",
   "metadata": {},
   "outputs": [
    {
     "data": {
      "text/html": [
       "<div>\n",
       "<style scoped>\n",
       "    .dataframe tbody tr th:only-of-type {\n",
       "        vertical-align: middle;\n",
       "    }\n",
       "\n",
       "    .dataframe tbody tr th {\n",
       "        vertical-align: top;\n",
       "    }\n",
       "\n",
       "    .dataframe thead th {\n",
       "        text-align: right;\n",
       "    }\n",
       "</style>\n",
       "<table border=\"1\" class=\"dataframe\">\n",
       "  <thead>\n",
       "    <tr style=\"text-align: right;\">\n",
       "      <th></th>\n",
       "      <th>age</th>\n",
       "      <th>balance</th>\n",
       "      <th>day</th>\n",
       "      <th>campaign</th>\n",
       "      <th>y</th>\n",
       "      <th>job_admin</th>\n",
       "      <th>job_blue-collar</th>\n",
       "      <th>job_entrepreneur</th>\n",
       "      <th>job_housemaid</th>\n",
       "      <th>job_management</th>\n",
       "      <th>...</th>\n",
       "      <th>month_aug</th>\n",
       "      <th>month_dec</th>\n",
       "      <th>month_feb</th>\n",
       "      <th>month_jan</th>\n",
       "      <th>month_jul</th>\n",
       "      <th>month_jun</th>\n",
       "      <th>month_mar</th>\n",
       "      <th>month_may</th>\n",
       "      <th>month_nov</th>\n",
       "      <th>month_oct</th>\n",
       "    </tr>\n",
       "  </thead>\n",
       "  <tbody>\n",
       "    <tr>\n",
       "      <th>count</th>\n",
       "      <td>42168.000000</td>\n",
       "      <td>42168.000000</td>\n",
       "      <td>42168.000000</td>\n",
       "      <td>42168.000000</td>\n",
       "      <td>42168.000000</td>\n",
       "      <td>42168.000000</td>\n",
       "      <td>42168.000000</td>\n",
       "      <td>42168.000000</td>\n",
       "      <td>42168.000000</td>\n",
       "      <td>42168.000000</td>\n",
       "      <td>...</td>\n",
       "      <td>42168.000000</td>\n",
       "      <td>42168.000000</td>\n",
       "      <td>42168.000000</td>\n",
       "      <td>42168.000000</td>\n",
       "      <td>42168.000000</td>\n",
       "      <td>42168.000000</td>\n",
       "      <td>42168.000000</td>\n",
       "      <td>42168.000000</td>\n",
       "      <td>42168.000000</td>\n",
       "      <td>42168.000000</td>\n",
       "    </tr>\n",
       "    <tr>\n",
       "      <th>mean</th>\n",
       "      <td>2.440500</td>\n",
       "      <td>1377.916785</td>\n",
       "      <td>16.040007</td>\n",
       "      <td>2.724957</td>\n",
       "      <td>0.383988</td>\n",
       "      <td>0.114423</td>\n",
       "      <td>0.214997</td>\n",
       "      <td>0.033533</td>\n",
       "      <td>0.024972</td>\n",
       "      <td>0.216942</td>\n",
       "      <td>...</td>\n",
       "      <td>0.120897</td>\n",
       "      <td>0.000237</td>\n",
       "      <td>0.065998</td>\n",
       "      <td>0.024213</td>\n",
       "      <td>0.152794</td>\n",
       "      <td>0.111601</td>\n",
       "      <td>0.019565</td>\n",
       "      <td>0.312464</td>\n",
       "      <td>0.085634</td>\n",
       "      <td>0.007280</td>\n",
       "    </tr>\n",
       "    <tr>\n",
       "      <th>std</th>\n",
       "      <td>1.110948</td>\n",
       "      <td>2915.134052</td>\n",
       "      <td>8.377302</td>\n",
       "      <td>2.981250</td>\n",
       "      <td>0.486361</td>\n",
       "      <td>0.318328</td>\n",
       "      <td>0.410825</td>\n",
       "      <td>0.180025</td>\n",
       "      <td>0.156040</td>\n",
       "      <td>0.412168</td>\n",
       "      <td>...</td>\n",
       "      <td>0.326012</td>\n",
       "      <td>0.015398</td>\n",
       "      <td>0.248281</td>\n",
       "      <td>0.153711</td>\n",
       "      <td>0.359793</td>\n",
       "      <td>0.314879</td>\n",
       "      <td>0.138500</td>\n",
       "      <td>0.463504</td>\n",
       "      <td>0.279826</td>\n",
       "      <td>0.085015</td>\n",
       "    </tr>\n",
       "    <tr>\n",
       "      <th>min</th>\n",
       "      <td>1.000000</td>\n",
       "      <td>-6847.000000</td>\n",
       "      <td>1.000000</td>\n",
       "      <td>1.000000</td>\n",
       "      <td>0.000000</td>\n",
       "      <td>0.000000</td>\n",
       "      <td>0.000000</td>\n",
       "      <td>0.000000</td>\n",
       "      <td>0.000000</td>\n",
       "      <td>0.000000</td>\n",
       "      <td>...</td>\n",
       "      <td>0.000000</td>\n",
       "      <td>0.000000</td>\n",
       "      <td>0.000000</td>\n",
       "      <td>0.000000</td>\n",
       "      <td>0.000000</td>\n",
       "      <td>0.000000</td>\n",
       "      <td>0.000000</td>\n",
       "      <td>0.000000</td>\n",
       "      <td>0.000000</td>\n",
       "      <td>0.000000</td>\n",
       "    </tr>\n",
       "    <tr>\n",
       "      <th>25%</th>\n",
       "      <td>1.000000</td>\n",
       "      <td>81.000000</td>\n",
       "      <td>9.000000</td>\n",
       "      <td>1.000000</td>\n",
       "      <td>0.000000</td>\n",
       "      <td>0.000000</td>\n",
       "      <td>0.000000</td>\n",
       "      <td>0.000000</td>\n",
       "      <td>0.000000</td>\n",
       "      <td>0.000000</td>\n",
       "      <td>...</td>\n",
       "      <td>0.000000</td>\n",
       "      <td>0.000000</td>\n",
       "      <td>0.000000</td>\n",
       "      <td>0.000000</td>\n",
       "      <td>0.000000</td>\n",
       "      <td>0.000000</td>\n",
       "      <td>0.000000</td>\n",
       "      <td>0.000000</td>\n",
       "      <td>0.000000</td>\n",
       "      <td>0.000000</td>\n",
       "    </tr>\n",
       "    <tr>\n",
       "      <th>50%</th>\n",
       "      <td>2.000000</td>\n",
       "      <td>466.000000</td>\n",
       "      <td>16.000000</td>\n",
       "      <td>2.000000</td>\n",
       "      <td>0.000000</td>\n",
       "      <td>0.000000</td>\n",
       "      <td>0.000000</td>\n",
       "      <td>0.000000</td>\n",
       "      <td>0.000000</td>\n",
       "      <td>0.000000</td>\n",
       "      <td>...</td>\n",
       "      <td>0.000000</td>\n",
       "      <td>0.000000</td>\n",
       "      <td>0.000000</td>\n",
       "      <td>0.000000</td>\n",
       "      <td>0.000000</td>\n",
       "      <td>0.000000</td>\n",
       "      <td>0.000000</td>\n",
       "      <td>0.000000</td>\n",
       "      <td>0.000000</td>\n",
       "      <td>0.000000</td>\n",
       "    </tr>\n",
       "    <tr>\n",
       "      <th>75%</th>\n",
       "      <td>3.000000</td>\n",
       "      <td>1469.250000</td>\n",
       "      <td>22.000000</td>\n",
       "      <td>3.000000</td>\n",
       "      <td>1.000000</td>\n",
       "      <td>0.000000</td>\n",
       "      <td>0.000000</td>\n",
       "      <td>0.000000</td>\n",
       "      <td>0.000000</td>\n",
       "      <td>0.000000</td>\n",
       "      <td>...</td>\n",
       "      <td>0.000000</td>\n",
       "      <td>0.000000</td>\n",
       "      <td>0.000000</td>\n",
       "      <td>0.000000</td>\n",
       "      <td>0.000000</td>\n",
       "      <td>0.000000</td>\n",
       "      <td>0.000000</td>\n",
       "      <td>1.000000</td>\n",
       "      <td>0.000000</td>\n",
       "      <td>0.000000</td>\n",
       "    </tr>\n",
       "    <tr>\n",
       "      <th>max</th>\n",
       "      <td>4.000000</td>\n",
       "      <td>102127.000000</td>\n",
       "      <td>31.000000</td>\n",
       "      <td>58.000000</td>\n",
       "      <td>1.000000</td>\n",
       "      <td>1.000000</td>\n",
       "      <td>1.000000</td>\n",
       "      <td>1.000000</td>\n",
       "      <td>1.000000</td>\n",
       "      <td>1.000000</td>\n",
       "      <td>...</td>\n",
       "      <td>1.000000</td>\n",
       "      <td>1.000000</td>\n",
       "      <td>1.000000</td>\n",
       "      <td>1.000000</td>\n",
       "      <td>1.000000</td>\n",
       "      <td>1.000000</td>\n",
       "      <td>1.000000</td>\n",
       "      <td>1.000000</td>\n",
       "      <td>1.000000</td>\n",
       "      <td>1.000000</td>\n",
       "    </tr>\n",
       "  </tbody>\n",
       "</table>\n",
       "<p>8 rows × 40 columns</p>\n",
       "</div>"
      ],
      "text/plain": [
       "                age        balance           day      campaign             y  \\\n",
       "count  42168.000000   42168.000000  42168.000000  42168.000000  42168.000000   \n",
       "mean       2.440500    1377.916785     16.040007      2.724957      0.383988   \n",
       "std        1.110948    2915.134052      8.377302      2.981250      0.486361   \n",
       "min        1.000000   -6847.000000      1.000000      1.000000      0.000000   \n",
       "25%        1.000000      81.000000      9.000000      1.000000      0.000000   \n",
       "50%        2.000000     466.000000     16.000000      2.000000      0.000000   \n",
       "75%        3.000000    1469.250000     22.000000      3.000000      1.000000   \n",
       "max        4.000000  102127.000000     31.000000     58.000000      1.000000   \n",
       "\n",
       "          job_admin  job_blue-collar  job_entrepreneur  job_housemaid  \\\n",
       "count  42168.000000     42168.000000      42168.000000   42168.000000   \n",
       "mean       0.114423         0.214997          0.033533       0.024972   \n",
       "std        0.318328         0.410825          0.180025       0.156040   \n",
       "min        0.000000         0.000000          0.000000       0.000000   \n",
       "25%        0.000000         0.000000          0.000000       0.000000   \n",
       "50%        0.000000         0.000000          0.000000       0.000000   \n",
       "75%        0.000000         0.000000          0.000000       0.000000   \n",
       "max        1.000000         1.000000          1.000000       1.000000   \n",
       "\n",
       "       job_management  ...     month_aug     month_dec     month_feb  \\\n",
       "count    42168.000000  ...  42168.000000  42168.000000  42168.000000   \n",
       "mean         0.216942  ...      0.120897      0.000237      0.065998   \n",
       "std          0.412168  ...      0.326012      0.015398      0.248281   \n",
       "min          0.000000  ...      0.000000      0.000000      0.000000   \n",
       "25%          0.000000  ...      0.000000      0.000000      0.000000   \n",
       "50%          0.000000  ...      0.000000      0.000000      0.000000   \n",
       "75%          0.000000  ...      0.000000      0.000000      0.000000   \n",
       "max          1.000000  ...      1.000000      1.000000      1.000000   \n",
       "\n",
       "          month_jan     month_jul     month_jun     month_mar     month_may  \\\n",
       "count  42168.000000  42168.000000  42168.000000  42168.000000  42168.000000   \n",
       "mean       0.024213      0.152794      0.111601      0.019565      0.312464   \n",
       "std        0.153711      0.359793      0.314879      0.138500      0.463504   \n",
       "min        0.000000      0.000000      0.000000      0.000000      0.000000   \n",
       "25%        0.000000      0.000000      0.000000      0.000000      0.000000   \n",
       "50%        0.000000      0.000000      0.000000      0.000000      0.000000   \n",
       "75%        0.000000      0.000000      0.000000      0.000000      1.000000   \n",
       "max        1.000000      1.000000      1.000000      1.000000      1.000000   \n",
       "\n",
       "          month_nov     month_oct  \n",
       "count  42168.000000  42168.000000  \n",
       "mean       0.085634      0.007280  \n",
       "std        0.279826      0.085015  \n",
       "min        0.000000      0.000000  \n",
       "25%        0.000000      0.000000  \n",
       "50%        0.000000      0.000000  \n",
       "75%        0.000000      0.000000  \n",
       "max        1.000000      1.000000  \n",
       "\n",
       "[8 rows x 40 columns]"
      ]
     },
     "execution_count": 81,
     "metadata": {},
     "output_type": "execute_result"
    }
   ],
   "source": [
    "data_clean.describe()"
   ]
  },
  {
   "cell_type": "code",
   "execution_count": 82,
   "id": "57e67f46",
   "metadata": {},
   "outputs": [
    {
     "data": {
      "text/html": [
       "<div>\n",
       "<style scoped>\n",
       "    .dataframe tbody tr th:only-of-type {\n",
       "        vertical-align: middle;\n",
       "    }\n",
       "\n",
       "    .dataframe tbody tr th {\n",
       "        vertical-align: top;\n",
       "    }\n",
       "\n",
       "    .dataframe thead th {\n",
       "        text-align: right;\n",
       "    }\n",
       "</style>\n",
       "<table border=\"1\" class=\"dataframe\">\n",
       "  <thead>\n",
       "    <tr style=\"text-align: right;\">\n",
       "      <th></th>\n",
       "      <th>age</th>\n",
       "      <th>balance</th>\n",
       "      <th>day</th>\n",
       "      <th>campaign</th>\n",
       "      <th>y</th>\n",
       "      <th>job_admin</th>\n",
       "      <th>job_blue-collar</th>\n",
       "      <th>job_entrepreneur</th>\n",
       "      <th>job_housemaid</th>\n",
       "      <th>job_management</th>\n",
       "      <th>...</th>\n",
       "      <th>month_aug</th>\n",
       "      <th>month_dec</th>\n",
       "      <th>month_feb</th>\n",
       "      <th>month_jan</th>\n",
       "      <th>month_jul</th>\n",
       "      <th>month_jun</th>\n",
       "      <th>month_mar</th>\n",
       "      <th>month_may</th>\n",
       "      <th>month_nov</th>\n",
       "      <th>month_oct</th>\n",
       "    </tr>\n",
       "  </thead>\n",
       "  <tbody>\n",
       "    <tr>\n",
       "      <th>38015</th>\n",
       "      <td>1</td>\n",
       "      <td>303</td>\n",
       "      <td>14</td>\n",
       "      <td>2</td>\n",
       "      <td>0</td>\n",
       "      <td>0</td>\n",
       "      <td>0</td>\n",
       "      <td>1</td>\n",
       "      <td>0</td>\n",
       "      <td>0</td>\n",
       "      <td>...</td>\n",
       "      <td>0</td>\n",
       "      <td>0</td>\n",
       "      <td>0</td>\n",
       "      <td>0</td>\n",
       "      <td>0</td>\n",
       "      <td>0</td>\n",
       "      <td>0</td>\n",
       "      <td>1</td>\n",
       "      <td>0</td>\n",
       "      <td>0</td>\n",
       "    </tr>\n",
       "    <tr>\n",
       "      <th>2281</th>\n",
       "      <td>2</td>\n",
       "      <td>714</td>\n",
       "      <td>12</td>\n",
       "      <td>4</td>\n",
       "      <td>0</td>\n",
       "      <td>0</td>\n",
       "      <td>0</td>\n",
       "      <td>1</td>\n",
       "      <td>0</td>\n",
       "      <td>0</td>\n",
       "      <td>...</td>\n",
       "      <td>0</td>\n",
       "      <td>0</td>\n",
       "      <td>0</td>\n",
       "      <td>0</td>\n",
       "      <td>0</td>\n",
       "      <td>0</td>\n",
       "      <td>0</td>\n",
       "      <td>1</td>\n",
       "      <td>0</td>\n",
       "      <td>0</td>\n",
       "    </tr>\n",
       "    <tr>\n",
       "      <th>36629</th>\n",
       "      <td>1</td>\n",
       "      <td>1470</td>\n",
       "      <td>12</td>\n",
       "      <td>1</td>\n",
       "      <td>0</td>\n",
       "      <td>0</td>\n",
       "      <td>1</td>\n",
       "      <td>0</td>\n",
       "      <td>0</td>\n",
       "      <td>0</td>\n",
       "      <td>...</td>\n",
       "      <td>0</td>\n",
       "      <td>0</td>\n",
       "      <td>0</td>\n",
       "      <td>0</td>\n",
       "      <td>0</td>\n",
       "      <td>0</td>\n",
       "      <td>0</td>\n",
       "      <td>1</td>\n",
       "      <td>0</td>\n",
       "      <td>0</td>\n",
       "    </tr>\n",
       "    <tr>\n",
       "      <th>6087</th>\n",
       "      <td>3</td>\n",
       "      <td>109</td>\n",
       "      <td>27</td>\n",
       "      <td>3</td>\n",
       "      <td>0</td>\n",
       "      <td>0</td>\n",
       "      <td>0</td>\n",
       "      <td>0</td>\n",
       "      <td>0</td>\n",
       "      <td>1</td>\n",
       "      <td>...</td>\n",
       "      <td>0</td>\n",
       "      <td>0</td>\n",
       "      <td>0</td>\n",
       "      <td>0</td>\n",
       "      <td>0</td>\n",
       "      <td>0</td>\n",
       "      <td>0</td>\n",
       "      <td>1</td>\n",
       "      <td>0</td>\n",
       "      <td>0</td>\n",
       "    </tr>\n",
       "    <tr>\n",
       "      <th>11792</th>\n",
       "      <td>2</td>\n",
       "      <td>14</td>\n",
       "      <td>20</td>\n",
       "      <td>1</td>\n",
       "      <td>0</td>\n",
       "      <td>0</td>\n",
       "      <td>1</td>\n",
       "      <td>0</td>\n",
       "      <td>0</td>\n",
       "      <td>0</td>\n",
       "      <td>...</td>\n",
       "      <td>0</td>\n",
       "      <td>0</td>\n",
       "      <td>0</td>\n",
       "      <td>0</td>\n",
       "      <td>0</td>\n",
       "      <td>1</td>\n",
       "      <td>0</td>\n",
       "      <td>0</td>\n",
       "      <td>0</td>\n",
       "      <td>0</td>\n",
       "    </tr>\n",
       "  </tbody>\n",
       "</table>\n",
       "<p>5 rows × 40 columns</p>\n",
       "</div>"
      ],
      "text/plain": [
       "       age  balance  day  campaign  y  job_admin  job_blue-collar  \\\n",
       "38015    1      303   14         2  0          0                0   \n",
       "2281     2      714   12         4  0          0                0   \n",
       "36629    1     1470   12         1  0          0                1   \n",
       "6087     3      109   27         3  0          0                0   \n",
       "11792    2       14   20         1  0          0                1   \n",
       "\n",
       "       job_entrepreneur  job_housemaid  job_management  ...  month_aug  \\\n",
       "38015                 1              0               0  ...          0   \n",
       "2281                  1              0               0  ...          0   \n",
       "36629                 0              0               0  ...          0   \n",
       "6087                  0              0               1  ...          0   \n",
       "11792                 0              0               0  ...          0   \n",
       "\n",
       "       month_dec  month_feb  month_jan  month_jul  month_jun  month_mar  \\\n",
       "38015          0          0          0          0          0          0   \n",
       "2281           0          0          0          0          0          0   \n",
       "36629          0          0          0          0          0          0   \n",
       "6087           0          0          0          0          0          0   \n",
       "11792          0          0          0          0          1          0   \n",
       "\n",
       "       month_may  month_nov  month_oct  \n",
       "38015          1          0          0  \n",
       "2281           1          0          0  \n",
       "36629          1          0          0  \n",
       "6087           1          0          0  \n",
       "11792          0          0          0  \n",
       "\n",
       "[5 rows x 40 columns]"
      ]
     },
     "execution_count": 82,
     "metadata": {},
     "output_type": "execute_result"
    }
   ],
   "source": [
    "data_clean.head()"
   ]
  },
  {
   "cell_type": "code",
   "execution_count": 83,
   "id": "4fd2bef5",
   "metadata": {},
   "outputs": [
    {
     "data": {
      "text/plain": [
       "(42168, 40)"
      ]
     },
     "execution_count": 83,
     "metadata": {},
     "output_type": "execute_result"
    }
   ],
   "source": [
    "data_clean.shape"
   ]
  },
  {
   "cell_type": "code",
   "execution_count": 84,
   "id": "617017b4",
   "metadata": {
    "scrolled": true
   },
   "outputs": [
    {
     "data": {
      "text/html": [
       "<div>\n",
       "<style scoped>\n",
       "    .dataframe tbody tr th:only-of-type {\n",
       "        vertical-align: middle;\n",
       "    }\n",
       "\n",
       "    .dataframe tbody tr th {\n",
       "        vertical-align: top;\n",
       "    }\n",
       "\n",
       "    .dataframe thead th {\n",
       "        text-align: right;\n",
       "    }\n",
       "</style>\n",
       "<table border=\"1\" class=\"dataframe\">\n",
       "  <thead>\n",
       "    <tr style=\"text-align: right;\">\n",
       "      <th></th>\n",
       "      <th>age</th>\n",
       "      <th>balance</th>\n",
       "      <th>day</th>\n",
       "      <th>campaign</th>\n",
       "      <th>y</th>\n",
       "      <th>job_admin</th>\n",
       "      <th>job_blue-collar</th>\n",
       "      <th>job_entrepreneur</th>\n",
       "      <th>job_housemaid</th>\n",
       "      <th>job_management</th>\n",
       "      <th>...</th>\n",
       "      <th>month_aug</th>\n",
       "      <th>month_dec</th>\n",
       "      <th>month_feb</th>\n",
       "      <th>month_jan</th>\n",
       "      <th>month_jul</th>\n",
       "      <th>month_jun</th>\n",
       "      <th>month_mar</th>\n",
       "      <th>month_may</th>\n",
       "      <th>month_nov</th>\n",
       "      <th>month_oct</th>\n",
       "    </tr>\n",
       "  </thead>\n",
       "  <tbody>\n",
       "    <tr>\n",
       "      <th>age</th>\n",
       "      <td>1.000000</td>\n",
       "      <td>0.064880</td>\n",
       "      <td>-0.014377</td>\n",
       "      <td>0.016039</td>\n",
       "      <td>-0.058839</td>\n",
       "      <td>-0.048176</td>\n",
       "      <td>-0.005590</td>\n",
       "      <td>0.032269</td>\n",
       "      <td>0.091953</td>\n",
       "      <td>-0.020545</td>\n",
       "      <td>...</td>\n",
       "      <td>0.089335</td>\n",
       "      <td>-0.003334</td>\n",
       "      <td>-0.016844</td>\n",
       "      <td>-0.021213</td>\n",
       "      <td>0.017494</td>\n",
       "      <td>0.084065</td>\n",
       "      <td>-0.017326</td>\n",
       "      <td>-0.113850</td>\n",
       "      <td>0.036339</td>\n",
       "      <td>0.006972</td>\n",
       "    </tr>\n",
       "    <tr>\n",
       "      <th>balance</th>\n",
       "      <td>0.064880</td>\n",
       "      <td>1.000000</td>\n",
       "      <td>0.005660</td>\n",
       "      <td>-0.013262</td>\n",
       "      <td>0.052050</td>\n",
       "      <td>-0.038484</td>\n",
       "      <td>-0.049167</td>\n",
       "      <td>0.015151</td>\n",
       "      <td>0.006363</td>\n",
       "      <td>0.080312</td>\n",
       "      <td>...</td>\n",
       "      <td>0.007516</td>\n",
       "      <td>-0.002547</td>\n",
       "      <td>0.005650</td>\n",
       "      <td>-0.035113</td>\n",
       "      <td>-0.083999</td>\n",
       "      <td>0.019342</td>\n",
       "      <td>0.040959</td>\n",
       "      <td>-0.054614</td>\n",
       "      <td>0.130738</td>\n",
       "      <td>0.045332</td>\n",
       "    </tr>\n",
       "    <tr>\n",
       "      <th>day</th>\n",
       "      <td>-0.014377</td>\n",
       "      <td>0.005660</td>\n",
       "      <td>1.000000</td>\n",
       "      <td>0.130379</td>\n",
       "      <td>-0.003258</td>\n",
       "      <td>-0.005558</td>\n",
       "      <td>-0.037601</td>\n",
       "      <td>-0.000292</td>\n",
       "      <td>0.007128</td>\n",
       "      <td>0.017082</td>\n",
       "      <td>...</td>\n",
       "      <td>0.016794</td>\n",
       "      <td>-0.011104</td>\n",
       "      <td>-0.274985</td>\n",
       "      <td>0.241100</td>\n",
       "      <td>0.152612</td>\n",
       "      <td>-0.238176</td>\n",
       "      <td>-0.035953</td>\n",
       "      <td>-0.047347</td>\n",
       "      <td>0.102072</td>\n",
       "      <td>0.082938</td>\n",
       "    </tr>\n",
       "    <tr>\n",
       "      <th>campaign</th>\n",
       "      <td>0.016039</td>\n",
       "      <td>-0.013262</td>\n",
       "      <td>0.130379</td>\n",
       "      <td>1.000000</td>\n",
       "      <td>-0.083390</td>\n",
       "      <td>-0.018815</td>\n",
       "      <td>-0.004656</td>\n",
       "      <td>0.008701</td>\n",
       "      <td>0.018945</td>\n",
       "      <td>0.021521</td>\n",
       "      <td>...</td>\n",
       "      <td>0.194548</td>\n",
       "      <td>-0.008911</td>\n",
       "      <td>-0.035101</td>\n",
       "      <td>-0.057764</td>\n",
       "      <td>0.117779</td>\n",
       "      <td>0.035731</td>\n",
       "      <td>-0.017523</td>\n",
       "      <td>-0.083770</td>\n",
       "      <td>-0.086785</td>\n",
       "      <td>-0.049551</td>\n",
       "    </tr>\n",
       "    <tr>\n",
       "      <th>y</th>\n",
       "      <td>-0.058839</td>\n",
       "      <td>0.052050</td>\n",
       "      <td>-0.003258</td>\n",
       "      <td>-0.083390</td>\n",
       "      <td>1.000000</td>\n",
       "      <td>0.010302</td>\n",
       "      <td>-0.070411</td>\n",
       "      <td>-0.008385</td>\n",
       "      <td>-0.028855</td>\n",
       "      <td>0.037772</td>\n",
       "      <td>...</td>\n",
       "      <td>-0.046301</td>\n",
       "      <td>-0.012160</td>\n",
       "      <td>0.058792</td>\n",
       "      <td>-0.053310</td>\n",
       "      <td>-0.036054</td>\n",
       "      <td>-0.038256</td>\n",
       "      <td>0.144771</td>\n",
       "      <td>-0.076946</td>\n",
       "      <td>-0.025542</td>\n",
       "      <td>0.097570</td>\n",
       "    </tr>\n",
       "    <tr>\n",
       "      <th>job_admin</th>\n",
       "      <td>-0.048176</td>\n",
       "      <td>-0.038484</td>\n",
       "      <td>-0.005558</td>\n",
       "      <td>-0.018815</td>\n",
       "      <td>0.010302</td>\n",
       "      <td>1.000000</td>\n",
       "      <td>-0.188116</td>\n",
       "      <td>-0.066955</td>\n",
       "      <td>-0.057525</td>\n",
       "      <td>-0.189199</td>\n",
       "      <td>...</td>\n",
       "      <td>-0.083941</td>\n",
       "      <td>-0.000698</td>\n",
       "      <td>0.001368</td>\n",
       "      <td>0.005900</td>\n",
       "      <td>0.011962</td>\n",
       "      <td>-0.007210</td>\n",
       "      <td>0.021839</td>\n",
       "      <td>0.038151</td>\n",
       "      <td>-0.015490</td>\n",
       "      <td>0.021796</td>\n",
       "    </tr>\n",
       "    <tr>\n",
       "      <th>job_blue-collar</th>\n",
       "      <td>-0.005590</td>\n",
       "      <td>-0.049167</td>\n",
       "      <td>-0.037601</td>\n",
       "      <td>-0.004656</td>\n",
       "      <td>-0.070411</td>\n",
       "      <td>-0.188116</td>\n",
       "      <td>1.000000</td>\n",
       "      <td>-0.097481</td>\n",
       "      <td>-0.083752</td>\n",
       "      <td>-0.275458</td>\n",
       "      <td>...</td>\n",
       "      <td>-0.097042</td>\n",
       "      <td>-0.000562</td>\n",
       "      <td>-0.057274</td>\n",
       "      <td>-0.025354</td>\n",
       "      <td>0.002531</td>\n",
       "      <td>0.024973</td>\n",
       "      <td>-0.060590</td>\n",
       "      <td>0.145490</td>\n",
       "      <td>-0.040506</td>\n",
       "      <td>-0.019015</td>\n",
       "    </tr>\n",
       "    <tr>\n",
       "      <th>job_entrepreneur</th>\n",
       "      <td>0.032269</td>\n",
       "      <td>0.015151</td>\n",
       "      <td>-0.000292</td>\n",
       "      <td>0.008701</td>\n",
       "      <td>-0.008385</td>\n",
       "      <td>-0.066955</td>\n",
       "      <td>-0.097481</td>\n",
       "      <td>1.000000</td>\n",
       "      <td>-0.029809</td>\n",
       "      <td>-0.098042</td>\n",
       "      <td>...</td>\n",
       "      <td>-0.047660</td>\n",
       "      <td>-0.002869</td>\n",
       "      <td>-0.000170</td>\n",
       "      <td>0.001511</td>\n",
       "      <td>0.029273</td>\n",
       "      <td>0.011378</td>\n",
       "      <td>-0.011094</td>\n",
       "      <td>-0.017856</td>\n",
       "      <td>0.054098</td>\n",
       "      <td>0.024336</td>\n",
       "    </tr>\n",
       "    <tr>\n",
       "      <th>job_housemaid</th>\n",
       "      <td>0.091953</td>\n",
       "      <td>0.006363</td>\n",
       "      <td>0.007128</td>\n",
       "      <td>0.018945</td>\n",
       "      <td>-0.028855</td>\n",
       "      <td>-0.057525</td>\n",
       "      <td>-0.083752</td>\n",
       "      <td>-0.029809</td>\n",
       "      <td>1.000000</td>\n",
       "      <td>-0.084234</td>\n",
       "      <td>...</td>\n",
       "      <td>0.027829</td>\n",
       "      <td>-0.002465</td>\n",
       "      <td>-0.016219</td>\n",
       "      <td>-0.009389</td>\n",
       "      <td>0.045244</td>\n",
       "      <td>0.055740</td>\n",
       "      <td>0.004827</td>\n",
       "      <td>-0.066243</td>\n",
       "      <td>-0.010413</td>\n",
       "      <td>0.000597</td>\n",
       "    </tr>\n",
       "    <tr>\n",
       "      <th>job_management</th>\n",
       "      <td>-0.020545</td>\n",
       "      <td>0.080312</td>\n",
       "      <td>0.017082</td>\n",
       "      <td>0.021521</td>\n",
       "      <td>0.037772</td>\n",
       "      <td>-0.189199</td>\n",
       "      <td>-0.275458</td>\n",
       "      <td>-0.098042</td>\n",
       "      <td>-0.084234</td>\n",
       "      <td>1.000000</td>\n",
       "      <td>...</td>\n",
       "      <td>0.113489</td>\n",
       "      <td>-0.000633</td>\n",
       "      <td>0.003766</td>\n",
       "      <td>-0.015159</td>\n",
       "      <td>-0.031465</td>\n",
       "      <td>-0.025752</td>\n",
       "      <td>0.051108</td>\n",
       "      <td>-0.082480</td>\n",
       "      <td>0.045776</td>\n",
       "      <td>0.006361</td>\n",
       "    </tr>\n",
       "    <tr>\n",
       "      <th>job_retired</th>\n",
       "      <td>0.279414</td>\n",
       "      <td>0.030261</td>\n",
       "      <td>0.008007</td>\n",
       "      <td>-0.019352</td>\n",
       "      <td>0.030980</td>\n",
       "      <td>-0.074438</td>\n",
       "      <td>-0.108376</td>\n",
       "      <td>-0.038574</td>\n",
       "      <td>-0.033141</td>\n",
       "      <td>-0.109000</td>\n",
       "      <td>...</td>\n",
       "      <td>0.011490</td>\n",
       "      <td>0.004567</td>\n",
       "      <td>0.060878</td>\n",
       "      <td>-0.009312</td>\n",
       "      <td>0.001014</td>\n",
       "      <td>0.012320</td>\n",
       "      <td>0.033694</td>\n",
       "      <td>-0.060503</td>\n",
       "      <td>-0.027524</td>\n",
       "      <td>-0.016330</td>\n",
       "    </tr>\n",
       "    <tr>\n",
       "      <th>job_self-employed</th>\n",
       "      <td>-0.017022</td>\n",
       "      <td>0.008467</td>\n",
       "      <td>0.004552</td>\n",
       "      <td>0.005093</td>\n",
       "      <td>0.010775</td>\n",
       "      <td>-0.069936</td>\n",
       "      <td>-0.101821</td>\n",
       "      <td>-0.036241</td>\n",
       "      <td>-0.031136</td>\n",
       "      <td>-0.102407</td>\n",
       "      <td>...</td>\n",
       "      <td>-0.001529</td>\n",
       "      <td>-0.002997</td>\n",
       "      <td>0.000762</td>\n",
       "      <td>0.006387</td>\n",
       "      <td>-0.006679</td>\n",
       "      <td>0.010589</td>\n",
       "      <td>-0.004649</td>\n",
       "      <td>-0.022263</td>\n",
       "      <td>0.043985</td>\n",
       "      <td>-0.004758</td>\n",
       "    </tr>\n",
       "    <tr>\n",
       "      <th>job_services</th>\n",
       "      <td>-0.042262</td>\n",
       "      <td>-0.041039</td>\n",
       "      <td>-0.008993</td>\n",
       "      <td>-0.011208</td>\n",
       "      <td>-0.020145</td>\n",
       "      <td>-0.116414</td>\n",
       "      <td>-0.169489</td>\n",
       "      <td>-0.060325</td>\n",
       "      <td>-0.051829</td>\n",
       "      <td>-0.170465</td>\n",
       "      <td>...</td>\n",
       "      <td>-0.070220</td>\n",
       "      <td>0.000266</td>\n",
       "      <td>-0.022872</td>\n",
       "      <td>0.006357</td>\n",
       "      <td>0.027516</td>\n",
       "      <td>0.002893</td>\n",
       "      <td>-0.029977</td>\n",
       "      <td>0.063748</td>\n",
       "      <td>-0.004277</td>\n",
       "      <td>-0.012508</td>\n",
       "    </tr>\n",
       "    <tr>\n",
       "      <th>job_student</th>\n",
       "      <td>-0.157868</td>\n",
       "      <td>-0.005668</td>\n",
       "      <td>-0.005683</td>\n",
       "      <td>-0.013499</td>\n",
       "      <td>0.061302</td>\n",
       "      <td>-0.049023</td>\n",
       "      <td>-0.071373</td>\n",
       "      <td>-0.025404</td>\n",
       "      <td>-0.021826</td>\n",
       "      <td>-0.071784</td>\n",
       "      <td>...</td>\n",
       "      <td>-0.047859</td>\n",
       "      <td>-0.002100</td>\n",
       "      <td>0.037226</td>\n",
       "      <td>0.000410</td>\n",
       "      <td>-0.030350</td>\n",
       "      <td>-0.022462</td>\n",
       "      <td>0.047235</td>\n",
       "      <td>0.020407</td>\n",
       "      <td>-0.028444</td>\n",
       "      <td>0.007071</td>\n",
       "    </tr>\n",
       "    <tr>\n",
       "      <th>job_technician</th>\n",
       "      <td>-0.047727</td>\n",
       "      <td>-0.003948</td>\n",
       "      <td>0.018900</td>\n",
       "      <td>0.010803</td>\n",
       "      <td>0.006383</td>\n",
       "      <td>-0.164308</td>\n",
       "      <td>-0.239220</td>\n",
       "      <td>-0.085144</td>\n",
       "      <td>-0.073153</td>\n",
       "      <td>-0.240597</td>\n",
       "      <td>...</td>\n",
       "      <td>0.141194</td>\n",
       "      <td>0.005180</td>\n",
       "      <td>0.006065</td>\n",
       "      <td>0.010421</td>\n",
       "      <td>-0.019448</td>\n",
       "      <td>-0.034330</td>\n",
       "      <td>-0.007964</td>\n",
       "      <td>-0.050642</td>\n",
       "      <td>-0.013246</td>\n",
       "      <td>0.002907</td>\n",
       "    </tr>\n",
       "    <tr>\n",
       "      <th>job_unemployed</th>\n",
       "      <td>0.018796</td>\n",
       "      <td>0.002706</td>\n",
       "      <td>0.014473</td>\n",
       "      <td>-0.013774</td>\n",
       "      <td>0.017556</td>\n",
       "      <td>-0.061993</td>\n",
       "      <td>-0.090256</td>\n",
       "      <td>-0.032124</td>\n",
       "      <td>-0.027600</td>\n",
       "      <td>-0.090776</td>\n",
       "      <td>...</td>\n",
       "      <td>-0.030513</td>\n",
       "      <td>-0.002656</td>\n",
       "      <td>0.071069</td>\n",
       "      <td>0.064031</td>\n",
       "      <td>0.005076</td>\n",
       "      <td>0.008575</td>\n",
       "      <td>-0.011072</td>\n",
       "      <td>-0.053944</td>\n",
       "      <td>0.015534</td>\n",
       "      <td>-0.014769</td>\n",
       "    </tr>\n",
       "    <tr>\n",
       "      <th>marital_divorced</th>\n",
       "      <td>0.169745</td>\n",
       "      <td>-0.026550</td>\n",
       "      <td>-0.005443</td>\n",
       "      <td>-0.031733</td>\n",
       "      <td>0.022741</td>\n",
       "      <td>0.041108</td>\n",
       "      <td>-0.071914</td>\n",
       "      <td>-0.007734</td>\n",
       "      <td>0.019358</td>\n",
       "      <td>0.009654</td>\n",
       "      <td>...</td>\n",
       "      <td>-0.013841</td>\n",
       "      <td>0.003728</td>\n",
       "      <td>-0.017820</td>\n",
       "      <td>0.008712</td>\n",
       "      <td>0.024884</td>\n",
       "      <td>0.016714</td>\n",
       "      <td>-0.008325</td>\n",
       "      <td>0.002068</td>\n",
       "      <td>0.002319</td>\n",
       "      <td>0.032362</td>\n",
       "    </tr>\n",
       "    <tr>\n",
       "      <th>marital_married</th>\n",
       "      <td>0.303436</td>\n",
       "      <td>0.011645</td>\n",
       "      <td>0.004065</td>\n",
       "      <td>0.043605</td>\n",
       "      <td>-0.101184</td>\n",
       "      <td>-0.062815</td>\n",
       "      <td>0.131234</td>\n",
       "      <td>0.047817</td>\n",
       "      <td>0.046104</td>\n",
       "      <td>-0.032150</td>\n",
       "      <td>...</td>\n",
       "      <td>0.052837</td>\n",
       "      <td>-0.002514</td>\n",
       "      <td>-0.033027</td>\n",
       "      <td>-0.042747</td>\n",
       "      <td>0.026395</td>\n",
       "      <td>0.029304</td>\n",
       "      <td>-0.015941</td>\n",
       "      <td>-0.051647</td>\n",
       "      <td>0.028971</td>\n",
       "      <td>-0.011998</td>\n",
       "    </tr>\n",
       "    <tr>\n",
       "      <th>education_primary</th>\n",
       "      <td>0.185544</td>\n",
       "      <td>-0.023222</td>\n",
       "      <td>-0.017650</td>\n",
       "      <td>0.018720</td>\n",
       "      <td>-0.057921</td>\n",
       "      <td>-0.122245</td>\n",
       "      <td>0.382336</td>\n",
       "      <td>-0.015632</td>\n",
       "      <td>0.158917</td>\n",
       "      <td>-0.187896</td>\n",
       "      <td>...</td>\n",
       "      <td>-0.040190</td>\n",
       "      <td>-0.006650</td>\n",
       "      <td>-0.013465</td>\n",
       "      <td>-0.014598</td>\n",
       "      <td>0.016226</td>\n",
       "      <td>0.050605</td>\n",
       "      <td>-0.038409</td>\n",
       "      <td>0.034530</td>\n",
       "      <td>-0.032232</td>\n",
       "      <td>-0.021646</td>\n",
       "    </tr>\n",
       "    <tr>\n",
       "      <th>education_secondary</th>\n",
       "      <td>-0.067573</td>\n",
       "      <td>-0.074399</td>\n",
       "      <td>-0.012008</td>\n",
       "      <td>-0.024848</td>\n",
       "      <td>-0.048110</td>\n",
       "      <td>0.240728</td>\n",
       "      <td>0.042013</td>\n",
       "      <td>-0.063304</td>\n",
       "      <td>-0.062714</td>\n",
       "      <td>-0.427528</td>\n",
       "      <td>...</td>\n",
       "      <td>-0.072486</td>\n",
       "      <td>0.002449</td>\n",
       "      <td>-0.031494</td>\n",
       "      <td>0.008186</td>\n",
       "      <td>0.027051</td>\n",
       "      <td>-0.011572</td>\n",
       "      <td>-0.030663</td>\n",
       "      <td>0.079996</td>\n",
       "      <td>-0.012510</td>\n",
       "      <td>0.009597</td>\n",
       "    </tr>\n",
       "    <tr>\n",
       "      <th>education_tertiary</th>\n",
       "      <td>-0.083186</td>\n",
       "      <td>0.093108</td>\n",
       "      <td>0.025322</td>\n",
       "      <td>0.010515</td>\n",
       "      <td>0.094855</td>\n",
       "      <td>-0.159123</td>\n",
       "      <td>-0.338665</td>\n",
       "      <td>0.082041</td>\n",
       "      <td>-0.055309</td>\n",
       "      <td>0.611008</td>\n",
       "      <td>...</td>\n",
       "      <td>0.107651</td>\n",
       "      <td>0.002726</td>\n",
       "      <td>0.044965</td>\n",
       "      <td>0.003229</td>\n",
       "      <td>-0.040806</td>\n",
       "      <td>-0.031153</td>\n",
       "      <td>0.062523</td>\n",
       "      <td>-0.107434</td>\n",
       "      <td>0.041360</td>\n",
       "      <td>0.002697</td>\n",
       "    </tr>\n",
       "    <tr>\n",
       "      <th>default_0</th>\n",
       "      <td>0.007471</td>\n",
       "      <td>0.073839</td>\n",
       "      <td>0.005345</td>\n",
       "      <td>0.001306</td>\n",
       "      <td>0.004601</td>\n",
       "      <td>0.010045</td>\n",
       "      <td>-0.011890</td>\n",
       "      <td>-0.035303</td>\n",
       "      <td>0.000163</td>\n",
       "      <td>0.008510</td>\n",
       "      <td>...</td>\n",
       "      <td>0.002800</td>\n",
       "      <td>0.002205</td>\n",
       "      <td>0.016953</td>\n",
       "      <td>-0.003840</td>\n",
       "      <td>-0.055242</td>\n",
       "      <td>-0.012065</td>\n",
       "      <td>0.020225</td>\n",
       "      <td>0.015557</td>\n",
       "      <td>-0.005115</td>\n",
       "      <td>0.012261</td>\n",
       "    </tr>\n",
       "    <tr>\n",
       "      <th>default_1</th>\n",
       "      <td>-0.007471</td>\n",
       "      <td>-0.073839</td>\n",
       "      <td>-0.005345</td>\n",
       "      <td>-0.001306</td>\n",
       "      <td>-0.004601</td>\n",
       "      <td>-0.010045</td>\n",
       "      <td>0.011890</td>\n",
       "      <td>0.035303</td>\n",
       "      <td>-0.000163</td>\n",
       "      <td>-0.008510</td>\n",
       "      <td>...</td>\n",
       "      <td>-0.002800</td>\n",
       "      <td>-0.002205</td>\n",
       "      <td>-0.016953</td>\n",
       "      <td>0.003840</td>\n",
       "      <td>0.055242</td>\n",
       "      <td>0.012065</td>\n",
       "      <td>-0.020225</td>\n",
       "      <td>-0.015557</td>\n",
       "      <td>0.005115</td>\n",
       "      <td>-0.012261</td>\n",
       "    </tr>\n",
       "    <tr>\n",
       "      <th>housing_0</th>\n",
       "      <td>0.134968</td>\n",
       "      <td>0.051437</td>\n",
       "      <td>0.047026</td>\n",
       "      <td>0.035550</td>\n",
       "      <td>0.115356</td>\n",
       "      <td>-0.035522</td>\n",
       "      <td>-0.163357</td>\n",
       "      <td>-0.011006</td>\n",
       "      <td>0.076605</td>\n",
       "      <td>0.070194</td>\n",
       "      <td>...</td>\n",
       "      <td>0.299482</td>\n",
       "      <td>0.008201</td>\n",
       "      <td>0.096649</td>\n",
       "      <td>0.058461</td>\n",
       "      <td>0.042959</td>\n",
       "      <td>0.099548</td>\n",
       "      <td>0.081955</td>\n",
       "      <td>-0.420046</td>\n",
       "      <td>0.002700</td>\n",
       "      <td>-0.006658</td>\n",
       "    </tr>\n",
       "    <tr>\n",
       "      <th>housing_1</th>\n",
       "      <td>-0.134968</td>\n",
       "      <td>-0.051437</td>\n",
       "      <td>-0.047026</td>\n",
       "      <td>-0.035550</td>\n",
       "      <td>-0.115356</td>\n",
       "      <td>0.035522</td>\n",
       "      <td>0.163357</td>\n",
       "      <td>0.011006</td>\n",
       "      <td>-0.076605</td>\n",
       "      <td>-0.070194</td>\n",
       "      <td>...</td>\n",
       "      <td>-0.299482</td>\n",
       "      <td>-0.008201</td>\n",
       "      <td>-0.096649</td>\n",
       "      <td>-0.058461</td>\n",
       "      <td>-0.042959</td>\n",
       "      <td>-0.099548</td>\n",
       "      <td>-0.081955</td>\n",
       "      <td>0.420046</td>\n",
       "      <td>-0.002700</td>\n",
       "      <td>0.006658</td>\n",
       "    </tr>\n",
       "    <tr>\n",
       "      <th>loan_0</th>\n",
       "      <td>0.001692</td>\n",
       "      <td>0.088250</td>\n",
       "      <td>-0.001716</td>\n",
       "      <td>-0.002924</td>\n",
       "      <td>0.057469</td>\n",
       "      <td>-0.037825</td>\n",
       "      <td>-0.029869</td>\n",
       "      <td>-0.025262</td>\n",
       "      <td>0.015152</td>\n",
       "      <td>0.050002</td>\n",
       "      <td>...</td>\n",
       "      <td>0.073346</td>\n",
       "      <td>0.002486</td>\n",
       "      <td>0.030711</td>\n",
       "      <td>-0.002375</td>\n",
       "      <td>-0.192197</td>\n",
       "      <td>0.017381</td>\n",
       "      <td>0.038487</td>\n",
       "      <td>0.033072</td>\n",
       "      <td>-0.024968</td>\n",
       "      <td>-0.002424</td>\n",
       "    </tr>\n",
       "    <tr>\n",
       "      <th>loan_1</th>\n",
       "      <td>-0.001692</td>\n",
       "      <td>-0.088250</td>\n",
       "      <td>0.001716</td>\n",
       "      <td>0.002924</td>\n",
       "      <td>-0.057469</td>\n",
       "      <td>0.037825</td>\n",
       "      <td>0.029869</td>\n",
       "      <td>0.025262</td>\n",
       "      <td>-0.015152</td>\n",
       "      <td>-0.050002</td>\n",
       "      <td>...</td>\n",
       "      <td>-0.073346</td>\n",
       "      <td>-0.002486</td>\n",
       "      <td>-0.030711</td>\n",
       "      <td>0.002375</td>\n",
       "      <td>0.192197</td>\n",
       "      <td>-0.017381</td>\n",
       "      <td>-0.038487</td>\n",
       "      <td>-0.033072</td>\n",
       "      <td>0.024968</td>\n",
       "      <td>0.002424</td>\n",
       "    </tr>\n",
       "    <tr>\n",
       "      <th>contact_telephone</th>\n",
       "      <td>0.113341</td>\n",
       "      <td>0.044372</td>\n",
       "      <td>0.032715</td>\n",
       "      <td>0.060430</td>\n",
       "      <td>-0.000411</td>\n",
       "      <td>0.017769</td>\n",
       "      <td>0.000945</td>\n",
       "      <td>0.007099</td>\n",
       "      <td>0.029542</td>\n",
       "      <td>-0.030014</td>\n",
       "      <td>...</td>\n",
       "      <td>-0.049057</td>\n",
       "      <td>0.036094</td>\n",
       "      <td>0.049686</td>\n",
       "      <td>0.019884</td>\n",
       "      <td>0.087080</td>\n",
       "      <td>-0.073114</td>\n",
       "      <td>-0.001459</td>\n",
       "      <td>-0.080421</td>\n",
       "      <td>0.045129</td>\n",
       "      <td>0.207678</td>\n",
       "    </tr>\n",
       "    <tr>\n",
       "      <th>contact_unknown</th>\n",
       "      <td>0.021160</td>\n",
       "      <td>-0.027382</td>\n",
       "      <td>-0.032523</td>\n",
       "      <td>0.002605</td>\n",
       "      <td>-0.181400</td>\n",
       "      <td>-0.003155</td>\n",
       "      <td>0.128926</td>\n",
       "      <td>0.006200</td>\n",
       "      <td>0.002010</td>\n",
       "      <td>-0.085919</td>\n",
       "      <td>...</td>\n",
       "      <td>-0.220972</td>\n",
       "      <td>-0.002302</td>\n",
       "      <td>-0.160046</td>\n",
       "      <td>-0.094841</td>\n",
       "      <td>-0.227199</td>\n",
       "      <td>0.473462</td>\n",
       "      <td>-0.085051</td>\n",
       "      <td>0.378091</td>\n",
       "      <td>-0.166226</td>\n",
       "      <td>0.022297</td>\n",
       "    </tr>\n",
       "    <tr>\n",
       "      <th>month_apr</th>\n",
       "      <td>-0.033389</td>\n",
       "      <td>0.016444</td>\n",
       "      <td>0.124743</td>\n",
       "      <td>-0.098863</td>\n",
       "      <td>0.161702</td>\n",
       "      <td>0.019627</td>\n",
       "      <td>-0.017063</td>\n",
       "      <td>-0.020452</td>\n",
       "      <td>-0.015031</td>\n",
       "      <td>0.005473</td>\n",
       "      <td>...</td>\n",
       "      <td>-0.123144</td>\n",
       "      <td>-0.005114</td>\n",
       "      <td>-0.088271</td>\n",
       "      <td>-0.052308</td>\n",
       "      <td>-0.141021</td>\n",
       "      <td>-0.117695</td>\n",
       "      <td>-0.046909</td>\n",
       "      <td>-0.223861</td>\n",
       "      <td>-0.101622</td>\n",
       "      <td>-0.028437</td>\n",
       "    </tr>\n",
       "    <tr>\n",
       "      <th>month_aug</th>\n",
       "      <td>0.089335</td>\n",
       "      <td>0.007516</td>\n",
       "      <td>0.016794</td>\n",
       "      <td>0.194548</td>\n",
       "      <td>-0.046301</td>\n",
       "      <td>-0.083941</td>\n",
       "      <td>-0.097042</td>\n",
       "      <td>-0.047660</td>\n",
       "      <td>0.027829</td>\n",
       "      <td>0.113489</td>\n",
       "      <td>...</td>\n",
       "      <td>1.000000</td>\n",
       "      <td>-0.005711</td>\n",
       "      <td>-0.098578</td>\n",
       "      <td>-0.058416</td>\n",
       "      <td>-0.157488</td>\n",
       "      <td>-0.131437</td>\n",
       "      <td>-0.052386</td>\n",
       "      <td>-0.250001</td>\n",
       "      <td>-0.113488</td>\n",
       "      <td>-0.031758</td>\n",
       "    </tr>\n",
       "    <tr>\n",
       "      <th>month_dec</th>\n",
       "      <td>-0.003334</td>\n",
       "      <td>-0.002547</td>\n",
       "      <td>-0.011104</td>\n",
       "      <td>-0.008911</td>\n",
       "      <td>-0.012160</td>\n",
       "      <td>-0.000698</td>\n",
       "      <td>-0.000562</td>\n",
       "      <td>-0.002869</td>\n",
       "      <td>-0.002465</td>\n",
       "      <td>-0.000633</td>\n",
       "      <td>...</td>\n",
       "      <td>-0.005711</td>\n",
       "      <td>1.000000</td>\n",
       "      <td>-0.004094</td>\n",
       "      <td>-0.002426</td>\n",
       "      <td>-0.006541</td>\n",
       "      <td>-0.005459</td>\n",
       "      <td>-0.002176</td>\n",
       "      <td>-0.010383</td>\n",
       "      <td>-0.004713</td>\n",
       "      <td>-0.001319</td>\n",
       "    </tr>\n",
       "    <tr>\n",
       "      <th>month_feb</th>\n",
       "      <td>-0.016844</td>\n",
       "      <td>0.005650</td>\n",
       "      <td>-0.274985</td>\n",
       "      <td>-0.035101</td>\n",
       "      <td>0.058792</td>\n",
       "      <td>0.001368</td>\n",
       "      <td>-0.057274</td>\n",
       "      <td>-0.000170</td>\n",
       "      <td>-0.016219</td>\n",
       "      <td>0.003766</td>\n",
       "      <td>...</td>\n",
       "      <td>-0.098578</td>\n",
       "      <td>-0.004094</td>\n",
       "      <td>1.000000</td>\n",
       "      <td>-0.041873</td>\n",
       "      <td>-0.112888</td>\n",
       "      <td>-0.094215</td>\n",
       "      <td>-0.037551</td>\n",
       "      <td>-0.179202</td>\n",
       "      <td>-0.081349</td>\n",
       "      <td>-0.022764</td>\n",
       "    </tr>\n",
       "    <tr>\n",
       "      <th>month_jan</th>\n",
       "      <td>-0.021213</td>\n",
       "      <td>-0.035113</td>\n",
       "      <td>0.241100</td>\n",
       "      <td>-0.057764</td>\n",
       "      <td>-0.053310</td>\n",
       "      <td>0.005900</td>\n",
       "      <td>-0.025354</td>\n",
       "      <td>0.001511</td>\n",
       "      <td>-0.009389</td>\n",
       "      <td>-0.015159</td>\n",
       "      <td>...</td>\n",
       "      <td>-0.058416</td>\n",
       "      <td>-0.002426</td>\n",
       "      <td>-0.041873</td>\n",
       "      <td>1.000000</td>\n",
       "      <td>-0.066896</td>\n",
       "      <td>-0.055831</td>\n",
       "      <td>-0.022252</td>\n",
       "      <td>-0.106193</td>\n",
       "      <td>-0.048207</td>\n",
       "      <td>-0.013490</td>\n",
       "    </tr>\n",
       "    <tr>\n",
       "      <th>month_jul</th>\n",
       "      <td>0.017494</td>\n",
       "      <td>-0.083999</td>\n",
       "      <td>0.152612</td>\n",
       "      <td>0.117779</td>\n",
       "      <td>-0.036054</td>\n",
       "      <td>0.011962</td>\n",
       "      <td>0.002531</td>\n",
       "      <td>0.029273</td>\n",
       "      <td>0.045244</td>\n",
       "      <td>-0.031465</td>\n",
       "      <td>...</td>\n",
       "      <td>-0.157488</td>\n",
       "      <td>-0.006541</td>\n",
       "      <td>-0.112888</td>\n",
       "      <td>-0.066896</td>\n",
       "      <td>1.000000</td>\n",
       "      <td>-0.150518</td>\n",
       "      <td>-0.059991</td>\n",
       "      <td>-0.286293</td>\n",
       "      <td>-0.129963</td>\n",
       "      <td>-0.036368</td>\n",
       "    </tr>\n",
       "    <tr>\n",
       "      <th>month_jun</th>\n",
       "      <td>0.084065</td>\n",
       "      <td>0.019342</td>\n",
       "      <td>-0.238176</td>\n",
       "      <td>0.035731</td>\n",
       "      <td>-0.038256</td>\n",
       "      <td>-0.007210</td>\n",
       "      <td>0.024973</td>\n",
       "      <td>0.011378</td>\n",
       "      <td>0.055740</td>\n",
       "      <td>-0.025752</td>\n",
       "      <td>...</td>\n",
       "      <td>-0.131437</td>\n",
       "      <td>-0.005459</td>\n",
       "      <td>-0.094215</td>\n",
       "      <td>-0.055831</td>\n",
       "      <td>-0.150518</td>\n",
       "      <td>1.000000</td>\n",
       "      <td>-0.050068</td>\n",
       "      <td>-0.238937</td>\n",
       "      <td>-0.108466</td>\n",
       "      <td>-0.030353</td>\n",
       "    </tr>\n",
       "    <tr>\n",
       "      <th>month_mar</th>\n",
       "      <td>-0.017326</td>\n",
       "      <td>0.040959</td>\n",
       "      <td>-0.035953</td>\n",
       "      <td>-0.017523</td>\n",
       "      <td>0.144771</td>\n",
       "      <td>0.021839</td>\n",
       "      <td>-0.060590</td>\n",
       "      <td>-0.011094</td>\n",
       "      <td>0.004827</td>\n",
       "      <td>0.051108</td>\n",
       "      <td>...</td>\n",
       "      <td>-0.052386</td>\n",
       "      <td>-0.002176</td>\n",
       "      <td>-0.037551</td>\n",
       "      <td>-0.022252</td>\n",
       "      <td>-0.059991</td>\n",
       "      <td>-0.050068</td>\n",
       "      <td>1.000000</td>\n",
       "      <td>-0.095231</td>\n",
       "      <td>-0.043230</td>\n",
       "      <td>-0.012097</td>\n",
       "    </tr>\n",
       "    <tr>\n",
       "      <th>month_may</th>\n",
       "      <td>-0.113850</td>\n",
       "      <td>-0.054614</td>\n",
       "      <td>-0.047347</td>\n",
       "      <td>-0.083770</td>\n",
       "      <td>-0.076946</td>\n",
       "      <td>0.038151</td>\n",
       "      <td>0.145490</td>\n",
       "      <td>-0.017856</td>\n",
       "      <td>-0.066243</td>\n",
       "      <td>-0.082480</td>\n",
       "      <td>...</td>\n",
       "      <td>-0.250001</td>\n",
       "      <td>-0.010383</td>\n",
       "      <td>-0.179202</td>\n",
       "      <td>-0.106193</td>\n",
       "      <td>-0.286293</td>\n",
       "      <td>-0.238937</td>\n",
       "      <td>-0.095231</td>\n",
       "      <td>1.000000</td>\n",
       "      <td>-0.206307</td>\n",
       "      <td>-0.057732</td>\n",
       "    </tr>\n",
       "    <tr>\n",
       "      <th>month_nov</th>\n",
       "      <td>0.036339</td>\n",
       "      <td>0.130738</td>\n",
       "      <td>0.102072</td>\n",
       "      <td>-0.086785</td>\n",
       "      <td>-0.025542</td>\n",
       "      <td>-0.015490</td>\n",
       "      <td>-0.040506</td>\n",
       "      <td>0.054098</td>\n",
       "      <td>-0.010413</td>\n",
       "      <td>0.045776</td>\n",
       "      <td>...</td>\n",
       "      <td>-0.113488</td>\n",
       "      <td>-0.004713</td>\n",
       "      <td>-0.081349</td>\n",
       "      <td>-0.048207</td>\n",
       "      <td>-0.129963</td>\n",
       "      <td>-0.108466</td>\n",
       "      <td>-0.043230</td>\n",
       "      <td>-0.206307</td>\n",
       "      <td>1.000000</td>\n",
       "      <td>-0.026208</td>\n",
       "    </tr>\n",
       "    <tr>\n",
       "      <th>month_oct</th>\n",
       "      <td>0.006972</td>\n",
       "      <td>0.045332</td>\n",
       "      <td>0.082938</td>\n",
       "      <td>-0.049551</td>\n",
       "      <td>0.097570</td>\n",
       "      <td>0.021796</td>\n",
       "      <td>-0.019015</td>\n",
       "      <td>0.024336</td>\n",
       "      <td>0.000597</td>\n",
       "      <td>0.006361</td>\n",
       "      <td>...</td>\n",
       "      <td>-0.031758</td>\n",
       "      <td>-0.001319</td>\n",
       "      <td>-0.022764</td>\n",
       "      <td>-0.013490</td>\n",
       "      <td>-0.036368</td>\n",
       "      <td>-0.030353</td>\n",
       "      <td>-0.012097</td>\n",
       "      <td>-0.057732</td>\n",
       "      <td>-0.026208</td>\n",
       "      <td>1.000000</td>\n",
       "    </tr>\n",
       "  </tbody>\n",
       "</table>\n",
       "<p>40 rows × 40 columns</p>\n",
       "</div>"
      ],
      "text/plain": [
       "                          age   balance       day  campaign         y  \\\n",
       "age                  1.000000  0.064880 -0.014377  0.016039 -0.058839   \n",
       "balance              0.064880  1.000000  0.005660 -0.013262  0.052050   \n",
       "day                 -0.014377  0.005660  1.000000  0.130379 -0.003258   \n",
       "campaign             0.016039 -0.013262  0.130379  1.000000 -0.083390   \n",
       "y                   -0.058839  0.052050 -0.003258 -0.083390  1.000000   \n",
       "job_admin           -0.048176 -0.038484 -0.005558 -0.018815  0.010302   \n",
       "job_blue-collar     -0.005590 -0.049167 -0.037601 -0.004656 -0.070411   \n",
       "job_entrepreneur     0.032269  0.015151 -0.000292  0.008701 -0.008385   \n",
       "job_housemaid        0.091953  0.006363  0.007128  0.018945 -0.028855   \n",
       "job_management      -0.020545  0.080312  0.017082  0.021521  0.037772   \n",
       "job_retired          0.279414  0.030261  0.008007 -0.019352  0.030980   \n",
       "job_self-employed   -0.017022  0.008467  0.004552  0.005093  0.010775   \n",
       "job_services        -0.042262 -0.041039 -0.008993 -0.011208 -0.020145   \n",
       "job_student         -0.157868 -0.005668 -0.005683 -0.013499  0.061302   \n",
       "job_technician      -0.047727 -0.003948  0.018900  0.010803  0.006383   \n",
       "job_unemployed       0.018796  0.002706  0.014473 -0.013774  0.017556   \n",
       "marital_divorced     0.169745 -0.026550 -0.005443 -0.031733  0.022741   \n",
       "marital_married      0.303436  0.011645  0.004065  0.043605 -0.101184   \n",
       "education_primary    0.185544 -0.023222 -0.017650  0.018720 -0.057921   \n",
       "education_secondary -0.067573 -0.074399 -0.012008 -0.024848 -0.048110   \n",
       "education_tertiary  -0.083186  0.093108  0.025322  0.010515  0.094855   \n",
       "default_0            0.007471  0.073839  0.005345  0.001306  0.004601   \n",
       "default_1           -0.007471 -0.073839 -0.005345 -0.001306 -0.004601   \n",
       "housing_0            0.134968  0.051437  0.047026  0.035550  0.115356   \n",
       "housing_1           -0.134968 -0.051437 -0.047026 -0.035550 -0.115356   \n",
       "loan_0               0.001692  0.088250 -0.001716 -0.002924  0.057469   \n",
       "loan_1              -0.001692 -0.088250  0.001716  0.002924 -0.057469   \n",
       "contact_telephone    0.113341  0.044372  0.032715  0.060430 -0.000411   \n",
       "contact_unknown      0.021160 -0.027382 -0.032523  0.002605 -0.181400   \n",
       "month_apr           -0.033389  0.016444  0.124743 -0.098863  0.161702   \n",
       "month_aug            0.089335  0.007516  0.016794  0.194548 -0.046301   \n",
       "month_dec           -0.003334 -0.002547 -0.011104 -0.008911 -0.012160   \n",
       "month_feb           -0.016844  0.005650 -0.274985 -0.035101  0.058792   \n",
       "month_jan           -0.021213 -0.035113  0.241100 -0.057764 -0.053310   \n",
       "month_jul            0.017494 -0.083999  0.152612  0.117779 -0.036054   \n",
       "month_jun            0.084065  0.019342 -0.238176  0.035731 -0.038256   \n",
       "month_mar           -0.017326  0.040959 -0.035953 -0.017523  0.144771   \n",
       "month_may           -0.113850 -0.054614 -0.047347 -0.083770 -0.076946   \n",
       "month_nov            0.036339  0.130738  0.102072 -0.086785 -0.025542   \n",
       "month_oct            0.006972  0.045332  0.082938 -0.049551  0.097570   \n",
       "\n",
       "                     job_admin  job_blue-collar  job_entrepreneur  \\\n",
       "age                  -0.048176        -0.005590          0.032269   \n",
       "balance              -0.038484        -0.049167          0.015151   \n",
       "day                  -0.005558        -0.037601         -0.000292   \n",
       "campaign             -0.018815        -0.004656          0.008701   \n",
       "y                     0.010302        -0.070411         -0.008385   \n",
       "job_admin             1.000000        -0.188116         -0.066955   \n",
       "job_blue-collar      -0.188116         1.000000         -0.097481   \n",
       "job_entrepreneur     -0.066955        -0.097481          1.000000   \n",
       "job_housemaid        -0.057525        -0.083752         -0.029809   \n",
       "job_management       -0.189199        -0.275458         -0.098042   \n",
       "job_retired          -0.074438        -0.108376         -0.038574   \n",
       "job_self-employed    -0.069936        -0.101821         -0.036241   \n",
       "job_services         -0.116414        -0.169489         -0.060325   \n",
       "job_student          -0.049023        -0.071373         -0.025404   \n",
       "job_technician       -0.164308        -0.239220         -0.085144   \n",
       "job_unemployed       -0.061993        -0.090256         -0.032124   \n",
       "marital_divorced      0.041108        -0.071914         -0.007734   \n",
       "marital_married      -0.062815         0.131234          0.047817   \n",
       "education_primary    -0.122245         0.382336         -0.015632   \n",
       "education_secondary   0.240728         0.042013         -0.063304   \n",
       "education_tertiary   -0.159123        -0.338665          0.082041   \n",
       "default_0             0.010045        -0.011890         -0.035303   \n",
       "default_1            -0.010045         0.011890          0.035303   \n",
       "housing_0            -0.035522        -0.163357         -0.011006   \n",
       "housing_1             0.035522         0.163357          0.011006   \n",
       "loan_0               -0.037825        -0.029869         -0.025262   \n",
       "loan_1                0.037825         0.029869          0.025262   \n",
       "contact_telephone     0.017769         0.000945          0.007099   \n",
       "contact_unknown      -0.003155         0.128926          0.006200   \n",
       "month_apr             0.019627        -0.017063         -0.020452   \n",
       "month_aug            -0.083941        -0.097042         -0.047660   \n",
       "month_dec            -0.000698        -0.000562         -0.002869   \n",
       "month_feb             0.001368        -0.057274         -0.000170   \n",
       "month_jan             0.005900        -0.025354          0.001511   \n",
       "month_jul             0.011962         0.002531          0.029273   \n",
       "month_jun            -0.007210         0.024973          0.011378   \n",
       "month_mar             0.021839        -0.060590         -0.011094   \n",
       "month_may             0.038151         0.145490         -0.017856   \n",
       "month_nov            -0.015490        -0.040506          0.054098   \n",
       "month_oct             0.021796        -0.019015          0.024336   \n",
       "\n",
       "                     job_housemaid  job_management  ...  month_aug  month_dec  \\\n",
       "age                       0.091953       -0.020545  ...   0.089335  -0.003334   \n",
       "balance                   0.006363        0.080312  ...   0.007516  -0.002547   \n",
       "day                       0.007128        0.017082  ...   0.016794  -0.011104   \n",
       "campaign                  0.018945        0.021521  ...   0.194548  -0.008911   \n",
       "y                        -0.028855        0.037772  ...  -0.046301  -0.012160   \n",
       "job_admin                -0.057525       -0.189199  ...  -0.083941  -0.000698   \n",
       "job_blue-collar          -0.083752       -0.275458  ...  -0.097042  -0.000562   \n",
       "job_entrepreneur         -0.029809       -0.098042  ...  -0.047660  -0.002869   \n",
       "job_housemaid             1.000000       -0.084234  ...   0.027829  -0.002465   \n",
       "job_management           -0.084234        1.000000  ...   0.113489  -0.000633   \n",
       "job_retired              -0.033141       -0.109000  ...   0.011490   0.004567   \n",
       "job_self-employed        -0.031136       -0.102407  ...  -0.001529  -0.002997   \n",
       "job_services             -0.051829       -0.170465  ...  -0.070220   0.000266   \n",
       "job_student              -0.021826       -0.071784  ...  -0.047859  -0.002100   \n",
       "job_technician           -0.073153       -0.240597  ...   0.141194   0.005180   \n",
       "job_unemployed           -0.027600       -0.090776  ...  -0.030513  -0.002656   \n",
       "marital_divorced          0.019358        0.009654  ...  -0.013841   0.003728   \n",
       "marital_married           0.046104       -0.032150  ...   0.052837  -0.002514   \n",
       "education_primary         0.158917       -0.187896  ...  -0.040190  -0.006650   \n",
       "education_secondary      -0.062714       -0.427528  ...  -0.072486   0.002449   \n",
       "education_tertiary       -0.055309        0.611008  ...   0.107651   0.002726   \n",
       "default_0                 0.000163        0.008510  ...   0.002800   0.002205   \n",
       "default_1                -0.000163       -0.008510  ...  -0.002800  -0.002205   \n",
       "housing_0                 0.076605        0.070194  ...   0.299482   0.008201   \n",
       "housing_1                -0.076605       -0.070194  ...  -0.299482  -0.008201   \n",
       "loan_0                    0.015152        0.050002  ...   0.073346   0.002486   \n",
       "loan_1                   -0.015152       -0.050002  ...  -0.073346  -0.002486   \n",
       "contact_telephone         0.029542       -0.030014  ...  -0.049057   0.036094   \n",
       "contact_unknown           0.002010       -0.085919  ...  -0.220972  -0.002302   \n",
       "month_apr                -0.015031        0.005473  ...  -0.123144  -0.005114   \n",
       "month_aug                 0.027829        0.113489  ...   1.000000  -0.005711   \n",
       "month_dec                -0.002465       -0.000633  ...  -0.005711   1.000000   \n",
       "month_feb                -0.016219        0.003766  ...  -0.098578  -0.004094   \n",
       "month_jan                -0.009389       -0.015159  ...  -0.058416  -0.002426   \n",
       "month_jul                 0.045244       -0.031465  ...  -0.157488  -0.006541   \n",
       "month_jun                 0.055740       -0.025752  ...  -0.131437  -0.005459   \n",
       "month_mar                 0.004827        0.051108  ...  -0.052386  -0.002176   \n",
       "month_may                -0.066243       -0.082480  ...  -0.250001  -0.010383   \n",
       "month_nov                -0.010413        0.045776  ...  -0.113488  -0.004713   \n",
       "month_oct                 0.000597        0.006361  ...  -0.031758  -0.001319   \n",
       "\n",
       "                     month_feb  month_jan  month_jul  month_jun  month_mar  \\\n",
       "age                  -0.016844  -0.021213   0.017494   0.084065  -0.017326   \n",
       "balance               0.005650  -0.035113  -0.083999   0.019342   0.040959   \n",
       "day                  -0.274985   0.241100   0.152612  -0.238176  -0.035953   \n",
       "campaign             -0.035101  -0.057764   0.117779   0.035731  -0.017523   \n",
       "y                     0.058792  -0.053310  -0.036054  -0.038256   0.144771   \n",
       "job_admin             0.001368   0.005900   0.011962  -0.007210   0.021839   \n",
       "job_blue-collar      -0.057274  -0.025354   0.002531   0.024973  -0.060590   \n",
       "job_entrepreneur     -0.000170   0.001511   0.029273   0.011378  -0.011094   \n",
       "job_housemaid        -0.016219  -0.009389   0.045244   0.055740   0.004827   \n",
       "job_management        0.003766  -0.015159  -0.031465  -0.025752   0.051108   \n",
       "job_retired           0.060878  -0.009312   0.001014   0.012320   0.033694   \n",
       "job_self-employed     0.000762   0.006387  -0.006679   0.010589  -0.004649   \n",
       "job_services         -0.022872   0.006357   0.027516   0.002893  -0.029977   \n",
       "job_student           0.037226   0.000410  -0.030350  -0.022462   0.047235   \n",
       "job_technician        0.006065   0.010421  -0.019448  -0.034330  -0.007964   \n",
       "job_unemployed        0.071069   0.064031   0.005076   0.008575  -0.011072   \n",
       "marital_divorced     -0.017820   0.008712   0.024884   0.016714  -0.008325   \n",
       "marital_married      -0.033027  -0.042747   0.026395   0.029304  -0.015941   \n",
       "education_primary    -0.013465  -0.014598   0.016226   0.050605  -0.038409   \n",
       "education_secondary  -0.031494   0.008186   0.027051  -0.011572  -0.030663   \n",
       "education_tertiary    0.044965   0.003229  -0.040806  -0.031153   0.062523   \n",
       "default_0             0.016953  -0.003840  -0.055242  -0.012065   0.020225   \n",
       "default_1            -0.016953   0.003840   0.055242   0.012065  -0.020225   \n",
       "housing_0             0.096649   0.058461   0.042959   0.099548   0.081955   \n",
       "housing_1            -0.096649  -0.058461  -0.042959  -0.099548  -0.081955   \n",
       "loan_0                0.030711  -0.002375  -0.192197   0.017381   0.038487   \n",
       "loan_1               -0.030711   0.002375   0.192197  -0.017381  -0.038487   \n",
       "contact_telephone     0.049686   0.019884   0.087080  -0.073114  -0.001459   \n",
       "contact_unknown      -0.160046  -0.094841  -0.227199   0.473462  -0.085051   \n",
       "month_apr            -0.088271  -0.052308  -0.141021  -0.117695  -0.046909   \n",
       "month_aug            -0.098578  -0.058416  -0.157488  -0.131437  -0.052386   \n",
       "month_dec            -0.004094  -0.002426  -0.006541  -0.005459  -0.002176   \n",
       "month_feb             1.000000  -0.041873  -0.112888  -0.094215  -0.037551   \n",
       "month_jan            -0.041873   1.000000  -0.066896  -0.055831  -0.022252   \n",
       "month_jul            -0.112888  -0.066896   1.000000  -0.150518  -0.059991   \n",
       "month_jun            -0.094215  -0.055831  -0.150518   1.000000  -0.050068   \n",
       "month_mar            -0.037551  -0.022252  -0.059991  -0.050068   1.000000   \n",
       "month_may            -0.179202  -0.106193  -0.286293  -0.238937  -0.095231   \n",
       "month_nov            -0.081349  -0.048207  -0.129963  -0.108466  -0.043230   \n",
       "month_oct            -0.022764  -0.013490  -0.036368  -0.030353  -0.012097   \n",
       "\n",
       "                     month_may  month_nov  month_oct  \n",
       "age                  -0.113850   0.036339   0.006972  \n",
       "balance              -0.054614   0.130738   0.045332  \n",
       "day                  -0.047347   0.102072   0.082938  \n",
       "campaign             -0.083770  -0.086785  -0.049551  \n",
       "y                    -0.076946  -0.025542   0.097570  \n",
       "job_admin             0.038151  -0.015490   0.021796  \n",
       "job_blue-collar       0.145490  -0.040506  -0.019015  \n",
       "job_entrepreneur     -0.017856   0.054098   0.024336  \n",
       "job_housemaid        -0.066243  -0.010413   0.000597  \n",
       "job_management       -0.082480   0.045776   0.006361  \n",
       "job_retired          -0.060503  -0.027524  -0.016330  \n",
       "job_self-employed    -0.022263   0.043985  -0.004758  \n",
       "job_services          0.063748  -0.004277  -0.012508  \n",
       "job_student           0.020407  -0.028444   0.007071  \n",
       "job_technician       -0.050642  -0.013246   0.002907  \n",
       "job_unemployed       -0.053944   0.015534  -0.014769  \n",
       "marital_divorced      0.002068   0.002319   0.032362  \n",
       "marital_married      -0.051647   0.028971  -0.011998  \n",
       "education_primary     0.034530  -0.032232  -0.021646  \n",
       "education_secondary   0.079996  -0.012510   0.009597  \n",
       "education_tertiary   -0.107434   0.041360   0.002697  \n",
       "default_0             0.015557  -0.005115   0.012261  \n",
       "default_1            -0.015557   0.005115  -0.012261  \n",
       "housing_0            -0.420046   0.002700  -0.006658  \n",
       "housing_1             0.420046  -0.002700   0.006658  \n",
       "loan_0                0.033072  -0.024968  -0.002424  \n",
       "loan_1               -0.033072   0.024968   0.002424  \n",
       "contact_telephone    -0.080421   0.045129   0.207678  \n",
       "contact_unknown       0.378091  -0.166226   0.022297  \n",
       "month_apr            -0.223861  -0.101622  -0.028437  \n",
       "month_aug            -0.250001  -0.113488  -0.031758  \n",
       "month_dec            -0.010383  -0.004713  -0.001319  \n",
       "month_feb            -0.179202  -0.081349  -0.022764  \n",
       "month_jan            -0.106193  -0.048207  -0.013490  \n",
       "month_jul            -0.286293  -0.129963  -0.036368  \n",
       "month_jun            -0.238937  -0.108466  -0.030353  \n",
       "month_mar            -0.095231  -0.043230  -0.012097  \n",
       "month_may             1.000000  -0.206307  -0.057732  \n",
       "month_nov            -0.206307   1.000000  -0.026208  \n",
       "month_oct            -0.057732  -0.026208   1.000000  \n",
       "\n",
       "[40 rows x 40 columns]"
      ]
     },
     "execution_count": 84,
     "metadata": {},
     "output_type": "execute_result"
    }
   ],
   "source": [
    "data_clean.corr()\n",
    "# Input feature - nr.employed and  euribor3m (.94) and emp.var.rate and nr.employed (.90) \n",
    "#and euribor3m and emp.var.rate (.97) are more correlated and we can remove on column.\n",
    "# And lets Remove columns - euribor3m and emp.var.rate"
   ]
  },
  {
   "cell_type": "code",
   "execution_count": 89,
   "id": "57f455e5",
   "metadata": {},
   "outputs": [],
   "source": [
    "def drawheatmap(df):\n",
    "    '''Builds the heat map for the given data'''\n",
    "    f, ax = plt.subplots(figsize=(15, 15))\n",
    "    sns.heatmap(df.corr(method='spearman'), annot=False, cmap='coolwarm')"
   ]
  },
  {
   "cell_type": "code",
   "execution_count": 90,
   "id": "8630ec3e",
   "metadata": {},
   "outputs": [
    {
     "data": {
      "image/png": "[encoded data removed]",
      "text/plain": [
       "<Figure size 1080x1080 with 2 Axes>"
      ]
     },
     "metadata": {
      "needs_background": "light"
     },
     "output_type": "display_data"
    }
   ],
   "source": [
    "drawheatmap(data_clean)"
   ]
  },
  {
   "cell_type": "markdown",
   "id": "dd629f0a",
   "metadata": {},
   "source": [
    "## Çıkarımlar\n",
    "\n",
    "* Yukarıdaki ısı haritasından 'y'nin (hedef değişkenimiz) eğitim verileri ile arasındaki ilişkiyi modelleri oluştururken bu bağımsız değişkenleri önemli görmeyi bekliyoruz."
   ]
  },
  {
   "cell_type": "markdown",
   "id": "30b0c96c",
   "metadata": {},
   "source": [
    "## Test verilerini standartlaştırma"
   ]
  },
  {
   "cell_type": "code",
   "execution_count": 92,
   "id": "1389c60f",
   "metadata": {},
   "outputs": [],
   "source": [
    "from sklearn.model_selection import train_test_split, StratifiedKFold, GridSearchCV\n",
    "from sklearn.linear_model import LogisticRegression\n",
    "from sklearn.svm import SVC\n",
    "from sklearn.ensemble import RandomForestClassifier,VotingClassifier\n",
    "from sklearn.neighbors import KNeighborsClassifier\n",
    "from sklearn.tree import DecisionTreeClassifier\n",
    "from sklearn.metrics import accuracy_score"
   ]
  },
  {
   "cell_type": "code",
   "execution_count": 93,
   "id": "a7c57fab",
   "metadata": {},
   "outputs": [],
   "source": [
    "data_1= pd.concat([X_test, y_test], axis=1)"
   ]
  },
  {
   "cell_type": "code",
   "execution_count": 94,
   "id": "00afc340",
   "metadata": {},
   "outputs": [
    {
     "data": {
      "text/plain": [
       "(12000, 13)"
      ]
     },
     "execution_count": 94,
     "metadata": {},
     "output_type": "execute_result"
    }
   ],
   "source": [
    "data_1.shape"
   ]
  },
  {
   "cell_type": "code",
   "execution_count": 98,
   "id": "fb91d95d",
   "metadata": {},
   "outputs": [
    {
     "data": {
      "text/plain": [
       "Index(['age', 'job', 'marital', 'education', 'default', 'balance', 'housing',\n",
       "       'loan', 'contact', 'day', 'month', 'campaign', 'y'],\n",
       "      dtype='object')"
      ]
     },
     "execution_count": 98,
     "metadata": {},
     "output_type": "execute_result"
    }
   ],
   "source": [
    "data_1.columns"
   ]
  },
  {
   "cell_type": "markdown",
   "id": "92bdd6de",
   "metadata": {},
   "source": [
    "Eğitim verilerinde gördüğümüz gibi, 'day' değerlerinin çoğu eksik. Bu eksik değerlerin çoğu, 'poutcome' 'yok' olduğunda ortaya çıkar. Bu, müşteriyle daha önce hiç iletişime geçilmediği için 'pdays' içindeki değerlerin çoğunun eksik olduğu anlamına gelir. Bu değişkenle başa çıkmak için 'pdays' sayısal değişkenini kaldırdık ve yerine şu kategorilere sahip kategorik değişkenler koyduk: 'pdays' ve 'pdays2'"
   ]
  },
  {
   "cell_type": "markdown",
   "id": "01cf58f5",
   "metadata": {},
   "source": [
    "# y Çıktısını Dengeleme"
   ]
  },
  {
   "cell_type": "code",
   "execution_count": 99,
   "id": "1fcf1d0d",
   "metadata": {},
   "outputs": [
    {
     "data": {
      "text/plain": [
       "<AxesSubplot:xlabel='y', ylabel='count'>"
      ]
     },
     "execution_count": 99,
     "metadata": {},
     "output_type": "execute_result"
    },
    {
     "data": {
      "image/png": "[encoded data removed]",
      "text/plain": [
       "<Figure size 432x288 with 1 Axes>"
      ]
     },
     "metadata": {
      "needs_background": "light"
     },
     "output_type": "display_data"
    }
   ],
   "source": [
    "sns.countplot(x='y',data=data_1)"
   ]
  },
  {
   "cell_type": "markdown",
   "id": "a23ddebc",
   "metadata": {},
   "source": [
    "Verilerin çok çarpık olduğunu görebiliriz, bu yüzden 'evet'e karşılık gelen demetleri çoğaltıyoruz."
   ]
  },
  {
   "cell_type": "code",
   "execution_count": 100,
   "id": "2914acf4",
   "metadata": {},
   "outputs": [],
   "source": [
    "d1=data_1.copy()\n",
    "d2=d1[d1.y=='yes']\n",
    "d1=pd.concat([d1, d2])\n",
    "d1=pd.concat([d1, d2])\n",
    "d1=pd.concat([d1, d2])\n",
    "d1=pd.concat([d1, d2])\n",
    "d1=pd.concat([d1, d2])\n",
    "d1=pd.concat([d1, d2])\n",
    "d1=pd.concat([d1, d2])\n",
    "data_1=d1"
   ]
  },
  {
   "cell_type": "code",
   "execution_count": 101,
   "id": "cf9125f3",
   "metadata": {},
   "outputs": [
    {
     "data": {
      "text/plain": [
       "<AxesSubplot:xlabel='y', ylabel='count'>"
      ]
     },
     "execution_count": 101,
     "metadata": {},
     "output_type": "execute_result"
    },
    {
     "data": {
      "image/png": "[encoded data removed]",
      "text/plain": [
       "<Figure size 432x288 with 1 Axes>"
      ]
     },
     "metadata": {
      "needs_background": "light"
     },
     "output_type": "display_data"
    }
   ],
   "source": [
    "sns.countplot(x='y',data=data_1)"
   ]
  },
  {
   "cell_type": "code",
   "execution_count": 102,
   "id": "31ca41d8",
   "metadata": {},
   "outputs": [
    {
     "data": {
      "text/plain": [
       "Index(['age', 'job', 'marital', 'education', 'default', 'balance', 'housing',\n",
       "       'loan', 'contact', 'day', 'month', 'campaign', 'y'],\n",
       "      dtype='object')"
      ]
     },
     "execution_count": 102,
     "metadata": {},
     "output_type": "execute_result"
    }
   ],
   "source": [
    "data_1.columns"
   ]
  },
  {
   "cell_type": "code",
   "execution_count": 103,
   "id": "8791a397",
   "metadata": {},
   "outputs": [
    {
     "data": {
      "text/html": [
       "<div>\n",
       "<style scoped>\n",
       "    .dataframe tbody tr th:only-of-type {\n",
       "        vertical-align: middle;\n",
       "    }\n",
       "\n",
       "    .dataframe tbody tr th {\n",
       "        vertical-align: top;\n",
       "    }\n",
       "\n",
       "    .dataframe thead th {\n",
       "        text-align: right;\n",
       "    }\n",
       "</style>\n",
       "<table border=\"1\" class=\"dataframe\">\n",
       "  <thead>\n",
       "    <tr style=\"text-align: right;\">\n",
       "      <th></th>\n",
       "      <th>age</th>\n",
       "      <th>job</th>\n",
       "      <th>marital</th>\n",
       "      <th>education</th>\n",
       "      <th>default</th>\n",
       "      <th>balance</th>\n",
       "      <th>housing</th>\n",
       "      <th>loan</th>\n",
       "      <th>contact</th>\n",
       "      <th>day</th>\n",
       "      <th>month</th>\n",
       "      <th>campaign</th>\n",
       "      <th>y</th>\n",
       "    </tr>\n",
       "  </thead>\n",
       "  <tbody>\n",
       "    <tr>\n",
       "      <th>32823</th>\n",
       "      <td>48</td>\n",
       "      <td>management</td>\n",
       "      <td>divorced</td>\n",
       "      <td>tertiary</td>\n",
       "      <td>no</td>\n",
       "      <td>266</td>\n",
       "      <td>yes</td>\n",
       "      <td>no</td>\n",
       "      <td>cellular</td>\n",
       "      <td>17</td>\n",
       "      <td>apr</td>\n",
       "      <td>2</td>\n",
       "      <td>no</td>\n",
       "    </tr>\n",
       "    <tr>\n",
       "      <th>16298</th>\n",
       "      <td>53</td>\n",
       "      <td>retired</td>\n",
       "      <td>divorced</td>\n",
       "      <td>secondary</td>\n",
       "      <td>no</td>\n",
       "      <td>84</td>\n",
       "      <td>no</td>\n",
       "      <td>no</td>\n",
       "      <td>cellular</td>\n",
       "      <td>23</td>\n",
       "      <td>jul</td>\n",
       "      <td>1</td>\n",
       "      <td>no</td>\n",
       "    </tr>\n",
       "    <tr>\n",
       "      <th>28505</th>\n",
       "      <td>43</td>\n",
       "      <td>management</td>\n",
       "      <td>divorced</td>\n",
       "      <td>tertiary</td>\n",
       "      <td>no</td>\n",
       "      <td>3578</td>\n",
       "      <td>no</td>\n",
       "      <td>no</td>\n",
       "      <td>cellular</td>\n",
       "      <td>29</td>\n",
       "      <td>jan</td>\n",
       "      <td>2</td>\n",
       "      <td>no</td>\n",
       "    </tr>\n",
       "    <tr>\n",
       "      <th>6689</th>\n",
       "      <td>38</td>\n",
       "      <td>technician</td>\n",
       "      <td>married</td>\n",
       "      <td>secondary</td>\n",
       "      <td>no</td>\n",
       "      <td>133</td>\n",
       "      <td>yes</td>\n",
       "      <td>no</td>\n",
       "      <td>unknown</td>\n",
       "      <td>28</td>\n",
       "      <td>may</td>\n",
       "      <td>1</td>\n",
       "      <td>no</td>\n",
       "    </tr>\n",
       "    <tr>\n",
       "      <th>26893</th>\n",
       "      <td>42</td>\n",
       "      <td>management</td>\n",
       "      <td>married</td>\n",
       "      <td>tertiary</td>\n",
       "      <td>no</td>\n",
       "      <td>4014</td>\n",
       "      <td>yes</td>\n",
       "      <td>no</td>\n",
       "      <td>cellular</td>\n",
       "      <td>21</td>\n",
       "      <td>nov</td>\n",
       "      <td>4</td>\n",
       "      <td>no</td>\n",
       "    </tr>\n",
       "  </tbody>\n",
       "</table>\n",
       "</div>"
      ],
      "text/plain": [
       "       age         job   marital  education default  balance housing loan  \\\n",
       "32823   48  management  divorced   tertiary      no      266     yes   no   \n",
       "16298   53     retired  divorced  secondary      no       84      no   no   \n",
       "28505   43  management  divorced   tertiary      no     3578      no   no   \n",
       "6689    38  technician   married  secondary      no      133     yes   no   \n",
       "26893   42  management   married   tertiary      no     4014     yes   no   \n",
       "\n",
       "        contact  day month  campaign   y  \n",
       "32823  cellular   17   apr         2  no  \n",
       "16298  cellular   23   jul         1  no  \n",
       "28505  cellular   29   jan         2  no  \n",
       "6689    unknown   28   may         1  no  \n",
       "26893  cellular   21   nov         4  no  "
      ]
     },
     "execution_count": 103,
     "metadata": {},
     "output_type": "execute_result"
    }
   ],
   "source": [
    "data_1.head()"
   ]
  },
  {
   "cell_type": "markdown",
   "id": "8420c789",
   "metadata": {},
   "source": [
    "# Kategorik değişkenler Sıralı veya Nominal olabilir"
   ]
  },
  {
   "cell_type": "code",
   "execution_count": 104,
   "id": "16806655",
   "metadata": {},
   "outputs": [],
   "source": [
    "data_1['default'] = data_1['default'].map({'yes': 1,'unknown': -1,'no': 0})\n",
    "data_1['housing'] = data_1['housing'].map({'yes': 1,'unknown': -1,'no': 0})\n",
    "data_1['loan'] = data_1['loan'].map({'yes': 1,'unknown': -1,'no': 0})"
   ]
  },
  {
   "cell_type": "code",
   "execution_count": 105,
   "id": "60248116",
   "metadata": {},
   "outputs": [
    {
     "data": {
      "text/html": [
       "<div>\n",
       "<style scoped>\n",
       "    .dataframe tbody tr th:only-of-type {\n",
       "        vertical-align: middle;\n",
       "    }\n",
       "\n",
       "    .dataframe tbody tr th {\n",
       "        vertical-align: top;\n",
       "    }\n",
       "\n",
       "    .dataframe thead th {\n",
       "        text-align: right;\n",
       "    }\n",
       "</style>\n",
       "<table border=\"1\" class=\"dataframe\">\n",
       "  <thead>\n",
       "    <tr style=\"text-align: right;\">\n",
       "      <th></th>\n",
       "      <th>age</th>\n",
       "      <th>job</th>\n",
       "      <th>marital</th>\n",
       "      <th>education</th>\n",
       "      <th>default</th>\n",
       "      <th>balance</th>\n",
       "      <th>housing</th>\n",
       "      <th>loan</th>\n",
       "      <th>contact</th>\n",
       "      <th>day</th>\n",
       "      <th>month</th>\n",
       "      <th>campaign</th>\n",
       "      <th>y</th>\n",
       "    </tr>\n",
       "  </thead>\n",
       "  <tbody>\n",
       "    <tr>\n",
       "      <th>32823</th>\n",
       "      <td>48</td>\n",
       "      <td>management</td>\n",
       "      <td>divorced</td>\n",
       "      <td>tertiary</td>\n",
       "      <td>0</td>\n",
       "      <td>266</td>\n",
       "      <td>1</td>\n",
       "      <td>0</td>\n",
       "      <td>cellular</td>\n",
       "      <td>17</td>\n",
       "      <td>apr</td>\n",
       "      <td>2</td>\n",
       "      <td>no</td>\n",
       "    </tr>\n",
       "    <tr>\n",
       "      <th>16298</th>\n",
       "      <td>53</td>\n",
       "      <td>retired</td>\n",
       "      <td>divorced</td>\n",
       "      <td>secondary</td>\n",
       "      <td>0</td>\n",
       "      <td>84</td>\n",
       "      <td>0</td>\n",
       "      <td>0</td>\n",
       "      <td>cellular</td>\n",
       "      <td>23</td>\n",
       "      <td>jul</td>\n",
       "      <td>1</td>\n",
       "      <td>no</td>\n",
       "    </tr>\n",
       "    <tr>\n",
       "      <th>28505</th>\n",
       "      <td>43</td>\n",
       "      <td>management</td>\n",
       "      <td>divorced</td>\n",
       "      <td>tertiary</td>\n",
       "      <td>0</td>\n",
       "      <td>3578</td>\n",
       "      <td>0</td>\n",
       "      <td>0</td>\n",
       "      <td>cellular</td>\n",
       "      <td>29</td>\n",
       "      <td>jan</td>\n",
       "      <td>2</td>\n",
       "      <td>no</td>\n",
       "    </tr>\n",
       "    <tr>\n",
       "      <th>6689</th>\n",
       "      <td>38</td>\n",
       "      <td>technician</td>\n",
       "      <td>married</td>\n",
       "      <td>secondary</td>\n",
       "      <td>0</td>\n",
       "      <td>133</td>\n",
       "      <td>1</td>\n",
       "      <td>0</td>\n",
       "      <td>unknown</td>\n",
       "      <td>28</td>\n",
       "      <td>may</td>\n",
       "      <td>1</td>\n",
       "      <td>no</td>\n",
       "    </tr>\n",
       "    <tr>\n",
       "      <th>26893</th>\n",
       "      <td>42</td>\n",
       "      <td>management</td>\n",
       "      <td>married</td>\n",
       "      <td>tertiary</td>\n",
       "      <td>0</td>\n",
       "      <td>4014</td>\n",
       "      <td>1</td>\n",
       "      <td>0</td>\n",
       "      <td>cellular</td>\n",
       "      <td>21</td>\n",
       "      <td>nov</td>\n",
       "      <td>4</td>\n",
       "      <td>no</td>\n",
       "    </tr>\n",
       "  </tbody>\n",
       "</table>\n",
       "</div>"
      ],
      "text/plain": [
       "       age         job   marital  education  default  balance  housing  loan  \\\n",
       "32823   48  management  divorced   tertiary        0      266        1     0   \n",
       "16298   53     retired  divorced  secondary        0       84        0     0   \n",
       "28505   43  management  divorced   tertiary        0     3578        0     0   \n",
       "6689    38  technician   married  secondary        0      133        1     0   \n",
       "26893   42  management   married   tertiary        0     4014        1     0   \n",
       "\n",
       "        contact  day month  campaign   y  \n",
       "32823  cellular   17   apr         2  no  \n",
       "16298  cellular   23   jul         1  no  \n",
       "28505  cellular   29   jan         2  no  \n",
       "6689    unknown   28   may         1  no  \n",
       "26893  cellular   21   nov         4  no  "
      ]
     },
     "execution_count": 105,
     "metadata": {},
     "output_type": "execute_result"
    }
   ],
   "source": [
    "data_1.head()"
   ]
  },
  {
   "cell_type": "code",
   "execution_count": 106,
   "id": "3ea842f6",
   "metadata": {},
   "outputs": [
    {
     "data": {
      "text/plain": [
       "(18104, 13)"
      ]
     },
     "execution_count": 106,
     "metadata": {},
     "output_type": "execute_result"
    }
   ],
   "source": [
    "data_1.shape"
   ]
  },
  {
   "cell_type": "markdown",
   "id": "34f515da",
   "metadata": {},
   "source": [
    "## Nominal Değişkenleri İşleme (One Hot Encoding)"
   ]
  },
  {
   "cell_type": "markdown",
   "id": "b05d275c",
   "metadata": {},
   "source": [
    "job', 'maritial', 'education', 'contact', 'month', 'day' are Nominal Variables"
   ]
  },
  {
   "cell_type": "code",
   "execution_count": 107,
   "id": "f8252adc",
   "metadata": {},
   "outputs": [
    {
     "data": {
      "text/html": [
       "<div>\n",
       "<style scoped>\n",
       "    .dataframe tbody tr th:only-of-type {\n",
       "        vertical-align: middle;\n",
       "    }\n",
       "\n",
       "    .dataframe tbody tr th {\n",
       "        vertical-align: top;\n",
       "    }\n",
       "\n",
       "    .dataframe thead th {\n",
       "        text-align: right;\n",
       "    }\n",
       "</style>\n",
       "<table border=\"1\" class=\"dataframe\">\n",
       "  <thead>\n",
       "    <tr style=\"text-align: right;\">\n",
       "      <th></th>\n",
       "      <th>age</th>\n",
       "      <th>default</th>\n",
       "      <th>balance</th>\n",
       "      <th>housing</th>\n",
       "      <th>loan</th>\n",
       "      <th>campaign</th>\n",
       "      <th>y</th>\n",
       "      <th>job_admin</th>\n",
       "      <th>job_blue-collar</th>\n",
       "      <th>job_entrepreneur</th>\n",
       "      <th>...</th>\n",
       "      <th>day_22</th>\n",
       "      <th>day_23</th>\n",
       "      <th>day_24</th>\n",
       "      <th>day_25</th>\n",
       "      <th>day_26</th>\n",
       "      <th>day_27</th>\n",
       "      <th>day_28</th>\n",
       "      <th>day_29</th>\n",
       "      <th>day_30</th>\n",
       "      <th>day_31</th>\n",
       "    </tr>\n",
       "  </thead>\n",
       "  <tbody>\n",
       "    <tr>\n",
       "      <th>32823</th>\n",
       "      <td>48</td>\n",
       "      <td>0</td>\n",
       "      <td>266</td>\n",
       "      <td>1</td>\n",
       "      <td>0</td>\n",
       "      <td>2</td>\n",
       "      <td>0</td>\n",
       "      <td>0</td>\n",
       "      <td>0</td>\n",
       "      <td>0</td>\n",
       "      <td>...</td>\n",
       "      <td>0</td>\n",
       "      <td>0</td>\n",
       "      <td>0</td>\n",
       "      <td>0</td>\n",
       "      <td>0</td>\n",
       "      <td>0</td>\n",
       "      <td>0</td>\n",
       "      <td>0</td>\n",
       "      <td>0</td>\n",
       "      <td>0</td>\n",
       "    </tr>\n",
       "    <tr>\n",
       "      <th>16298</th>\n",
       "      <td>53</td>\n",
       "      <td>0</td>\n",
       "      <td>84</td>\n",
       "      <td>0</td>\n",
       "      <td>0</td>\n",
       "      <td>1</td>\n",
       "      <td>0</td>\n",
       "      <td>0</td>\n",
       "      <td>0</td>\n",
       "      <td>0</td>\n",
       "      <td>...</td>\n",
       "      <td>0</td>\n",
       "      <td>1</td>\n",
       "      <td>0</td>\n",
       "      <td>0</td>\n",
       "      <td>0</td>\n",
       "      <td>0</td>\n",
       "      <td>0</td>\n",
       "      <td>0</td>\n",
       "      <td>0</td>\n",
       "      <td>0</td>\n",
       "    </tr>\n",
       "    <tr>\n",
       "      <th>28505</th>\n",
       "      <td>43</td>\n",
       "      <td>0</td>\n",
       "      <td>3578</td>\n",
       "      <td>0</td>\n",
       "      <td>0</td>\n",
       "      <td>2</td>\n",
       "      <td>0</td>\n",
       "      <td>0</td>\n",
       "      <td>0</td>\n",
       "      <td>0</td>\n",
       "      <td>...</td>\n",
       "      <td>0</td>\n",
       "      <td>0</td>\n",
       "      <td>0</td>\n",
       "      <td>0</td>\n",
       "      <td>0</td>\n",
       "      <td>0</td>\n",
       "      <td>0</td>\n",
       "      <td>1</td>\n",
       "      <td>0</td>\n",
       "      <td>0</td>\n",
       "    </tr>\n",
       "    <tr>\n",
       "      <th>6689</th>\n",
       "      <td>38</td>\n",
       "      <td>0</td>\n",
       "      <td>133</td>\n",
       "      <td>1</td>\n",
       "      <td>0</td>\n",
       "      <td>1</td>\n",
       "      <td>0</td>\n",
       "      <td>0</td>\n",
       "      <td>0</td>\n",
       "      <td>0</td>\n",
       "      <td>...</td>\n",
       "      <td>0</td>\n",
       "      <td>0</td>\n",
       "      <td>0</td>\n",
       "      <td>0</td>\n",
       "      <td>0</td>\n",
       "      <td>0</td>\n",
       "      <td>1</td>\n",
       "      <td>0</td>\n",
       "      <td>0</td>\n",
       "      <td>0</td>\n",
       "    </tr>\n",
       "    <tr>\n",
       "      <th>26893</th>\n",
       "      <td>42</td>\n",
       "      <td>0</td>\n",
       "      <td>4014</td>\n",
       "      <td>1</td>\n",
       "      <td>0</td>\n",
       "      <td>4</td>\n",
       "      <td>0</td>\n",
       "      <td>0</td>\n",
       "      <td>0</td>\n",
       "      <td>0</td>\n",
       "      <td>...</td>\n",
       "      <td>0</td>\n",
       "      <td>0</td>\n",
       "      <td>0</td>\n",
       "      <td>0</td>\n",
       "      <td>0</td>\n",
       "      <td>0</td>\n",
       "      <td>0</td>\n",
       "      <td>0</td>\n",
       "      <td>0</td>\n",
       "      <td>0</td>\n",
       "    </tr>\n",
       "  </tbody>\n",
       "</table>\n",
       "<p>5 rows × 71 columns</p>\n",
       "</div>"
      ],
      "text/plain": [
       "       age  default  balance  housing  loan  campaign  y  job_admin  \\\n",
       "32823   48        0      266        1     0         2  0          0   \n",
       "16298   53        0       84        0     0         1  0          0   \n",
       "28505   43        0     3578        0     0         2  0          0   \n",
       "6689    38        0      133        1     0         1  0          0   \n",
       "26893   42        0     4014        1     0         4  0          0   \n",
       "\n",
       "       job_blue-collar  job_entrepreneur  ...  day_22  day_23  day_24  day_25  \\\n",
       "32823                0                 0  ...       0       0       0       0   \n",
       "16298                0                 0  ...       0       1       0       0   \n",
       "28505                0                 0  ...       0       0       0       0   \n",
       "6689                 0                 0  ...       0       0       0       0   \n",
       "26893                0                 0  ...       0       0       0       0   \n",
       "\n",
       "       day_26  day_27  day_28  day_29  day_30  day_31  \n",
       "32823       0       0       0       0       0       0  \n",
       "16298       0       0       0       0       0       0  \n",
       "28505       0       0       0       1       0       0  \n",
       "6689        0       0       1       0       0       0  \n",
       "26893       0       0       0       0       0       0  \n",
       "\n",
       "[5 rows x 71 columns]"
      ]
     },
     "execution_count": 107,
     "metadata": {},
     "output_type": "execute_result"
    }
   ],
   "source": [
    "# One hot encoding of nominal varibles\n",
    "nominal = ['job','marital','education','contact','month','day']\n",
    "data_clean_1 = pd.get_dummies(data_1,columns=nominal)\n",
    "data_clean_1['y']=data_clean_1['y'].map({'yes': 1,'no': 0})\n",
    "data_clean_1.head()"
   ]
  },
  {
   "cell_type": "code",
   "execution_count": 108,
   "id": "8322d35f",
   "metadata": {},
   "outputs": [
    {
     "data": {
      "text/plain": [
       "(18104, 71)"
      ]
     },
     "execution_count": 108,
     "metadata": {},
     "output_type": "execute_result"
    }
   ],
   "source": [
    "data_clean_1.shape"
   ]
  },
  {
   "cell_type": "code",
   "execution_count": 109,
   "id": "36d9bbd8",
   "metadata": {},
   "outputs": [],
   "source": [
    "df_with_dummies=pd.get_dummies(data_clean_1)"
   ]
  },
  {
   "cell_type": "code",
   "execution_count": 110,
   "id": "b9642e2f",
   "metadata": {},
   "outputs": [],
   "source": [
    "def dropfeature(df,f):\n",
    "    \"\"\"Drops one of the dummy variables.\"\"\"\n",
    "    df=df.drop(f,axis=1)\n",
    "    return df"
   ]
  },
  {
   "cell_type": "code",
   "execution_count": 111,
   "id": "1db51178",
   "metadata": {},
   "outputs": [],
   "source": [
    "features_dropped = ['marital_single','contact_cellular',\n",
    "                    'education_unknown','job_unknown',\n",
    "     'marital_single','contact_cellular',\n",
    "                    'education_unknown']\n",
    "data_clean_1 = dropfeature(df_with_dummies, features_dropped)"
   ]
  },
  {
   "cell_type": "code",
   "execution_count": 112,
   "id": "49d7a4ff",
   "metadata": {},
   "outputs": [
    {
     "data": {
      "text/plain": [
       "(18104, 67)"
      ]
     },
     "execution_count": 112,
     "metadata": {},
     "output_type": "execute_result"
    }
   ],
   "source": [
    "data_clean_1.shape"
   ]
  },
  {
   "cell_type": "code",
   "execution_count": 113,
   "id": "7393694f",
   "metadata": {},
   "outputs": [
    {
     "data": {
      "text/plain": [
       "(42168, 40)"
      ]
     },
     "execution_count": 113,
     "metadata": {},
     "output_type": "execute_result"
    }
   ],
   "source": [
    "data_clean.shape"
   ]
  },
  {
   "cell_type": "code",
   "execution_count": 114,
   "id": "bac24ef9",
   "metadata": {},
   "outputs": [
    {
     "data": {
      "text/plain": [
       "Index(['age', 'default', 'balance', 'housing', 'loan', 'campaign', 'y',\n",
       "       'job_admin', 'job_blue-collar', 'job_entrepreneur', 'job_housemaid',\n",
       "       'job_management', 'job_retired', 'job_self-employed', 'job_services',\n",
       "       'job_student', 'job_technician', 'job_unemployed', 'marital_divorced',\n",
       "       'marital_married', 'education_primary', 'education_secondary',\n",
       "       'education_tertiary', 'contact_telephone', 'contact_unknown',\n",
       "       'month_apr', 'month_aug', 'month_dec', 'month_feb', 'month_jan',\n",
       "       'month_jul', 'month_jun', 'month_mar', 'month_may', 'month_nov',\n",
       "       'month_oct', 'day_1', 'day_2', 'day_3', 'day_4', 'day_5', 'day_6',\n",
       "       'day_7', 'day_8', 'day_9', 'day_10', 'day_11', 'day_12', 'day_13',\n",
       "       'day_14', 'day_15', 'day_16', 'day_17', 'day_18', 'day_19', 'day_20',\n",
       "       'day_21', 'day_22', 'day_23', 'day_24', 'day_25', 'day_26', 'day_27',\n",
       "       'day_28', 'day_29', 'day_30', 'day_31'],\n",
       "      dtype='object')"
      ]
     },
     "execution_count": 114,
     "metadata": {},
     "output_type": "execute_result"
    }
   ],
   "source": [
    "data_clean_1.columns"
   ]
  },
  {
   "cell_type": "code",
   "execution_count": 115,
   "id": "c259561b",
   "metadata": {},
   "outputs": [
    {
     "data": {
      "text/plain": [
       "Index(['age', 'balance', 'day', 'campaign', 'y', 'job_admin',\n",
       "       'job_blue-collar', 'job_entrepreneur', 'job_housemaid',\n",
       "       'job_management', 'job_retired', 'job_self-employed', 'job_services',\n",
       "       'job_student', 'job_technician', 'job_unemployed', 'marital_divorced',\n",
       "       'marital_married', 'education_primary', 'education_secondary',\n",
       "       'education_tertiary', 'default_0', 'default_1', 'housing_0',\n",
       "       'housing_1', 'loan_0', 'loan_1', 'contact_telephone', 'contact_unknown',\n",
       "       'month_apr', 'month_aug', 'month_dec', 'month_feb', 'month_jan',\n",
       "       'month_jul', 'month_jun', 'month_mar', 'month_may', 'month_nov',\n",
       "       'month_oct'],\n",
       "      dtype='object')"
      ]
     },
     "execution_count": 115,
     "metadata": {},
     "output_type": "execute_result"
    }
   ],
   "source": [
    "data_clean.columns"
   ]
  },
  {
   "cell_type": "markdown",
   "id": "d404bb44",
   "metadata": {},
   "source": [
    "# Model Oluşturma"
   ]
  },
  {
   "cell_type": "code",
   "execution_count": 116,
   "id": "fb1749d6",
   "metadata": {},
   "outputs": [],
   "source": [
    "from sklearn.compose import ColumnTransformer\n",
    "from sklearn.pipeline import Pipeline\n",
    "from sklearn.impute import SimpleImputer\n",
    "from sklearn.preprocessing import StandardScaler, OneHotEncoder\n",
    "from sklearn.linear_model import LogisticRegression\n",
    "from sklearn.model_selection import train_test_split, GridSearchCV\n",
    "import pandas as pd\n",
    "from sklearn.model_selection import train_test_split\n",
    "from sklearn import metrics\n",
    "import matplotlib.pyplot as plt\n",
    "import seaborn as sns\n",
    "from sklearn.preprocessing import PolynomialFeatures\n",
    "import numpy as np"
   ]
  },
  {
   "cell_type": "code",
   "execution_count": 117,
   "id": "7182b7d0",
   "metadata": {},
   "outputs": [
    {
     "data": {
      "text/plain": [
       "(42168, 40)"
      ]
     },
     "execution_count": 117,
     "metadata": {},
     "output_type": "execute_result"
    }
   ],
   "source": [
    "data_clean.shape"
   ]
  },
  {
   "cell_type": "code",
   "execution_count": 118,
   "id": "5ffa8215",
   "metadata": {},
   "outputs": [
    {
     "data": {
      "text/plain": [
       "(18104, 67)"
      ]
     },
     "execution_count": 118,
     "metadata": {},
     "output_type": "execute_result"
    }
   ],
   "source": [
    "data_clean_1.shape"
   ]
  },
  {
   "cell_type": "code",
   "execution_count": 119,
   "id": "13b5708a",
   "metadata": {},
   "outputs": [],
   "source": [
    "# Ayrıştırma özellikleri ve sonuç vektörleri\n",
    "y_test=data_clean_1[['y']]\n",
    "X_test = data_clean_1.drop(['y'], axis=1)\n",
    "\n",
    "y = data['y'].values"
   ]
  },
  {
   "cell_type": "code",
   "execution_count": 120,
   "id": "54f29230",
   "metadata": {},
   "outputs": [],
   "source": [
    "# Ayrıştırma özellikleri ve sonuç vektörleri\n",
    "y_train=data_clean[['y']]\n",
    "X_train = data_clean.drop(['y'], axis=1)\n",
    "\n",
    "y = data['y'].values"
   ]
  },
  {
   "cell_type": "code",
   "execution_count": 121,
   "id": "6c26ac07",
   "metadata": {},
   "outputs": [],
   "source": [
    "def Convert_Model(X_train,y_train,X_test,y_test,classifier):\n",
    "     from sklearn.metrics import accuracy_score,precision_score,recall_score,confusion_matrix\n",
    "     classifier.fit(X_train,y_train) \n",
    "     print(classifier.score(X_test,y_test)) \n",
    "     print(confusion_matrix(y_test,classifier.predict(X_test)))\n",
    "     print(accuracy_score(y_test,classifier.predict(X_test)))\n",
    "     print(precision_score(y_test,classifier.predict(X_test)))\n",
    "     print(recall_score(y_test,classifier.predict(X_test)))\n",
    "     f1 = 2 * precision_score(y_test,classifier.predict(X_test)) * recall_score(y_test,classifier.predict(X_test)) / (precision_score(y_test,classifier.predict(X_test)) + recall_score(y_test,classifier.predict(X_test)))\n",
    "     print(\"f1 score\", f1)\n",
    "     return classifier"
   ]
  },
  {
   "cell_type": "code",
   "execution_count": 122,
   "id": "1469d0a8",
   "metadata": {},
   "outputs": [
    {
     "data": {
      "text/plain": [
       "(42168, 39)"
      ]
     },
     "execution_count": 122,
     "metadata": {},
     "output_type": "execute_result"
    }
   ],
   "source": [
    "X_train.shape"
   ]
  },
  {
   "cell_type": "code",
   "execution_count": 123,
   "id": "248c3dea",
   "metadata": {},
   "outputs": [
    {
     "data": {
      "text/plain": [
       "(18104, 66)"
      ]
     },
     "execution_count": 123,
     "metadata": {},
     "output_type": "execute_result"
    }
   ],
   "source": [
    "X_test.shape"
   ]
  },
  {
   "cell_type": "code",
   "execution_count": 124,
   "id": "dab8e587",
   "metadata": {},
   "outputs": [
    {
     "name": "stdout",
     "output_type": "stream",
     "text": [
      "0.6146707909854175\n",
      "[[11128     0]\n",
      " [ 6976     0]]\n",
      "0.6146707909854175\n",
      "0.0\n",
      "0.0\n",
      "f1 score nan\n"
     ]
    }
   ],
   "source": [
    "# import Dummy Classifier for creating Base Model\n",
    "from sklearn.dummy import DummyClassifier\n",
    "classifier = DummyClassifier(strategy='most_frequent',random_state=0)\n",
    "finalModel = Convert_Model(X_train,y_train,X_test,y_test,classifier)"
   ]
  },
  {
   "cell_type": "markdown",
   "id": "defd7bec",
   "metadata": {},
   "source": [
    "## Lojistik regresyon"
   ]
  },
  {
   "cell_type": "code",
   "execution_count": 125,
   "id": "3637bf9f",
   "metadata": {},
   "outputs": [],
   "source": [
    "random_state = 42\n",
    "classifier = [DecisionTreeClassifier(random_state = random_state),\n",
    "             SVC(random_state = random_state),\n",
    "             RandomForestClassifier(random_state = random_state),\n",
    "             LogisticRegression(random_state = random_state),\n",
    "             KNeighborsClassifier()]\n",
    "\n",
    "dt_param_grid = {\"min_samples_split\" : range(10,500,20),\n",
    "                \"max_depth\": range(1,20,2)}\n",
    "\n",
    "svc_param_grid = {\"kernel\" : [\"rbf\"],\n",
    "                 \"gamma\": [0.001, 0.01, 0.1, 1],\n",
    "                 \"C\": [1,10,50,100,200,300,1000]}\n",
    "\n",
    "rf_param_grid = {\"max_features\": [1,3,10],\n",
    "                \"min_samples_split\":[2,3,10],\n",
    "                \"min_samples_leaf\":[1,3,10],\n",
    "                \"bootstrap\":[False],\n",
    "                \"n_estimators\":[100,300],\n",
    "                \"criterion\":[\"gini\"]}\n",
    "\n",
    "logreg_param_grid = {\"C\":np.logspace(-3,3,7),\n",
    "                    \"penalty\": [\"l1\",\"l2\"]}\n",
    "\n",
    "knn_param_grid = {\"n_neighbors\": np.linspace(1,19,10, dtype = int).tolist(),\n",
    "                 \"weights\": [\"uniform\",\"distance\"],\n",
    "                 \"metric\":[\"euclidean\",\"manhattan\"]}\n",
    "\n",
    "classifier_param = [dt_param_grid,\n",
    "                   svc_param_grid,\n",
    "                   rf_param_grid,\n",
    "                   logreg_param_grid,\n",
    "                   knn_param_grid]"
   ]
  },
  {
   "cell_type": "code",
   "execution_count": null,
   "id": "52cddc59",
   "metadata": {},
   "outputs": [
    {
     "name": "stdout",
     "output_type": "stream",
     "text": [
      "Fitting 10 folds for each of 250 candidates, totalling 2500 fits\n",
      "0.843008864679379\n",
      "Fitting 10 folds for each of 28 candidates, totalling 280 fits\n"
     ]
    }
   ],
   "source": [
    "cv_result = []\n",
    "best_estimators = []\n",
    "for i in range(len(classifier)):\n",
    "    clf = GridSearchCV(classifier[i], param_grid=classifier_param[i], cv = StratifiedKFold(n_splits = 10), scoring = \"accuracy\", n_jobs = -1,verbose = 1)\n",
    "    clf.fit(X_train, y)\n",
    "    cv_result.append(clf.best_score_)\n",
    "    best_estimators.append(clf.best_estimator_)\n",
    "    print(cv_result[i])"
   ]
  },
  {
   "cell_type": "code",
   "execution_count": null,
   "id": "99cdac8b",
   "metadata": {},
   "outputs": [],
   "source": [
    "from sklearn.preprocessing import StandardScaler\n",
    "sc_X = StandardScaler()\n",
    "X_train = sc_X.fit_transform(X_train)\n",
    "X_test = sc_X.transform(X_test)"
   ]
  },
  {
   "cell_type": "code",
   "execution_count": null,
   "id": "b60b2ea8",
   "metadata": {},
   "outputs": [],
   "source": [
    "# inport Dummy Classifier for creating Base Model\n",
    "from sklearn.linear_model import LogisticRegression\n",
    "classifier_lr = LogisticRegression(random_state=0)\n",
    "finalModel_lr = Convert_Model(X_train,y_train,X_test,y_test,classifier_lr)"
   ]
  },
  {
   "cell_type": "code",
   "execution_count": null,
   "id": "ea143403",
   "metadata": {},
   "outputs": [],
   "source": [
    "# roc curve and auc on imbalanced dataset\n",
    "from sklearn.datasets import make_classification\n",
    "from sklearn.neighbors import KNeighborsClassifier\n",
    "from sklearn.model_selection import train_test_split\n",
    "from sklearn.metrics import roc_curve\n",
    "from sklearn.metrics import roc_auc_score\n",
    "from matplotlib import pyplot\n",
    "probs = finalModel_lr.predict_proba(X_test)\n",
    "# keep probabilities for the positive outcome only\n",
    "probs = probs[:, 1]\n",
    "# calculate AUC\n",
    "auc = roc_auc_score(y_test, probs)\n",
    "print('AUC: %.3f' % auc)\n",
    "# calculate roc curve\n",
    "fpr, tpr, thresholds = roc_curve(y_test, probs)\n",
    "# plot no skill\n",
    "pyplot.plot([0, 1], [0, 1], linestyle='--')\n",
    "# plot the precision-recall curve for the model\n",
    "pyplot.plot(fpr, tpr, marker='.')\n",
    "# show the plot\n",
    "pyplot.show()"
   ]
  },
  {
   "cell_type": "markdown",
   "id": "3ae60dd4",
   "metadata": {},
   "source": [
    "### Rastgele Sınıflandırıcısı"
   ]
  },
  {
   "cell_type": "code",
   "execution_count": null,
   "id": "4f875ac2",
   "metadata": {},
   "outputs": [],
   "source": [
    "import pandas as pd\n",
    "from sklearn.model_selection import train_test_split\n",
    "from sklearn.ensemble import RandomForestClassifier\n",
    "from sklearn.metrics import accuracy_score, recall_score, precision_score, f1_score\n",
    "import matplotlib.pyplot as plt\n",
    "import seaborn as sns\n",
    "# roc curve and auc on imbalanced dataset\n",
    "from sklearn.datasets import make_classification\n",
    "from sklearn.neighbors import KNeighborsClassifier\n",
    "from sklearn.model_selection import train_test_split\n",
    "from sklearn.metrics import roc_curve\n",
    "from sklearn.metrics import roc_auc_score\n",
    "from matplotlib import pyplot"
   ]
  },
  {
   "cell_type": "markdown",
   "id": "b854ad35",
   "metadata": {},
   "source": [
    "## Rastgele Sınıflandırıcı Eğitimi"
   ]
  },
  {
   "cell_type": "code",
   "execution_count": null,
   "id": "9b9ad8c1",
   "metadata": {},
   "outputs": [],
   "source": [
    "from sklearn.ensemble import GradientBoostingClassifier\n",
    "rfc = RandomForestClassifier(n_estimators=100)\n",
    "finalModel_rfc = Convert_Model(X_train,y_train,X_test,y_test,rfc)"
   ]
  },
  {
   "cell_type": "markdown",
   "id": "3964add6",
   "metadata": {},
   "source": [
    "## Test"
   ]
  },
  {
   "cell_type": "code",
   "execution_count": null,
   "id": "4f50f7e8",
   "metadata": {},
   "outputs": [],
   "source": [
    "probs = finalModel_rfc.predict_proba(X_test)\n",
    "# keep probabilities for the positive outcome only\n",
    "probs = probs[:, 1]\n",
    "# calculate AUC\n",
    "auc = roc_auc_score(y_test, probs)\n",
    "print('AUC: %.3f' % auc)\n",
    "# calculate roc curve\n",
    "fpr, tpr, thresholds = roc_curve(y_test, probs)\n",
    "# plot no skill\n",
    "pyplot.plot([0, 1], [0, 1], linestyle='--')\n",
    "# plot the precision-recall curve for the model\n",
    "pyplot.plot(fpr, tpr, marker='.')\n",
    "# show the plot\n",
    "pyplot.show()"
   ]
  },
  {
   "cell_type": "markdown",
   "id": "8628c011",
   "metadata": {},
   "source": [
    "## Özellik Önemi"
   ]
  },
  {
   "cell_type": "code",
   "execution_count": null,
   "id": "aa61c2e4",
   "metadata": {},
   "outputs": [],
   "source": [
    "data_clean.head()"
   ]
  },
  {
   "cell_type": "code",
   "execution_count": null,
   "id": "fd402136",
   "metadata": {},
   "outputs": [],
   "source": [
    "X = data_clean.drop('y', axis=1).values\n",
    "y = data_clean['y'].values\n",
    "pp=data_clean.drop('y', axis=1)\n",
    "x_train, x_test, Y_train, Y_test = train_test_split(X, y, test_size = 0.3, random_state=42)\n",
    "rfc = RandomForestClassifier(n_estimators=100)\n",
    "rfc.fit(X_train, y_train)\n",
    "feature_importances = pd.DataFrame(rfc.feature_importances_,index = pp.columns,columns=['importance']).sort_values('importance',ascending=False)"
   ]
  },
  {
   "cell_type": "code",
   "execution_count": null,
   "id": "00c495d6",
   "metadata": {},
   "outputs": [],
   "source": [
    "feature_importances"
   ]
  },
  {
   "cell_type": "markdown",
   "id": "803cbd09",
   "metadata": {},
   "source": [
    "## Destek Vektör Makinesi (DVM) Sınıflandırıcı"
   ]
  },
  {
   "cell_type": "code",
   "execution_count": null,
   "id": "797f779d",
   "metadata": {},
   "outputs": [],
   "source": [
    "import numpy as np\n",
    "import pandas as pd\n",
    "import matplotlib.pyplot as plt\n",
    "import seaborn as sns\n",
    "from sklearn.preprocessing import PolynomialFeatures, StandardScaler\n",
    "from sklearn.svm import LinearSVC\n",
    "from sklearn.svm import SVC\n",
    "from sklearn.model_selection import train_test_split\n",
    "from sklearn.model_selection import GridSearchCV"
   ]
  },
  {
   "cell_type": "markdown",
   "id": "38f61bfa",
   "metadata": {},
   "source": [
    "## 2 kat Çapraz Doğrulama puanına dayalı olarak DVM sınıflandırıcısı için en iyi parametreleri seçme"
   ]
  },
  {
   "cell_type": "code",
   "execution_count": null,
   "id": "da9fcc47",
   "metadata": {},
   "outputs": [],
   "source": [
    "tuned_parameters = [{'kernel': ['rbf'], 'gamma': [0.1], 'C': [1]},\n",
    "                    {'kernel': ['linear'], 'C': [1]}]"
   ]
  },
  {
   "cell_type": "code",
   "execution_count": null,
   "id": "f3a9deff",
   "metadata": {},
   "outputs": [],
   "source": [
    "clf = GridSearchCV(SVC(), tuned_parameters, cv=2, scoring='precision')"
   ]
  },
  {
   "cell_type": "code",
   "execution_count": null,
   "id": "b6650ed5",
   "metadata": {},
   "outputs": [],
   "source": [
    "finalModel_gb = Convert_Model(X_train,y_train,X_test,y_test,clf)"
   ]
  },
  {
   "cell_type": "code",
   "execution_count": null,
   "id": "700a77aa",
   "metadata": {},
   "outputs": [],
   "source": [
    "print('The best model is: ', finalModel_gb.best_params_)\n",
    "print('This model produces a mean cross-validated score (precision) of', finalModel_gb.best_score_)"
   ]
  },
  {
   "cell_type": "markdown",
   "id": "9ca203f0",
   "metadata": {},
   "source": [
    "## Test"
   ]
  },
  {
   "cell_type": "code",
   "execution_count": null,
   "id": "3a20ac91",
   "metadata": {},
   "outputs": [],
   "source": [
    "from sklearn.metrics import precision_score, accuracy_score, recall_score, f1_score\n",
    "y_true, y_pred = y_test, finalModel_gb.predict(X_test)\n",
    "pre1 = precision_score(y_true, y_pred)\n",
    "rec1 = recall_score(y_true, y_pred)\n",
    "acc1 = accuracy_score(y_true, y_pred)\n",
    "f1_1 = f1_score(y_true, y_pred)\n",
    "print('precision on the evaluation set: ', pre1)\n",
    "print('recall on the evaluation set: ', rec1)\n",
    "print('accuracy on the evaluation set: ', acc1)\n",
    "print(\"F1 on the evaluation set\",f1_1)"
   ]
  },
  {
   "cell_type": "code",
   "execution_count": null,
   "id": "6722a920",
   "metadata": {},
   "outputs": [],
   "source": [
    "# roc curve and auc on imbalanced dataset\n",
    "from sklearn.datasets import make_classification\n",
    "from sklearn.neighbors import KNeighborsClassifier\n",
    "from sklearn.model_selection import train_test_split\n",
    "from sklearn.metrics import roc_curve\n",
    "from sklearn.metrics import roc_auc_score\n",
    "from matplotlib import pyplot\n",
    "probs = finalModel_gb.predict(X_test)\n",
    "# keep probabilities for the positive outcome only\n",
    "\n",
    "# calculate AUC\n",
    "auc = roc_auc_score(y_test, probs)\n",
    "print('AUC: %.3f' % auc)\n",
    "# calculate roc curve\n",
    "fpr, tpr, thresholds = roc_curve(y_test, probs)\n",
    "# plot no skill\n",
    "pyplot.plot([0, 1], [0, 1], linestyle='--')\n",
    "# plot the precision-recall curve for the model\n",
    "pyplot.plot(fpr, tpr, marker='.')\n",
    "# show the plot\n",
    "pyplot.show()"
   ]
  },
  {
   "cell_type": "code",
   "execution_count": null,
   "id": "0fe204ef",
   "metadata": {},
   "outputs": [],
   "source": [
    "from matplotlib import pyplot as plt\n",
    "from sklearn import svm\n",
    "from matplotlib import pyplot as plt\n",
    "X = data_clean.drop('y', axis=1).values\n",
    "y = data_clean['y'].values\n",
    "pp=data_clean.drop('y', axis=1)\n",
    "x_train, x_test, Y_train, Y_test = train_test_split(X, y, test_size = 0.3, random_state=42)\n",
    "\n",
    "\n",
    "\n",
    "def f_importances(coef, names, top=-1):\n",
    "    imp = coef\n",
    "    imp, names = zip(*sorted(list(zip(imp, names))))\n",
    "\n",
    "    # Show all features\n",
    "    if top == -1:\n",
    "        top = len(names)\n",
    "\n",
    "    plt.barh(range(top), imp[::-1][0:top], align='center')\n",
    "    plt.yticks(range(top), names[::-1][0:top])\n",
    "    plt.show()\n",
    "\n",
    "# whatever your features are called\n",
    "features_names = ['age', 'default', 'housing', 'loan', 'campaign', 'pdays', 'previous',\n",
    "       'poutcome', 'emp.var.rate', 'cons.price.idx', 'cons.conf.idx',\n",
    "       'euribor3m', 'nr.employed', 'y', 'pdays2', 'job_admin.',\n",
    "       'job_blue-collar', 'job_entrepreneur', 'job_housemaid',\n",
    "       'job_management', 'job_retired', 'job_self-employed', 'job_services',\n",
    "       'job_student', 'job_technician', 'job_unemployed', 'job_unknown',\n",
    "       'marital_divorced', 'marital_married', 'marital_single',\n",
    "       'marital_unknown', 'education_basic.4y', 'education_basic.6y',\n",
    "       'education_basic.9y', 'education_high.school', 'education_illiterate',\n",
    "       'education_professional.course', 'education_university.degree',\n",
    "       'education_unknown', 'contact_cellular', 'contact_telephone',\n",
    "       'month_apr', 'month_aug', 'month_dec', 'month_jul', 'month_jun',\n",
    "       'month_mar', 'month_may', 'month_nov', 'month_oct', 'month_sep',\n",
    "       'day_of_week_fri', 'day_of_week_mon', 'day_of_week_thu',\n",
    "       'day_of_week_tue', 'day_of_week_wed'] \n",
    "svm = svm.SVC(kernel='linear')\n",
    "svm.fit(X_train, y_train)\n",
    "\n",
    "# Specify your top n features you want to visualize.\n",
    "# You can also discard teh abs() function \n",
    "# if you are interested in negative contribution of features\n",
    "f_importances(abs(svm.coef_[0]), features_names, top=10)"
   ]
  },
  {
   "cell_type": "markdown",
   "id": "6e5c9a0a",
   "metadata": {},
   "source": [
    "PCA Kullanarak Özellikleri Azaltma"
   ]
  },
  {
   "cell_type": "markdown",
   "id": "14f64ee5",
   "metadata": {},
   "source": [
    "## Classify the model using XGBClassifier"
   ]
  },
  {
   "cell_type": "code",
   "execution_count": null,
   "id": "e5cb599d",
   "metadata": {},
   "outputs": [],
   "source": [
    "from numpy import loadtxt\n",
    "from xgboost import XGBClassifier\n",
    "from sklearn.model_selection import train_test_split\n",
    "from sklearn.metrics import accuracy_score"
   ]
  },
  {
   "cell_type": "code",
   "execution_count": null,
   "id": "54343535",
   "metadata": {},
   "outputs": [],
   "source": [
    "# fit model no training data\n",
    "model = XGBClassifier()\n",
    "finalModel_XGB = Convert_Model(X_train,y_train,X_test,y_test,model)"
   ]
  },
  {
   "cell_type": "code",
   "execution_count": null,
   "id": "98a7876f",
   "metadata": {},
   "outputs": [],
   "source": [
    "#ROC curve\n",
    "from sklearn.metrics import roc_curve\n",
    "from sklearn.metrics import auc\n",
    "probs = finalModel_XGB.predict_proba(X_test)\n",
    "# keep probabilities for the positive outcome only\n",
    "probs = probs[:, 1]\n",
    "# calculate AUC\n",
    "auc = roc_auc_score(y_test, probs)\n",
    "print('AUC: %.3f' % auc)\n",
    "# calculate roc curve\n",
    "fpr, tpr, thresholds = roc_curve(y_test, probs)\n",
    "# plot no skill\n",
    "pyplot.plot([0, 1], [0, 1], linestyle='--')\n",
    "# plot the precision-recall curve for the model\n",
    "pyplot.plot(fpr, tpr, marker='.')\n",
    "# show the plot\n",
    "pyplot.show()"
   ]
  },
  {
   "cell_type": "code",
   "execution_count": null,
   "id": "8cbbbae3",
   "metadata": {},
   "outputs": [],
   "source": [
    "X = data_clean.drop('y', axis=1).values\n",
    "y = data_clean['y'].values\n",
    "pp=data_clean.drop('y', axis=1)\n",
    "x_train, x_test, Y_train, Y_test = train_test_split(X, y, test_size = 0.3, random_state=42)\n",
    "rmodel = XGBClassifier()\n",
    "rmodel.fit(X_train, y_train)\n",
    "feature_importances = pd.DataFrame(rmodel.feature_importances_,index = pp.columns,columns=['importance']).sort_values('importance',ascending=False)"
   ]
  },
  {
   "cell_type": "code",
   "execution_count": null,
   "id": "c32f751f",
   "metadata": {},
   "outputs": [],
   "source": [
    "feature_importances"
   ]
  },
  {
   "cell_type": "markdown",
   "id": "d491d469",
   "metadata": {},
   "source": [
    "## 3 katmanlı MLP Sınıflandırıcı"
   ]
  },
  {
   "cell_type": "code",
   "execution_count": null,
   "id": "a0545fb0",
   "metadata": {},
   "outputs": [],
   "source": [
    "from sklearn.neural_network import MLPClassifier\n",
    "from sklearn.metrics import accuracy_score\n",
    "seed = 7\n",
    "test_size = 0.33\n",
    "mlp = MLPClassifier(hidden_layer_sizes=(13,13,13),max_iter=500)\n",
    "mlp.fit(X_train,y_train)"
   ]
  },
  {
   "cell_type": "code",
   "execution_count": null,
   "id": "4a333300",
   "metadata": {},
   "outputs": [],
   "source": [
    "from sklearn.metrics import classification_report,confusion_matrix\n",
    "predictions = mlp.predict(X_test)\n",
    "#print the confusion matrix\n",
    "print(confusion_matrix(y_test,predictions))"
   ]
  },
  {
   "cell_type": "code",
   "execution_count": null,
   "id": "37c6e123",
   "metadata": {},
   "outputs": [],
   "source": [
    "#Print the classification report\n",
    "print(classification_report(y_test,predictions))"
   ]
  },
  {
   "cell_type": "code",
   "execution_count": null,
   "id": "70892bc0",
   "metadata": {},
   "outputs": [],
   "source": [
    "from sklearn.neural_network import MLPClassifier\n",
    "from sklearn.metrics import accuracy_score\n",
    "\n",
    "\n",
    "classifier_mlp = MLPClassifier(hidden_layer_sizes=(13,14,15 ) ,max_iter=500)\n",
    "finalModel_mlp = Convert_Model(X_train,y_train,X_test,y_test,classifier_mlp)"
   ]
  },
  {
   "cell_type": "code",
   "execution_count": null,
   "id": "52641958",
   "metadata": {},
   "outputs": [],
   "source": [
    "# roc curve and auc on imbalanced dataset\n",
    "from sklearn.datasets import make_classification\n",
    "from sklearn.neural_network import MLPClassifier\n",
    "from sklearn.metrics import roc_curve\n",
    "from sklearn.metrics import roc_auc_score\n",
    "from matplotlib import pyplot\n",
    "probs = finalModel_mlp.predict_proba(X_test)\n",
    "# keep probabilities for the positive outcome only\n",
    "probs = probs[:, 1]\n",
    "# calculate AUC\n",
    "auc = roc_auc_score(y_test, probs)\n",
    "print('AUC: %.3f' % auc)\n",
    "# calculate roc curve\n",
    "fpr, tpr, thresholds = roc_curve(y_test, probs)\n",
    "# plot no skill\n",
    "pyplot.plot([0, 1], [0, 1], linestyle='--')\n",
    "# plot the precision-recall curve for the model\n",
    "pyplot.plot(fpr, tpr, marker='.')\n",
    "# show the plot\n",
    "pyplot.show()"
   ]
  },
  {
   "cell_type": "markdown",
   "id": "8da50432",
   "metadata": {},
   "source": [
    "## 2 katmanlı MLP Sınıflandırıcı"
   ]
  },
  {
   "cell_type": "code",
   "execution_count": null,
   "id": "b71cfc49",
   "metadata": {},
   "outputs": [],
   "source": [
    "from sklearn.neural_network import MLPClassifier\n",
    "from sklearn.metrics import accuracy_score\n",
    "\n",
    "\n",
    "classifier_mlp = MLPClassifier(hidden_layer_sizes=(13,13 ) ,max_iter=500)\n",
    "finalModel_mlp = Convert_Model(X_train,y_train,X_test,y_test,classifier_mlp)"
   ]
  },
  {
   "cell_type": "code",
   "execution_count": null,
   "id": "45bd36e5",
   "metadata": {},
   "outputs": [],
   "source": [
    "# roc curve and auc on imbalanced dataset\n",
    "from sklearn.datasets import make_classification\n",
    "from sklearn.neural_network import MLPClassifier\n",
    "from sklearn.metrics import roc_curve\n",
    "from sklearn.metrics import roc_auc_score\n",
    "from matplotlib import pyplot\n",
    "probs = finalModel_mlp.predict_proba(X_test)\n",
    "# keep probabilities for the positive outcome only\n",
    "probs = probs[:, 1]\n",
    "# calculate AUC\n",
    "auc = roc_auc_score(y_test, probs)\n",
    "print('AUC: %.3f' % auc)\n",
    "# calculate roc curve\n",
    "fpr, tpr, thresholds = roc_curve(y_test, probs)\n",
    "# plot no skill\n",
    "pyplot.plot([0, 1], [0, 1], linestyle='--')\n",
    "# plot the precision-recall curve for the model\n",
    "pyplot.plot(fpr, tpr, marker='.')\n",
    "# show the plot\n",
    "pyplot.show()"
   ]
  },
  {
   "cell_type": "markdown",
   "id": "7fe465cf",
   "metadata": {},
   "source": [
    "## 1 katmanlı MLP Sınıflandırıcı"
   ]
  },
  {
   "cell_type": "code",
   "execution_count": null,
   "id": "faf50cb3",
   "metadata": {},
   "outputs": [],
   "source": [
    "from sklearn.neural_network import MLPClassifier\n",
    "from sklearn.metrics import accuracy_score\n",
    "\n",
    "\n",
    "classifier_mlp = MLPClassifier(hidden_layer_sizes=(13 ) ,max_iter=500)\n",
    "finalModel_mlp = Convert_Model(X_train,y_train,X_test,y_test,classifier_mlp)"
   ]
  },
  {
   "cell_type": "code",
   "execution_count": null,
   "id": "a1edce1b",
   "metadata": {},
   "outputs": [],
   "source": [
    "# roc curve and auc on imbalanced dataset\n",
    "from sklearn.datasets import make_classification\n",
    "from sklearn.neural_network import MLPClassifier\n",
    "from sklearn.metrics import roc_curve\n",
    "from sklearn.metrics import roc_auc_score\n",
    "from matplotlib import pyplot\n",
    "probs = finalModel_mlp.predict_proba(X_test)\n",
    "# keep probabilities for the positive outcome only\n",
    "probs = probs[:, 1]\n",
    "# calculate AUC\n",
    "auc = roc_auc_score(y_test, probs)\n",
    "print('AUC: %.3f' % auc)\n",
    "# calculate roc curve\n",
    "fpr, tpr, thresholds = roc_curve(y_test, probs)\n",
    "# plot no skill\n",
    "pyplot.plot([0, 1], [0, 1], linestyle='--')\n",
    "# plot the precision-recall curve for the model\n",
    "pyplot.plot(fpr, tpr, marker='.')\n",
    "# show the plot\n",
    "pyplot.show()"
   ]
  },
  {
   "cell_type": "code",
   "execution_count": null,
   "id": "aee332b3",
   "metadata": {},
   "outputs": [],
   "source": [
    "#by balcing y output\n",
    "# After standardization our f1 score and auc percentage increases\n",
    "from prettytable import PrettyTable    \n",
    "x = PrettyTable()\n",
    " \n",
    "x.field_names = [\"MODEL\", \"ACCURACY_score\",\"precision_score\",\"Recall_score\",\"F1 score\",\"AUC\"]\n",
    "x.add_row([\"Dummy classifer\",0.50, 0.50,1,0.66,\"NAN\"])\n",
    "x.add_row([\"Logistic Regression)\", 0.73, 0.80,0.62,0.70,0.78])\n",
    "x.add_row([\"Random Forest\",0.65, 0.85,0.38,0.52,0.766])\n",
    "x.add_row([\"SVM classifier\",0.73, 0.82,0.60,0.69,0.73])\n",
    "x.add_row([\"XGB boost\",0.74, 0.81,0.63,0.71,0.798])\n",
    "x.add_row([\"MLP  classifier with 3 layers\",0.70, 0.74,0.61,0.67,0.745])\n",
    "x.add_row([\"MLP classifier with 2 layers\",0.70, 0.75,0.61,0.68,0.76])\n",
    "x.add_row([\"MLP classifier 1 layers\",0.72, 0.78,0.62,0.693,0.766])\n",
    "\n",
    "print('Bank Marketing')\n",
    "print(x)"
   ]
  },
  {
   "cell_type": "code",
   "execution_count": null,
   "id": "3a1d8e19",
   "metadata": {},
   "outputs": [],
   "source": []
  }
 ],
 "metadata": {
  "kernelspec": {
   "display_name": "Python 3 (ipykernel)",
   "language": "python",
   "name": "python3"
  },
  "language_info": {
   "codemirror_mode": {
    "name": "ipython",
    "version": 3
   },
   "file_extension": ".py",
   "mimetype": "text/x-python",
   "name": "python",
   "nbconvert_exporter": "python",
   "pygments_lexer": "ipython3",
   "version": "3.8.12"
  }
 },
 "nbformat": 4,
 "nbformat_minor": 5
}
